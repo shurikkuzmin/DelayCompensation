{
 "cells": [
  {
   "cell_type": "markdown",
   "metadata": {},
   "source": [
    "# This is to find any necessary correlations for case processing"
   ]
  },
  {
   "cell_type": "code",
   "execution_count": 1,
   "metadata": {
    "collapsed": false
   },
   "outputs": [
    {
     "name": "stdout",
     "output_type": "stream",
     "text": [
      "Populating the interactive namespace from numpy and matplotlib\n"
     ]
    }
   ],
   "source": [
    "import pandas\n",
    "%pylab inline\n",
    "import numpy"
   ]
  },
  {
   "cell_type": "markdown",
   "metadata": {},
   "source": [
    "### Load the file"
   ]
  },
  {
   "cell_type": "code",
   "execution_count": 2,
   "metadata": {
    "collapsed": false
   },
   "outputs": [],
   "source": [
    "csv = pandas.read_excel(\"table_clean.xlsx\")"
   ]
  },
  {
   "cell_type": "code",
   "execution_count": 3,
   "metadata": {
    "collapsed": false
   },
   "outputs": [
    {
     "data": {
      "text/html": [
       "<div>\n",
       "<table border=\"1\" class=\"dataframe\">\n",
       "  <thead>\n",
       "    <tr style=\"text-align: right;\">\n",
       "      <th></th>\n",
       "      <th>Case</th>\n",
       "      <th>Years</th>\n",
       "      <th>Position</th>\n",
       "      <th>Age</th>\n",
       "      <th>Salary</th>\n",
       "      <th>Delay</th>\n",
       "      <th>Damage</th>\n",
       "      <th>Difficulty</th>\n",
       "      <th>Job type</th>\n",
       "    </tr>\n",
       "  </thead>\n",
       "  <tbody>\n",
       "    <tr>\n",
       "      <th>0</th>\n",
       "      <td>Drolet c. Re/Max Québec inc., 2006\\nQCCS 1990</td>\n",
       "      <td>15.00</td>\n",
       "      <td>4</td>\n",
       "      <td>53</td>\n",
       "      <td>171760.00</td>\n",
       "      <td>20.0</td>\n",
       "      <td>338028.67</td>\n",
       "      <td>NaN</td>\n",
       "      <td>NaN</td>\n",
       "    </tr>\n",
       "    <tr>\n",
       "      <th>1</th>\n",
       "      <td>Benoît c. Groupe DMR Inc., 2004 CanLII 610; Gr...</td>\n",
       "      <td>15.00</td>\n",
       "      <td>2</td>\n",
       "      <td>51</td>\n",
       "      <td>188000.00</td>\n",
       "      <td>24.0</td>\n",
       "      <td>501659.05</td>\n",
       "      <td>NaN</td>\n",
       "      <td>NaN</td>\n",
       "    </tr>\n",
       "    <tr>\n",
       "      <th>2</th>\n",
       "      <td>Arcand c. Denharco inc. (C.S., 1996-06-07)</td>\n",
       "      <td>18.00</td>\n",
       "      <td>3</td>\n",
       "      <td>48</td>\n",
       "      <td>113230.00</td>\n",
       "      <td>15.0</td>\n",
       "      <td>167761.40</td>\n",
       "      <td>NaN</td>\n",
       "      <td>NaN</td>\n",
       "    </tr>\n",
       "    <tr>\n",
       "      <th>3</th>\n",
       "      <td>Kugler c. IBM Canada Limited, 2016 QCCS 6576</td>\n",
       "      <td>20.00</td>\n",
       "      <td>4</td>\n",
       "      <td>49</td>\n",
       "      <td>438137.00</td>\n",
       "      <td>20.0</td>\n",
       "      <td>525660.23</td>\n",
       "      <td>NaN</td>\n",
       "      <td>NaN</td>\n",
       "    </tr>\n",
       "    <tr>\n",
       "      <th>4</th>\n",
       "      <td>Aksich c. Canadian Pacific Railway, 2006 QCCA 931</td>\n",
       "      <td>20.00</td>\n",
       "      <td>2</td>\n",
       "      <td>51</td>\n",
       "      <td>120000.00</td>\n",
       "      <td>24.0</td>\n",
       "      <td>216114.25</td>\n",
       "      <td>NaN</td>\n",
       "      <td>NaN</td>\n",
       "    </tr>\n",
       "    <tr>\n",
       "      <th>5</th>\n",
       "      <td>Morgan c. Atwater Badminton and Squash Club In...</td>\n",
       "      <td>17.00</td>\n",
       "      <td>1</td>\n",
       "      <td>47</td>\n",
       "      <td>60000.00</td>\n",
       "      <td>24.0</td>\n",
       "      <td>110581.41</td>\n",
       "      <td>NaN</td>\n",
       "      <td>NaN</td>\n",
       "    </tr>\n",
       "    <tr>\n",
       "      <th>6</th>\n",
       "      <td>Melanson c. Groupe Cantrex Nationwide, 2014 QC...</td>\n",
       "      <td>12.00</td>\n",
       "      <td>3</td>\n",
       "      <td>57</td>\n",
       "      <td>137225.00</td>\n",
       "      <td>15.0</td>\n",
       "      <td>220578.27</td>\n",
       "      <td>NaN</td>\n",
       "      <td>NaN</td>\n",
       "    </tr>\n",
       "    <tr>\n",
       "      <th>7</th>\n",
       "      <td>Longueuil Nissan c. Charbonneau, 2008 QCCA 363</td>\n",
       "      <td>3.50</td>\n",
       "      <td>2</td>\n",
       "      <td>41</td>\n",
       "      <td>97468.88</td>\n",
       "      <td>5.0</td>\n",
       "      <td>40620.00</td>\n",
       "      <td>NaN</td>\n",
       "      <td>NaN</td>\n",
       "    </tr>\n",
       "    <tr>\n",
       "      <th>8</th>\n",
       "      <td>Léger. c. Garage Technology Ventures Canada, l...</td>\n",
       "      <td>5.00</td>\n",
       "      <td>4</td>\n",
       "      <td>59</td>\n",
       "      <td>150000.00</td>\n",
       "      <td>12.0</td>\n",
       "      <td>150000.00</td>\n",
       "      <td>High</td>\n",
       "      <td>NaN</td>\n",
       "    </tr>\n",
       "    <tr>\n",
       "      <th>9</th>\n",
       "      <td>N.D. c. Promutuel Prairie-Valmont, société mut...</td>\n",
       "      <td>3.50</td>\n",
       "      <td>3</td>\n",
       "      <td>58</td>\n",
       "      <td>65000.00</td>\n",
       "      <td>10.0</td>\n",
       "      <td>65630.00</td>\n",
       "      <td>High</td>\n",
       "      <td>NaN</td>\n",
       "    </tr>\n",
       "    <tr>\n",
       "      <th>10</th>\n",
       "      <td>Bérard c. Compagnie Beaulieu Canada, 2011 QCCS...</td>\n",
       "      <td>4.00</td>\n",
       "      <td>3</td>\n",
       "      <td>52</td>\n",
       "      <td>140734.98</td>\n",
       "      <td>12.0</td>\n",
       "      <td>128234.98</td>\n",
       "      <td>High</td>\n",
       "      <td>NaN</td>\n",
       "    </tr>\n",
       "    <tr>\n",
       "      <th>11</th>\n",
       "      <td>Cimatec Environmental Engineering Inc. c. Aude...</td>\n",
       "      <td>6.00</td>\n",
       "      <td>4</td>\n",
       "      <td>53</td>\n",
       "      <td>60000.00</td>\n",
       "      <td>12.0</td>\n",
       "      <td>75000.00</td>\n",
       "      <td>High</td>\n",
       "      <td>NaN</td>\n",
       "    </tr>\n",
       "    <tr>\n",
       "      <th>12</th>\n",
       "      <td>Schiller c. Samcon inc., 2011 QCCS 4620</td>\n",
       "      <td>4.00</td>\n",
       "      <td>3</td>\n",
       "      <td>59</td>\n",
       "      <td>208329.00</td>\n",
       "      <td>12.0</td>\n",
       "      <td>128329.00</td>\n",
       "      <td>Medium</td>\n",
       "      <td>NaN</td>\n",
       "    </tr>\n",
       "    <tr>\n",
       "      <th>13</th>\n",
       "      <td>Jerome c. Listuguj Mi'Gmaq First Nation Govern...</td>\n",
       "      <td>4.00</td>\n",
       "      <td>4</td>\n",
       "      <td>50</td>\n",
       "      <td>72744.00</td>\n",
       "      <td>10.0</td>\n",
       "      <td>70668.77</td>\n",
       "      <td>High</td>\n",
       "      <td>NaN</td>\n",
       "    </tr>\n",
       "    <tr>\n",
       "      <th>14</th>\n",
       "      <td>Credifinance Securities Ltd c. Câble Satisfact...</td>\n",
       "      <td>1.00</td>\n",
       "      <td>4</td>\n",
       "      <td>54</td>\n",
       "      <td>250000.00</td>\n",
       "      <td>12.0</td>\n",
       "      <td>260000.00</td>\n",
       "      <td>high</td>\n",
       "      <td>NaN</td>\n",
       "    </tr>\n",
       "    <tr>\n",
       "      <th>15</th>\n",
       "      <td>Barbeau c. 1312316 Ontario Inc., 2002 CanLII 2...</td>\n",
       "      <td>6.00</td>\n",
       "      <td>2</td>\n",
       "      <td>43</td>\n",
       "      <td>51600.00</td>\n",
       "      <td>8.0</td>\n",
       "      <td>46680.00</td>\n",
       "      <td>medium</td>\n",
       "      <td>NaN</td>\n",
       "    </tr>\n",
       "    <tr>\n",
       "      <th>16</th>\n",
       "      <td>Mulhearn v. Bombardier Inc., 2001 CanLII 24901</td>\n",
       "      <td>20.00</td>\n",
       "      <td>2</td>\n",
       "      <td>32</td>\n",
       "      <td>67300.00</td>\n",
       "      <td>5.3</td>\n",
       "      <td>19000.00</td>\n",
       "      <td>low</td>\n",
       "      <td>NaN</td>\n",
       "    </tr>\n",
       "    <tr>\n",
       "      <th>17</th>\n",
       "      <td>Bill Sayer Sales Agency Inc. v. Schmidt Printi...</td>\n",
       "      <td>35.00</td>\n",
       "      <td>1</td>\n",
       "      <td>65</td>\n",
       "      <td>141800.00</td>\n",
       "      <td>24.0</td>\n",
       "      <td>283600.00</td>\n",
       "      <td>high</td>\n",
       "      <td>NaN</td>\n",
       "    </tr>\n",
       "    <tr>\n",
       "      <th>18</th>\n",
       "      <td>Ben-Hamadi c. Musitechnic Services éducatifs I...</td>\n",
       "      <td>8.00</td>\n",
       "      <td>4</td>\n",
       "      <td>50</td>\n",
       "      <td>138725.00</td>\n",
       "      <td>18.0</td>\n",
       "      <td>258089.00</td>\n",
       "      <td>high</td>\n",
       "      <td>NaN</td>\n",
       "    </tr>\n",
       "    <tr>\n",
       "      <th>19</th>\n",
       "      <td>Trudeau c. Pépin, Létourneau, S. E. N. C., 200...</td>\n",
       "      <td>31.00</td>\n",
       "      <td>1</td>\n",
       "      <td>48</td>\n",
       "      <td>55000.00</td>\n",
       "      <td>24.0</td>\n",
       "      <td>80000.00</td>\n",
       "      <td>high</td>\n",
       "      <td>adjoint à l'associé directeur</td>\n",
       "    </tr>\n",
       "    <tr>\n",
       "      <th>20</th>\n",
       "      <td>Shire Biochem Inc. c. King, 2003 CanLII 10770 ...</td>\n",
       "      <td>0.80</td>\n",
       "      <td>2</td>\n",
       "      <td>46</td>\n",
       "      <td>125000.00</td>\n",
       "      <td>12.0</td>\n",
       "      <td>128421.07</td>\n",
       "      <td>high</td>\n",
       "      <td>cancer biology research</td>\n",
       "    </tr>\n",
       "    <tr>\n",
       "      <th>21</th>\n",
       "      <td>Bouchard c. Batteries Électriques Gagnon Inc.,...</td>\n",
       "      <td>0.25</td>\n",
       "      <td>3</td>\n",
       "      <td>43</td>\n",
       "      <td>88000.00</td>\n",
       "      <td>9.5</td>\n",
       "      <td>46273.00</td>\n",
       "      <td>medium</td>\n",
       "      <td>vente de pièces d'automobiles</td>\n",
       "    </tr>\n",
       "    <tr>\n",
       "      <th>22</th>\n",
       "      <td>Ciampanelli c. Syndicat du vêtement, du textil...</td>\n",
       "      <td>33.00</td>\n",
       "      <td>4</td>\n",
       "      <td>56</td>\n",
       "      <td>104570.00</td>\n",
       "      <td>18.0</td>\n",
       "      <td>156855.00</td>\n",
       "      <td>high</td>\n",
       "      <td>syndicat</td>\n",
       "    </tr>\n",
       "    <tr>\n",
       "      <th>23</th>\n",
       "      <td>McBrearty c. Cerescorp Company, 2009 QCCS 3134</td>\n",
       "      <td>39.00</td>\n",
       "      <td>4</td>\n",
       "      <td>69</td>\n",
       "      <td>301345.00</td>\n",
       "      <td>24.0</td>\n",
       "      <td>1260100.00</td>\n",
       "      <td>high</td>\n",
       "      <td>port terminal operations and stevedoring</td>\n",
       "    </tr>\n",
       "    <tr>\n",
       "      <th>24</th>\n",
       "      <td>Canadian Jewish Congress c. Polger, 2011 QCCA ...</td>\n",
       "      <td>36.00</td>\n",
       "      <td>2</td>\n",
       "      <td>61</td>\n",
       "      <td>50254.00</td>\n",
       "      <td>24.0</td>\n",
       "      <td>105202.00</td>\n",
       "      <td>high</td>\n",
       "      <td>Chief Book-keeper</td>\n",
       "    </tr>\n",
       "    <tr>\n",
       "      <th>25</th>\n",
       "      <td>Canadian Jewish Congress c. Polger, 2011 QCCA ...</td>\n",
       "      <td>25.00</td>\n",
       "      <td>3</td>\n",
       "      <td>54</td>\n",
       "      <td>152682.00</td>\n",
       "      <td>24.0</td>\n",
       "      <td>315168.00</td>\n",
       "      <td>high</td>\n",
       "      <td>directeur des finances</td>\n",
       "    </tr>\n",
       "    <tr>\n",
       "      <th>26</th>\n",
       "      <td>Murat c. Construction DJL inc., 2015 QCCS 3242</td>\n",
       "      <td>0.85</td>\n",
       "      <td>4</td>\n",
       "      <td>58</td>\n",
       "      <td>276923.04</td>\n",
       "      <td>12.0</td>\n",
       "      <td>207692.28</td>\n",
       "      <td>high</td>\n",
       "      <td>gérer les filiales et de voir à des acquisitions</td>\n",
       "    </tr>\n",
       "    <tr>\n",
       "      <th>27</th>\n",
       "      <td>Blais c. Aéroport de Québec inc., 2016 QCCS 1563</td>\n",
       "      <td>1.00</td>\n",
       "      <td>2</td>\n",
       "      <td>54</td>\n",
       "      <td>118450.00</td>\n",
       "      <td>12.0</td>\n",
       "      <td>153278.87</td>\n",
       "      <td>high</td>\n",
       "      <td>contrôleur finance et construction</td>\n",
       "    </tr>\n",
       "    <tr>\n",
       "      <th>28</th>\n",
       "      <td>Rippeur c. Société canadienne des postes, 2016...</td>\n",
       "      <td>33.00</td>\n",
       "      <td>2</td>\n",
       "      <td>50</td>\n",
       "      <td>86987.00</td>\n",
       "      <td>24.0</td>\n",
       "      <td>262700.00</td>\n",
       "      <td>high</td>\n",
       "      <td>gestionnaire des opérations, levée et livraiso...</td>\n",
       "    </tr>\n",
       "  </tbody>\n",
       "</table>\n",
       "</div>"
      ],
      "text/plain": [
       "                                                 Case  Years  Position  Age  \\\n",
       "0       Drolet c. Re/Max Québec inc., 2006\\nQCCS 1990  15.00         4   53   \n",
       "1   Benoît c. Groupe DMR Inc., 2004 CanLII 610; Gr...  15.00         2   51   \n",
       "2          Arcand c. Denharco inc. (C.S., 1996-06-07)  18.00         3   48   \n",
       "3        Kugler c. IBM Canada Limited, 2016 QCCS 6576  20.00         4   49   \n",
       "4   Aksich c. Canadian Pacific Railway, 2006 QCCA 931  20.00         2   51   \n",
       "5   Morgan c. Atwater Badminton and Squash Club In...  17.00         1   47   \n",
       "6   Melanson c. Groupe Cantrex Nationwide, 2014 QC...  12.00         3   57   \n",
       "7      Longueuil Nissan c. Charbonneau, 2008 QCCA 363   3.50         2   41   \n",
       "8   Léger. c. Garage Technology Ventures Canada, l...   5.00         4   59   \n",
       "9   N.D. c. Promutuel Prairie-Valmont, société mut...   3.50         3   58   \n",
       "10  Bérard c. Compagnie Beaulieu Canada, 2011 QCCS...   4.00         3   52   \n",
       "11  Cimatec Environmental Engineering Inc. c. Aude...   6.00         4   53   \n",
       "12            Schiller c. Samcon inc., 2011 QCCS 4620   4.00         3   59   \n",
       "13  Jerome c. Listuguj Mi'Gmaq First Nation Govern...   4.00         4   50   \n",
       "14  Credifinance Securities Ltd c. Câble Satisfact...   1.00         4   54   \n",
       "15  Barbeau c. 1312316 Ontario Inc., 2002 CanLII 2...   6.00         2   43   \n",
       "16     Mulhearn v. Bombardier Inc., 2001 CanLII 24901  20.00         2   32   \n",
       "17  Bill Sayer Sales Agency Inc. v. Schmidt Printi...  35.00         1   65   \n",
       "18  Ben-Hamadi c. Musitechnic Services éducatifs I...   8.00         4   50   \n",
       "19  Trudeau c. Pépin, Létourneau, S. E. N. C., 200...  31.00         1   48   \n",
       "20  Shire Biochem Inc. c. King, 2003 CanLII 10770 ...   0.80         2   46   \n",
       "21  Bouchard c. Batteries Électriques Gagnon Inc.,...   0.25         3   43   \n",
       "22  Ciampanelli c. Syndicat du vêtement, du textil...  33.00         4   56   \n",
       "23     McBrearty c. Cerescorp Company, 2009 QCCS 3134  39.00         4   69   \n",
       "24  Canadian Jewish Congress c. Polger, 2011 QCCA ...  36.00         2   61   \n",
       "25  Canadian Jewish Congress c. Polger, 2011 QCCA ...  25.00         3   54   \n",
       "26    Murat c. Construction DJL inc., 2015 QCCS 3242    0.85         4   58   \n",
       "27   Blais c. Aéroport de Québec inc., 2016 QCCS 1563   1.00         2   54   \n",
       "28  Rippeur c. Société canadienne des postes, 2016...  33.00         2   50   \n",
       "\n",
       "       Salary  Delay      Damage Difficulty  \\\n",
       "0   171760.00   20.0   338028.67        NaN   \n",
       "1   188000.00   24.0   501659.05        NaN   \n",
       "2   113230.00   15.0   167761.40        NaN   \n",
       "3   438137.00   20.0   525660.23        NaN   \n",
       "4   120000.00   24.0   216114.25        NaN   \n",
       "5    60000.00   24.0   110581.41        NaN   \n",
       "6   137225.00   15.0   220578.27        NaN   \n",
       "7    97468.88    5.0    40620.00        NaN   \n",
       "8   150000.00   12.0   150000.00       High   \n",
       "9    65000.00   10.0    65630.00       High   \n",
       "10  140734.98   12.0   128234.98       High   \n",
       "11   60000.00   12.0    75000.00       High   \n",
       "12  208329.00   12.0   128329.00     Medium   \n",
       "13   72744.00   10.0    70668.77       High   \n",
       "14  250000.00   12.0   260000.00       high   \n",
       "15   51600.00    8.0    46680.00     medium   \n",
       "16   67300.00    5.3    19000.00        low   \n",
       "17  141800.00   24.0   283600.00       high   \n",
       "18  138725.00   18.0   258089.00       high   \n",
       "19   55000.00   24.0    80000.00       high   \n",
       "20  125000.00   12.0   128421.07       high   \n",
       "21   88000.00    9.5    46273.00     medium   \n",
       "22  104570.00   18.0   156855.00       high   \n",
       "23  301345.00   24.0  1260100.00       high   \n",
       "24   50254.00   24.0   105202.00       high   \n",
       "25  152682.00   24.0   315168.00       high   \n",
       "26  276923.04   12.0   207692.28       high   \n",
       "27  118450.00   12.0   153278.87       high   \n",
       "28   86987.00   24.0   262700.00       high   \n",
       "\n",
       "                                             Job type  \n",
       "0                                                 NaN  \n",
       "1                                                 NaN  \n",
       "2                                                 NaN  \n",
       "3                                                 NaN  \n",
       "4                                                 NaN  \n",
       "5                                                 NaN  \n",
       "6                                                 NaN  \n",
       "7                                                 NaN  \n",
       "8                                                 NaN  \n",
       "9                                                 NaN  \n",
       "10                                                NaN  \n",
       "11                                                NaN  \n",
       "12                                                NaN  \n",
       "13                                                NaN  \n",
       "14                                                NaN  \n",
       "15                                                NaN  \n",
       "16                                                NaN  \n",
       "17                                                NaN  \n",
       "18                                                NaN  \n",
       "19                      adjoint à l'associé directeur  \n",
       "20                            cancer biology research  \n",
       "21                      vente de pièces d'automobiles  \n",
       "22                                           syndicat  \n",
       "23           port terminal operations and stevedoring  \n",
       "24                                  Chief Book-keeper  \n",
       "25                             directeur des finances  \n",
       "26   gérer les filiales et de voir à des acquisitions  \n",
       "27                 contrôleur finance et construction  \n",
       "28  gestionnaire des opérations, levée et livraiso...  "
      ]
     },
     "execution_count": 3,
     "metadata": {},
     "output_type": "execute_result"
    }
   ],
   "source": [
    "csv"
   ]
  },
  {
   "cell_type": "code",
   "execution_count": 5,
   "metadata": {
    "collapsed": false
   },
   "outputs": [
    {
     "name": "stdout",
     "output_type": "stream",
     "text": [
      "(29, 9)\n"
     ]
    }
   ],
   "source": [
    "print(csv.shape)"
   ]
  },
  {
   "cell_type": "code",
   "execution_count": 6,
   "metadata": {
    "collapsed": false
   },
   "outputs": [
    {
     "name": "stdout",
     "output_type": "stream",
     "text": [
      "Index(['Case', 'Years', 'Position', 'Age', 'Salary', 'Delay', 'Damage',\n",
      "       'Difficulty', 'Job type'],\n",
      "      dtype='object')\n"
     ]
    }
   ],
   "source": [
    "print(csv.columns)"
   ]
  },
  {
   "cell_type": "code",
   "execution_count": 7,
   "metadata": {
    "collapsed": false
   },
   "outputs": [
    {
     "name": "stdout",
     "output_type": "stream",
     "text": [
      "<class 'pandas.core.frame.DataFrame'>\n",
      "RangeIndex: 29 entries, 0 to 28\n",
      "Data columns (total 9 columns):\n",
      "Case          29 non-null object\n",
      "Years         29 non-null float64\n",
      "Position      29 non-null int64\n",
      "Age           29 non-null int64\n",
      "Salary        29 non-null float64\n",
      "Delay         29 non-null float64\n",
      "Damage        29 non-null float64\n",
      "Difficulty    21 non-null object\n",
      "Job type      10 non-null object\n",
      "dtypes: float64(4), int64(2), object(3)\n",
      "memory usage: 2.1+ KB\n",
      "None\n"
     ]
    }
   ],
   "source": [
    "print(csv.info())"
   ]
  },
  {
   "cell_type": "code",
   "execution_count": 8,
   "metadata": {
    "collapsed": false
   },
   "outputs": [
    {
     "data": {
      "text/plain": [
       "0     171760.00\n",
       "1     188000.00\n",
       "2     113230.00\n",
       "3     438137.00\n",
       "4     120000.00\n",
       "5      60000.00\n",
       "6     137225.00\n",
       "7      97468.88\n",
       "8     150000.00\n",
       "9      65000.00\n",
       "10    140734.98\n",
       "11     60000.00\n",
       "12    208329.00\n",
       "13     72744.00\n",
       "14    250000.00\n",
       "15     51600.00\n",
       "16     67300.00\n",
       "17    141800.00\n",
       "18    138725.00\n",
       "19     55000.00\n",
       "20    125000.00\n",
       "21     88000.00\n",
       "22    104570.00\n",
       "23    301345.00\n",
       "24     50254.00\n",
       "25    152682.00\n",
       "26    276923.04\n",
       "27    118450.00\n",
       "28     86987.00\n",
       "Name: Salary, dtype: float64"
      ]
     },
     "execution_count": 8,
     "metadata": {},
     "output_type": "execute_result"
    }
   ],
   "source": [
    "csv[\"Salary\"]"
   ]
  },
  {
   "cell_type": "code",
   "execution_count": 9,
   "metadata": {
    "collapsed": false
   },
   "outputs": [
    {
     "data": {
      "text/html": [
       "<div>\n",
       "<table border=\"1\" class=\"dataframe\">\n",
       "  <thead>\n",
       "    <tr style=\"text-align: right;\">\n",
       "      <th></th>\n",
       "      <th>Years</th>\n",
       "      <th>Position</th>\n",
       "      <th>Age</th>\n",
       "      <th>Salary</th>\n",
       "      <th>Delay</th>\n",
       "      <th>Damage</th>\n",
       "    </tr>\n",
       "  </thead>\n",
       "  <tbody>\n",
       "    <tr>\n",
       "      <th>count</th>\n",
       "      <td>29.000000</td>\n",
       "      <td>29.000000</td>\n",
       "      <td>29.000000</td>\n",
       "      <td>29.000000</td>\n",
       "      <td>29.000000</td>\n",
       "      <td>2.900000e+01</td>\n",
       "    </tr>\n",
       "    <tr>\n",
       "      <th>mean</th>\n",
       "      <td>14.375862</td>\n",
       "      <td>2.827586</td>\n",
       "      <td>52.103448</td>\n",
       "      <td>139009.134483</td>\n",
       "      <td>16.062069</td>\n",
       "      <td>2.179974e+05</td>\n",
       "    </tr>\n",
       "    <tr>\n",
       "      <th>std</th>\n",
       "      <td>12.616073</td>\n",
       "      <td>1.037475</td>\n",
       "      <td>7.470632</td>\n",
       "      <td>87771.003623</td>\n",
       "      <td>6.435472</td>\n",
       "      <td>2.369832e+05</td>\n",
       "    </tr>\n",
       "    <tr>\n",
       "      <th>min</th>\n",
       "      <td>0.250000</td>\n",
       "      <td>1.000000</td>\n",
       "      <td>32.000000</td>\n",
       "      <td>50254.000000</td>\n",
       "      <td>5.000000</td>\n",
       "      <td>1.900000e+04</td>\n",
       "    </tr>\n",
       "    <tr>\n",
       "      <th>25%</th>\n",
       "      <td>4.000000</td>\n",
       "      <td>2.000000</td>\n",
       "      <td>48.000000</td>\n",
       "      <td>72744.000000</td>\n",
       "      <td>12.000000</td>\n",
       "      <td>8.000000e+04</td>\n",
       "    </tr>\n",
       "    <tr>\n",
       "      <th>50%</th>\n",
       "      <td>12.000000</td>\n",
       "      <td>3.000000</td>\n",
       "      <td>52.000000</td>\n",
       "      <td>120000.000000</td>\n",
       "      <td>15.000000</td>\n",
       "      <td>1.532789e+05</td>\n",
       "    </tr>\n",
       "    <tr>\n",
       "      <th>75%</th>\n",
       "      <td>20.000000</td>\n",
       "      <td>4.000000</td>\n",
       "      <td>57.000000</td>\n",
       "      <td>152682.000000</td>\n",
       "      <td>24.000000</td>\n",
       "      <td>2.600000e+05</td>\n",
       "    </tr>\n",
       "    <tr>\n",
       "      <th>max</th>\n",
       "      <td>39.000000</td>\n",
       "      <td>4.000000</td>\n",
       "      <td>69.000000</td>\n",
       "      <td>438137.000000</td>\n",
       "      <td>24.000000</td>\n",
       "      <td>1.260100e+06</td>\n",
       "    </tr>\n",
       "  </tbody>\n",
       "</table>\n",
       "</div>"
      ],
      "text/plain": [
       "           Years   Position        Age         Salary      Delay        Damage\n",
       "count  29.000000  29.000000  29.000000      29.000000  29.000000  2.900000e+01\n",
       "mean   14.375862   2.827586  52.103448  139009.134483  16.062069  2.179974e+05\n",
       "std    12.616073   1.037475   7.470632   87771.003623   6.435472  2.369832e+05\n",
       "min     0.250000   1.000000  32.000000   50254.000000   5.000000  1.900000e+04\n",
       "25%     4.000000   2.000000  48.000000   72744.000000  12.000000  8.000000e+04\n",
       "50%    12.000000   3.000000  52.000000  120000.000000  15.000000  1.532789e+05\n",
       "75%    20.000000   4.000000  57.000000  152682.000000  24.000000  2.600000e+05\n",
       "max    39.000000   4.000000  69.000000  438137.000000  24.000000  1.260100e+06"
      ]
     },
     "execution_count": 9,
     "metadata": {},
     "output_type": "execute_result"
    }
   ],
   "source": [
    "csv.describe()"
   ]
  },
  {
   "cell_type": "code",
   "execution_count": 10,
   "metadata": {
    "collapsed": true
   },
   "outputs": [],
   "source": [
    "import seaborn"
   ]
  },
  {
   "cell_type": "code",
   "execution_count": 12,
   "metadata": {
    "collapsed": false
   },
   "outputs": [
    {
     "data": {
      "text/plain": [
       "<seaborn.axisgrid.PairGrid at 0x11036fa90>"
      ]
     },
     "execution_count": 12,
     "metadata": {},
     "output_type": "execute_result"
    },
    {
     "data": {
      "image/png": "[encoded data removed]",
      "text/plain": [
       "<matplotlib.figure.Figure at 0x11036fcf8>"
      ]
     },
     "metadata": {},
     "output_type": "display_data"
    }
   ],
   "source": [
    "cols=[\"Salary\",\"Damage\",\"Years\",\"Delay\"]\n",
    "seaborn.pairplot(csv[cols])"
   ]
  },
  {
   "cell_type": "code",
   "execution_count": 13,
   "metadata": {
    "collapsed": false
   },
   "outputs": [
    {
     "name": "stderr",
     "output_type": "stream",
     "text": [
      "/anaconda/lib/python3.6/site-packages/statsmodels/nonparametric/kdetools.py:20: VisibleDeprecationWarning: using a non-integer number instead of an integer will result in an error in the future\n",
      "  y = X[:m/2+1] + np.r_[0,X[m/2+1:],0]*1j\n"
     ]
    },
    {
     "data": {
      "text/plain": [
       "<matplotlib.axes._subplots.AxesSubplot at 0x113579128>"
      ]
     },
     "execution_count": 13,
     "metadata": {},
     "output_type": "execute_result"
    },
    {
     "data": {
      "image/png": "[encoded data removed]",
      "text/plain": [
       "<matplotlib.figure.Figure at 0x1135f6940>"
      ]
     },
     "metadata": {},
     "output_type": "display_data"
    }
   ],
   "source": [
    "seaborn.distplot(csv[\"Salary\"])"
   ]
  },
  {
   "cell_type": "code",
   "execution_count": 14,
   "metadata": {
    "collapsed": false
   },
   "outputs": [
    {
     "data": {
      "text/plain": [
       "<seaborn.axisgrid.JointGrid at 0x1138479b0>"
      ]
     },
     "execution_count": 14,
     "metadata": {},
     "output_type": "execute_result"
    },
    {
     "data": {
      "image/png": "[encoded data removed]",
      "text/plain": [
       "<matplotlib.figure.Figure at 0x113847940>"
      ]
     },
     "metadata": {},
     "output_type": "display_data"
    }
   ],
   "source": [
    "seaborn.jointplot(csv[\"Salary\"],csv[\"Delay\"])"
   ]
  },
  {
   "cell_type": "code",
   "execution_count": 15,
   "metadata": {
    "collapsed": false
   },
   "outputs": [
    {
     "data": {
      "text/plain": [
       "<matplotlib.axes._subplots.AxesSubplot at 0x11384f9b0>"
      ]
     },
     "execution_count": 15,
     "metadata": {},
     "output_type": "execute_result"
    },
    {
     "data": {
      "image/png": "[encoded data removed]",
      "text/plain": [
       "<matplotlib.figure.Figure at 0x11008f2b0>"
      ]
     },
     "metadata": {},
     "output_type": "display_data"
    }
   ],
   "source": [
    "seaborn.heatmap(csv.corr())"
   ]
  },
  {
   "cell_type": "code",
   "execution_count": 16,
   "metadata": {
    "collapsed": false
   },
   "outputs": [
    {
     "data": {
      "text/html": [
       "<div>\n",
       "<table border=\"1\" class=\"dataframe\">\n",
       "  <thead>\n",
       "    <tr style=\"text-align: right;\">\n",
       "      <th></th>\n",
       "      <th>Years</th>\n",
       "      <th>Position</th>\n",
       "      <th>Age</th>\n",
       "      <th>Salary</th>\n",
       "      <th>Delay</th>\n",
       "      <th>Damage</th>\n",
       "    </tr>\n",
       "  </thead>\n",
       "  <tbody>\n",
       "    <tr>\n",
       "      <th>Years</th>\n",
       "      <td>1.000000</td>\n",
       "      <td>-0.266232</td>\n",
       "      <td>0.299137</td>\n",
       "      <td>0.017294</td>\n",
       "      <td>0.763813</td>\n",
       "      <td>0.447541</td>\n",
       "    </tr>\n",
       "    <tr>\n",
       "      <th>Position</th>\n",
       "      <td>-0.266232</td>\n",
       "      <td>1.000000</td>\n",
       "      <td>0.288076</td>\n",
       "      <td>0.486566</td>\n",
       "      <td>-0.235307</td>\n",
       "      <td>0.286169</td>\n",
       "    </tr>\n",
       "    <tr>\n",
       "      <th>Age</th>\n",
       "      <td>0.299137</td>\n",
       "      <td>0.288076</td>\n",
       "      <td>1.000000</td>\n",
       "      <td>0.344395</td>\n",
       "      <td>0.434061</td>\n",
       "      <td>0.507029</td>\n",
       "    </tr>\n",
       "    <tr>\n",
       "      <th>Salary</th>\n",
       "      <td>0.017294</td>\n",
       "      <td>0.486566</td>\n",
       "      <td>0.344395</td>\n",
       "      <td>1.000000</td>\n",
       "      <td>0.174053</td>\n",
       "      <td>0.666449</td>\n",
       "    </tr>\n",
       "    <tr>\n",
       "      <th>Delay</th>\n",
       "      <td>0.763813</td>\n",
       "      <td>-0.235307</td>\n",
       "      <td>0.434061</td>\n",
       "      <td>0.174053</td>\n",
       "      <td>1.000000</td>\n",
       "      <td>0.503924</td>\n",
       "    </tr>\n",
       "    <tr>\n",
       "      <th>Damage</th>\n",
       "      <td>0.447541</td>\n",
       "      <td>0.286169</td>\n",
       "      <td>0.507029</td>\n",
       "      <td>0.666449</td>\n",
       "      <td>0.503924</td>\n",
       "      <td>1.000000</td>\n",
       "    </tr>\n",
       "  </tbody>\n",
       "</table>\n",
       "</div>"
      ],
      "text/plain": [
       "             Years  Position       Age    Salary     Delay    Damage\n",
       "Years     1.000000 -0.266232  0.299137  0.017294  0.763813  0.447541\n",
       "Position -0.266232  1.000000  0.288076  0.486566 -0.235307  0.286169\n",
       "Age       0.299137  0.288076  1.000000  0.344395  0.434061  0.507029\n",
       "Salary    0.017294  0.486566  0.344395  1.000000  0.174053  0.666449\n",
       "Delay     0.763813 -0.235307  0.434061  0.174053  1.000000  0.503924\n",
       "Damage    0.447541  0.286169  0.507029  0.666449  0.503924  1.000000"
      ]
     },
     "execution_count": 16,
     "metadata": {},
     "output_type": "execute_result"
    }
   ],
   "source": [
    "csv.corr()"
   ]
  },
  {
   "cell_type": "markdown",
   "metadata": {},
   "source": [
    "# Perform the fitting"
   ]
  },
  {
   "cell_type": "code",
   "execution_count": 18,
   "metadata": {
    "collapsed": true
   },
   "outputs": [],
   "source": [
    "from sklearn import linear_model"
   ]
  },
  {
   "cell_type": "code",
   "execution_count": 21,
   "metadata": {
    "collapsed": false
   },
   "outputs": [
    {
     "data": {
      "text/plain": [
       "Ridge(alpha=0.5, copy_X=True, fit_intercept=True, max_iter=None,\n",
       "   normalize=True, random_state=None, solver='auto', tol=0.001)"
      ]
     },
     "execution_count": 21,
     "metadata": {},
     "output_type": "execute_result"
    }
   ],
   "source": [
    "ridge = linear_model.Ridge(normalize = True, alpha = 0.5)\n",
    "ridge.fit(csv[[\"Salary\",\"Delay\",\"Years\"]].values, csv[\"Damage\"].values)"
   ]
  },
  {
   "cell_type": "code",
   "execution_count": 22,
   "metadata": {
    "collapsed": false
   },
   "outputs": [
    {
     "data": {
      "text/plain": [
       "array([  1.13518130e+00,   6.84604456e+03,   3.73517963e+03])"
      ]
     },
     "execution_count": 22,
     "metadata": {},
     "output_type": "execute_result"
    }
   ],
   "source": [
    "ridge.coef_"
   ]
  },
  {
   "cell_type": "code",
   "execution_count": 28,
   "metadata": {
    "collapsed": false
   },
   "outputs": [
    {
     "data": {
      "text/plain": [
       "[<matplotlib.lines.Line2D at 0x114affc50>,\n",
       " <matplotlib.lines.Line2D at 0x114affe80>]"
      ]
     },
     "execution_count": 28,
     "metadata": {},
     "output_type": "execute_result"
    },
    {
     "data": {
      "image/png": "[encoded data removed]",
      "text/plain": [
       "<matplotlib.figure.Figure at 0x1149124a8>"
      ]
     },
     "metadata": {},
     "output_type": "display_data"
    }
   ],
   "source": [
    "pylab.plot(csv[\"Damage\"].values,\"b-\", ridge.predict(csv[[\"Salary\",\"Delay\",\"Years\"]].values), \"bd\")"
   ]
  },
  {
   "cell_type": "code",
   "execution_count": 183,
   "metadata": {
    "collapsed": false
   },
   "outputs": [
    {
     "data": {
      "text/plain": [
       "[<matplotlib.lines.Line2D at 0x123d86c88>,\n",
       " <matplotlib.lines.Line2D at 0x12425ef60>]"
      ]
     },
     "execution_count": 183,
     "metadata": {},
     "output_type": "execute_result"
    },
    {
     "data": {
      "image/png": "[encoded data removed]",
      "text/plain": [
       "<matplotlib.figure.Figure at 0x124146cf8>"
      ]
     },
     "metadata": {},
     "output_type": "display_data"
    }
   ],
   "source": [
    "pylab.plot(range(0, 7), csv[\"Compensation\"], range(0, 7), ridge2.predict(csv[[\"Salary\",\"Delay\"]].values), \"bd\")"
   ]
  },
  {
   "cell_type": "code",
   "execution_count": 184,
   "metadata": {
    "collapsed": false
   },
   "outputs": [
    {
     "data": {
      "text/html": [
       "<div>\n",
       "<table border=\"1\" class=\"dataframe\">\n",
       "  <thead>\n",
       "    <tr style=\"text-align: right;\">\n",
       "      <th></th>\n",
       "      <th>Description</th>\n",
       "      <th>Years</th>\n",
       "      <th>Post</th>\n",
       "      <th>Age</th>\n",
       "      <th>Salary</th>\n",
       "      <th>Delay</th>\n",
       "      <th>Compensation</th>\n",
       "      <th>DelayCompensation</th>\n",
       "      <th>DelaySalary</th>\n",
       "    </tr>\n",
       "  </thead>\n",
       "  <tbody>\n",
       "    <tr>\n",
       "      <th>0</th>\n",
       "      <td>Drolet c. Re/Max Québec inc., 2006 QCCS 1990</td>\n",
       "      <td>15</td>\n",
       "      <td>Vice-présidente/DG</td>\n",
       "      <td>53</td>\n",
       "      <td>171760</td>\n",
       "      <td>20</td>\n",
       "      <td>338028.67</td>\n",
       "      <td>16901.433500</td>\n",
       "      <td>8588.000000</td>\n",
       "    </tr>\n",
       "    <tr>\n",
       "      <th>1</th>\n",
       "      <td>Benoît c. Groupe DMR Inc., 2004 CanLII 610; Gr...</td>\n",
       "      <td>15</td>\n",
       "      <td>Gestionnaire</td>\n",
       "      <td>51</td>\n",
       "      <td>188000</td>\n",
       "      <td>24</td>\n",
       "      <td>501659.05</td>\n",
       "      <td>20902.460417</td>\n",
       "      <td>7833.333333</td>\n",
       "    </tr>\n",
       "    <tr>\n",
       "      <th>2</th>\n",
       "      <td>Arcand c. Denharco inc. (C.S., 1996-06-07)</td>\n",
       "      <td>18</td>\n",
       "      <td>VP</td>\n",
       "      <td>48</td>\n",
       "      <td>113230</td>\n",
       "      <td>15</td>\n",
       "      <td>167761.40</td>\n",
       "      <td>11184.093333</td>\n",
       "      <td>7548.666667</td>\n",
       "    </tr>\n",
       "    <tr>\n",
       "      <th>3</th>\n",
       "      <td>Kugler c. IBM Canada Limited, 2016 QCCS 6576</td>\n",
       "      <td>20</td>\n",
       "      <td>PDG</td>\n",
       "      <td>49</td>\n",
       "      <td>438137</td>\n",
       "      <td>20</td>\n",
       "      <td>525660.23</td>\n",
       "      <td>26283.011500</td>\n",
       "      <td>21906.850000</td>\n",
       "    </tr>\n",
       "    <tr>\n",
       "      <th>4</th>\n",
       "      <td>Aksich c. Canadian Pacific Railway, 2006 QCCA 931</td>\n",
       "      <td>27</td>\n",
       "      <td>Cadre supérieur</td>\n",
       "      <td>51</td>\n",
       "      <td>120000</td>\n",
       "      <td>24</td>\n",
       "      <td>216114.25</td>\n",
       "      <td>9004.760417</td>\n",
       "      <td>5000.000000</td>\n",
       "    </tr>\n",
       "    <tr>\n",
       "      <th>5</th>\n",
       "      <td>Morgan c. Atwater Badminton and Squash Club In...</td>\n",
       "      <td>17</td>\n",
       "      <td>Professionnel</td>\n",
       "      <td>47</td>\n",
       "      <td>60000</td>\n",
       "      <td>24</td>\n",
       "      <td>110581.41</td>\n",
       "      <td>4607.558750</td>\n",
       "      <td>2500.000000</td>\n",
       "    </tr>\n",
       "    <tr>\n",
       "      <th>6</th>\n",
       "      <td>Melanson c. Groupe Cantrex Nationwide, 2014 QC...</td>\n",
       "      <td>12</td>\n",
       "      <td>Vice-président, service de détail aux membres</td>\n",
       "      <td>57</td>\n",
       "      <td>137225</td>\n",
       "      <td>15</td>\n",
       "      <td>239024.83</td>\n",
       "      <td>15934.988667</td>\n",
       "      <td>9148.333333</td>\n",
       "    </tr>\n",
       "  </tbody>\n",
       "</table>\n",
       "</div>"
      ],
      "text/plain": [
       "                                         Description  Years  \\\n",
       "0       Drolet c. Re/Max Québec inc., 2006 QCCS 1990     15   \n",
       "1  Benoît c. Groupe DMR Inc., 2004 CanLII 610; Gr...     15   \n",
       "2         Arcand c. Denharco inc. (C.S., 1996-06-07)     18   \n",
       "3       Kugler c. IBM Canada Limited, 2016 QCCS 6576     20   \n",
       "4  Aksich c. Canadian Pacific Railway, 2006 QCCA 931     27   \n",
       "5  Morgan c. Atwater Badminton and Squash Club In...     17   \n",
       "6  Melanson c. Groupe Cantrex Nationwide, 2014 QC...     12   \n",
       "\n",
       "                                            Post  Age  Salary  Delay  \\\n",
       "0                             Vice-présidente/DG   53  171760     20   \n",
       "1                                   Gestionnaire   51  188000     24   \n",
       "2                                             VP   48  113230     15   \n",
       "3                                            PDG   49  438137     20   \n",
       "4                               Cadre supérieur    51  120000     24   \n",
       "5                                  Professionnel   47   60000     24   \n",
       "6  Vice-président, service de détail aux membres   57  137225     15   \n",
       "\n",
       "   Compensation  DelayCompensation   DelaySalary  \n",
       "0     338028.67       16901.433500   8588.000000  \n",
       "1     501659.05       20902.460417   7833.333333  \n",
       "2     167761.40       11184.093333   7548.666667  \n",
       "3     525660.23       26283.011500  21906.850000  \n",
       "4     216114.25        9004.760417   5000.000000  \n",
       "5     110581.41        4607.558750   2500.000000  \n",
       "6     239024.83       15934.988667   9148.333333  "
      ]
     },
     "execution_count": 184,
     "metadata": {},
     "output_type": "execute_result"
    }
   ],
   "source": [
    "csv"
   ]
  },
  {
   "cell_type": "code",
   "execution_count": 187,
   "metadata": {
    "collapsed": true
   },
   "outputs": [],
   "source": [
    "csv2 = csv.copy()"
   ]
  },
  {
   "cell_type": "code",
   "execution_count": 194,
   "metadata": {
    "collapsed": false
   },
   "outputs": [],
   "source": [
    "csv2 = csv2.drop(3)"
   ]
  },
  {
   "cell_type": "code",
   "execution_count": 199,
   "metadata": {
    "collapsed": false
   },
   "outputs": [
    {
     "data": {
      "text/plain": [
       "Ridge(alpha=0.5, copy_X=True, fit_intercept=True, max_iter=None,\n",
       "   normalize=True, random_state=None, solver='auto', tol=0.001)"
      ]
     },
     "execution_count": 199,
     "metadata": {},
     "output_type": "execute_result"
    }
   ],
   "source": [
    "ridge3 = linear_model.Ridge(normalize = True, alpha = 0.5)\n",
    "ridge3.fit(csv2[[\"Salary\",\"Delay\",\"Years\"]].values, csv2[\"Compensation\"].values)"
   ]
  },
  {
   "cell_type": "code",
   "execution_count": 200,
   "metadata": {
    "collapsed": false
   },
   "outputs": [
    {
     "data": {
      "text/plain": [
       "[<matplotlib.lines.Line2D at 0x12476cd68>,\n",
       " <matplotlib.lines.Line2D at 0x12476cf60>]"
      ]
     },
     "execution_count": 200,
     "metadata": {},
     "output_type": "execute_result"
    },
    {
     "data": {
      "image/png": "[encoded data removed]",
      "text/plain": [
       "<matplotlib.figure.Figure at 0x1243787f0>"
      ]
     },
     "metadata": {},
     "output_type": "display_data"
    }
   ],
   "source": [
    "pylab.plot(csv2[\"Compensation\"], \"b-\", ridge3.predict(csv2[[\"Salary\",\"Delay\",\"Years\"]].values), \"bd\")"
   ]
  },
  {
   "cell_type": "markdown",
   "metadata": {},
   "source": [
    "# Polynomial regression"
   ]
  },
  {
   "cell_type": "code",
   "execution_count": 202,
   "metadata": {
    "collapsed": true
   },
   "outputs": [],
   "source": [
    "from sklearn.pipeline import Pipeline\n",
    "from sklearn.preprocessing import PolynomialFeatures"
   ]
  },
  {
   "cell_type": "code",
   "execution_count": 214,
   "metadata": {
    "collapsed": true
   },
   "outputs": [],
   "source": [
    "model = Pipeline([('poly', PolynomialFeatures(degree = 2)), ('linear', linear_model.Ridge(normalize = True, alpha = 1.0))])"
   ]
  },
  {
   "cell_type": "code",
   "execution_count": 215,
   "metadata": {
    "collapsed": false
   },
   "outputs": [
    {
     "data": {
      "text/plain": [
       "Pipeline(steps=[('poly', PolynomialFeatures(degree=2, include_bias=True, interaction_only=False)), ('linear', Ridge(alpha=1.0, copy_X=True, fit_intercept=True, max_iter=None,\n",
       "   normalize=True, random_state=None, solver='auto', tol=0.001))])"
      ]
     },
     "execution_count": 215,
     "metadata": {},
     "output_type": "execute_result"
    }
   ],
   "source": [
    "model.fit(csv2[[\"Salary\",\"Delay\",\"Years\"]].values, csv2[\"Compensation\"].values)"
   ]
  },
  {
   "cell_type": "code",
   "execution_count": 216,
   "metadata": {
    "collapsed": false
   },
   "outputs": [
    {
     "data": {
      "text/plain": [
       "array([ 350376.35334686,  425385.20650396,  183414.34466216,\n",
       "        232692.71063278,  140086.34996339,  241214.64489087])"
      ]
     },
     "execution_count": 216,
     "metadata": {},
     "output_type": "execute_result"
    }
   ],
   "source": [
    "model.predict(csv2[[\"Salary\",\"Delay\",\"Years\"]].values)"
   ]
  },
  {
   "cell_type": "code",
   "execution_count": 217,
   "metadata": {
    "collapsed": false
   },
   "outputs": [
    {
     "data": {
      "text/plain": [
       "[<matplotlib.lines.Line2D at 0x124b205f8>,\n",
       " <matplotlib.lines.Line2D at 0x124b20828>]"
      ]
     },
     "execution_count": 217,
     "metadata": {},
     "output_type": "execute_result"
    },
    {
     "data": {
      "image/png": "[encoded data removed]",
      "text/plain": [
       "<matplotlib.figure.Figure at 0x124b92da0>"
      ]
     },
     "metadata": {},
     "output_type": "display_data"
    }
   ],
   "source": [
    "pylab.plot(csv2[\"Compensation\"].values, \"b-\", model.predict(csv2[[\"Salary\",\"Delay\",\"Years\"]].values), \"bd\")"
   ]
  },
  {
   "cell_type": "code",
   "execution_count": 212,
   "metadata": {
    "collapsed": false
   },
   "outputs": [
    {
     "data": {
      "text/html": [
       "<div>\n",
       "<table border=\"1\" class=\"dataframe\">\n",
       "  <thead>\n",
       "    <tr style=\"text-align: right;\">\n",
       "      <th></th>\n",
       "      <th>Description</th>\n",
       "      <th>Years</th>\n",
       "      <th>Post</th>\n",
       "      <th>Age</th>\n",
       "      <th>Salary</th>\n",
       "      <th>Delay</th>\n",
       "      <th>Compensation</th>\n",
       "      <th>DelayCompensation</th>\n",
       "      <th>DelaySalary</th>\n",
       "    </tr>\n",
       "  </thead>\n",
       "  <tbody>\n",
       "    <tr>\n",
       "      <th>0</th>\n",
       "      <td>Drolet c. Re/Max Québec inc., 2006 QCCS 1990</td>\n",
       "      <td>15</td>\n",
       "      <td>Vice-présidente/DG</td>\n",
       "      <td>53</td>\n",
       "      <td>171760</td>\n",
       "      <td>20</td>\n",
       "      <td>338028.67</td>\n",
       "      <td>16901.433500</td>\n",
       "      <td>8588.000000</td>\n",
       "    </tr>\n",
       "    <tr>\n",
       "      <th>1</th>\n",
       "      <td>Benoît c. Groupe DMR Inc., 2004 CanLII 610; Gr...</td>\n",
       "      <td>15</td>\n",
       "      <td>Gestionnaire</td>\n",
       "      <td>51</td>\n",
       "      <td>188000</td>\n",
       "      <td>24</td>\n",
       "      <td>501659.05</td>\n",
       "      <td>20902.460417</td>\n",
       "      <td>7833.333333</td>\n",
       "    </tr>\n",
       "    <tr>\n",
       "      <th>2</th>\n",
       "      <td>Arcand c. Denharco inc. (C.S., 1996-06-07)</td>\n",
       "      <td>18</td>\n",
       "      <td>VP</td>\n",
       "      <td>48</td>\n",
       "      <td>113230</td>\n",
       "      <td>15</td>\n",
       "      <td>167761.40</td>\n",
       "      <td>11184.093333</td>\n",
       "      <td>7548.666667</td>\n",
       "    </tr>\n",
       "    <tr>\n",
       "      <th>4</th>\n",
       "      <td>Aksich c. Canadian Pacific Railway, 2006 QCCA 931</td>\n",
       "      <td>27</td>\n",
       "      <td>Cadre supérieur</td>\n",
       "      <td>51</td>\n",
       "      <td>120000</td>\n",
       "      <td>24</td>\n",
       "      <td>216114.25</td>\n",
       "      <td>9004.760417</td>\n",
       "      <td>5000.000000</td>\n",
       "    </tr>\n",
       "    <tr>\n",
       "      <th>5</th>\n",
       "      <td>Morgan c. Atwater Badminton and Squash Club In...</td>\n",
       "      <td>17</td>\n",
       "      <td>Professionnel</td>\n",
       "      <td>47</td>\n",
       "      <td>60000</td>\n",
       "      <td>24</td>\n",
       "      <td>110581.41</td>\n",
       "      <td>4607.558750</td>\n",
       "      <td>2500.000000</td>\n",
       "    </tr>\n",
       "    <tr>\n",
       "      <th>6</th>\n",
       "      <td>Melanson c. Groupe Cantrex Nationwide, 2014 QC...</td>\n",
       "      <td>12</td>\n",
       "      <td>Vice-président, service de détail aux membres</td>\n",
       "      <td>57</td>\n",
       "      <td>137225</td>\n",
       "      <td>15</td>\n",
       "      <td>239024.83</td>\n",
       "      <td>15934.988667</td>\n",
       "      <td>9148.333333</td>\n",
       "    </tr>\n",
       "  </tbody>\n",
       "</table>\n",
       "</div>"
      ],
      "text/plain": [
       "                                         Description  Years  \\\n",
       "0       Drolet c. Re/Max Québec inc., 2006 QCCS 1990     15   \n",
       "1  Benoît c. Groupe DMR Inc., 2004 CanLII 610; Gr...     15   \n",
       "2         Arcand c. Denharco inc. (C.S., 1996-06-07)     18   \n",
       "4  Aksich c. Canadian Pacific Railway, 2006 QCCA 931     27   \n",
       "5  Morgan c. Atwater Badminton and Squash Club In...     17   \n",
       "6  Melanson c. Groupe Cantrex Nationwide, 2014 QC...     12   \n",
       "\n",
       "                                            Post  Age  Salary  Delay  \\\n",
       "0                             Vice-présidente/DG   53  171760     20   \n",
       "1                                   Gestionnaire   51  188000     24   \n",
       "2                                             VP   48  113230     15   \n",
       "4                               Cadre supérieur    51  120000     24   \n",
       "5                                  Professionnel   47   60000     24   \n",
       "6  Vice-président, service de détail aux membres   57  137225     15   \n",
       "\n",
       "   Compensation  DelayCompensation  DelaySalary  \n",
       "0     338028.67       16901.433500  8588.000000  \n",
       "1     501659.05       20902.460417  7833.333333  \n",
       "2     167761.40       11184.093333  7548.666667  \n",
       "4     216114.25        9004.760417  5000.000000  \n",
       "5     110581.41        4607.558750  2500.000000  \n",
       "6     239024.83       15934.988667  9148.333333  "
      ]
     },
     "execution_count": 212,
     "metadata": {},
     "output_type": "execute_result"
    }
   ],
   "source": [
    "csv2"
   ]
  },
  {
   "cell_type": "markdown",
   "metadata": {
    "collapsed": true
   },
   "source": [
    "# Polynomial regression for delay"
   ]
  },
  {
   "cell_type": "code",
   "execution_count": 233,
   "metadata": {
    "collapsed": true
   },
   "outputs": [],
   "source": [
    "csv3 = csv2.copy()"
   ]
  },
  {
   "cell_type": "code",
   "execution_count": 238,
   "metadata": {
    "collapsed": false
   },
   "outputs": [],
   "source": [
    "csv3[\"Level\"] = [3, 2, 3, 1, 1, 3]"
   ]
  },
  {
   "cell_type": "code",
   "execution_count": 222,
   "metadata": {
    "collapsed": true
   },
   "outputs": [],
   "source": [
    "model2 = Pipeline([('poly', PolynomialFeatures(degree = 1)), ('linear', linear_model.Ridge(normalize = True, alpha = 1.0))])"
   ]
  },
  {
   "cell_type": "code",
   "execution_count": 236,
   "metadata": {
    "collapsed": false
   },
   "outputs": [
    {
     "data": {
      "text/plain": [
       "Pipeline(steps=[('poly', PolynomialFeatures(degree=1, include_bias=True, interaction_only=False)), ('linear', Ridge(alpha=1.0, copy_X=True, fit_intercept=True, max_iter=None,\n",
       "   normalize=True, random_state=None, solver='auto', tol=0.001))])"
      ]
     },
     "execution_count": 236,
     "metadata": {},
     "output_type": "execute_result"
    }
   ],
   "source": [
    "model2.fit(csv3[[\"Salary\",\"Years\", \"Level\"]].values, csv2[\"Delay\"].values)"
   ]
  },
  {
   "cell_type": "code",
   "execution_count": 239,
   "metadata": {
    "collapsed": false
   },
   "outputs": [
    {
     "data": {
      "text/plain": [
       "array([ 18.95084082,  20.94879017,  18.68375565,  23.26679503,\n",
       "        21.7939893 ,  18.35582903])"
      ]
     },
     "execution_count": 239,
     "metadata": {},
     "output_type": "execute_result"
    }
   ],
   "source": [
    "model2.predict(csv3[[\"Salary\",\"Years\", \"Level\"]].values)"
   ]
  },
  {
   "cell_type": "code",
   "execution_count": 241,
   "metadata": {
    "collapsed": false
   },
   "outputs": [
    {
     "data": {
      "text/plain": [
       "(0.0, 24.449999999999999)"
      ]
     },
     "execution_count": 241,
     "metadata": {},
     "output_type": "execute_result"
    },
    {
     "data": {
      "image/png": "[encoded data removed]",
      "text/plain": [
       "<matplotlib.figure.Figure at 0x124cecc88>"
      ]
     },
     "metadata": {},
     "output_type": "display_data"
    }
   ],
   "source": [
    "pylab.plot(csv3[\"Delay\"].values,\"b-\",model2.predict(csv3[[\"Salary\",\"Years\",\"Level\"]].values),\"bd\")\n",
    "pylab.ylim(ymin = 0.0)"
   ]
  }
 ],
 "metadata": {
  "kernelspec": {
   "display_name": "Python 3",
   "language": "python",
   "name": "python3"
  },
  "language_info": {
   "codemirror_mode": {
    "name": "ipython",
    "version": 3
   },
   "file_extension": ".py",
   "mimetype": "text/x-python",
   "name": "python",
   "nbconvert_exporter": "python",
   "pygments_lexer": "ipython3",
   "version": "3.6.0"
  }
 },
 "nbformat": 4,
 "nbformat_minor": 2
}
