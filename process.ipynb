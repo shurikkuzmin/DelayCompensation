{
 "cells": [
  {
   "cell_type": "markdown",
   "metadata": {},
   "source": [
    "# This is to find any necessary correlations for case processing"
   ]
  },
  {
   "cell_type": "code",
   "execution_count": 157,
   "metadata": {
    "collapsed": false
   },
   "outputs": [
    {
     "name": "stdout",
     "output_type": "stream",
     "text": [
      "Populating the interactive namespace from numpy and matplotlib\n"
     ]
    }
   ],
   "source": [
    "import pandas\n",
    "%pylab inline\n",
    "import numpy"
   ]
  },
  {
   "cell_type": "markdown",
   "metadata": {},
   "source": [
    "### Load the file"
   ]
  },
  {
   "cell_type": "code",
   "execution_count": 3,
   "metadata": {
    "collapsed": false
   },
   "outputs": [],
   "source": [
    "csv = pandas.read_excel(\"table.xlsx\")"
   ]
  },
  {
   "cell_type": "code",
   "execution_count": 4,
   "metadata": {
    "collapsed": false
   },
   "outputs": [
    {
     "data": {
      "text/html": [
       "<div>\n",
       "<table border=\"1\" class=\"dataframe\">\n",
       "  <thead>\n",
       "    <tr style=\"text-align: right;\">\n",
       "      <th></th>\n",
       "      <th>Affaire</th>\n",
       "      <th>Années de service</th>\n",
       "      <th>Poste</th>\n",
       "      <th>Age</th>\n",
       "      <th>Salaire</th>\n",
       "      <th>Délai de congé[1]</th>\n",
       "      <th>Dommages totaux</th>\n",
       "    </tr>\n",
       "  </thead>\n",
       "  <tbody>\n",
       "    <tr>\n",
       "      <th>0</th>\n",
       "      <td>Drolet c. Re/Max Québec inc., 2006 QCCS 1990</td>\n",
       "      <td>15 (CD)</td>\n",
       "      <td>Vice-présidente/DG</td>\n",
       "      <td>53</td>\n",
       "      <td>171 760 $</td>\n",
       "      <td>20 mois</td>\n",
       "      <td>338 028,67 $</td>\n",
       "    </tr>\n",
       "    <tr>\n",
       "      <th>1</th>\n",
       "      <td>Benoît c. Groupe DMR Inc., 2004 CanLII 610; Gr...</td>\n",
       "      <td>15 (CI)</td>\n",
       "      <td>Gestionnaire</td>\n",
       "      <td>51</td>\n",
       "      <td>188 000 $</td>\n",
       "      <td>24 mois</td>\n",
       "      <td>501 659,05 $ (« - » 11 275 $)</td>\n",
       "    </tr>\n",
       "    <tr>\n",
       "      <th>2</th>\n",
       "      <td>Arcand c. Denharco inc. (C.S., 1996-06-07)</td>\n",
       "      <td>18 (CI)</td>\n",
       "      <td>VP</td>\n",
       "      <td>48</td>\n",
       "      <td>113 230 $</td>\n",
       "      <td>15 mois</td>\n",
       "      <td>167,761.40 $</td>\n",
       "    </tr>\n",
       "    <tr>\n",
       "      <th>3</th>\n",
       "      <td>Kugler c. IBM Canada Limited, 2016 QCCS 6576</td>\n",
       "      <td>20 (L)</td>\n",
       "      <td>PDG</td>\n",
       "      <td>49</td>\n",
       "      <td>438 137 $</td>\n",
       "      <td>20 mois</td>\n",
       "      <td>525 660,23 $</td>\n",
       "    </tr>\n",
       "    <tr>\n",
       "      <th>4</th>\n",
       "      <td>Aksich c. Canadian Pacific Railway, 2006 QCCA 931</td>\n",
       "      <td>(27) 20 (L)</td>\n",
       "      <td>Cadre supérieur</td>\n",
       "      <td>51</td>\n",
       "      <td>120 000 $</td>\n",
       "      <td>24 mois</td>\n",
       "      <td>216 114,25 $</td>\n",
       "    </tr>\n",
       "    <tr>\n",
       "      <th>5</th>\n",
       "      <td>Morgan c. Atwater Badminton and Squash Club In...</td>\n",
       "      <td>17 (s/o)</td>\n",
       "      <td>Professionnel</td>\n",
       "      <td>47</td>\n",
       "      <td>60,000 $</td>\n",
       "      <td>24 mois</td>\n",
       "      <td>110 581,41$</td>\n",
       "    </tr>\n",
       "    <tr>\n",
       "      <th>6</th>\n",
       "      <td>Melanson c. Groupe Cantrex Nationwide, 2014 QC...</td>\n",
       "      <td>12 (L)</td>\n",
       "      <td>Vice-président, service de détail aux membres</td>\n",
       "      <td>57</td>\n",
       "      <td>137 225 $</td>\n",
       "      <td>15 mois</td>\n",
       "      <td>220 578,27 $ + 18 446,56 $</td>\n",
       "    </tr>\n",
       "  </tbody>\n",
       "</table>\n",
       "</div>"
      ],
      "text/plain": [
       "                                             Affaire Années de service  \\\n",
       "0       Drolet c. Re/Max Québec inc., 2006 QCCS 1990           15 (CD)   \n",
       "1  Benoît c. Groupe DMR Inc., 2004 CanLII 610; Gr...           15 (CI)   \n",
       "2         Arcand c. Denharco inc. (C.S., 1996-06-07)           18 (CI)   \n",
       "3       Kugler c. IBM Canada Limited, 2016 QCCS 6576            20 (L)   \n",
       "4  Aksich c. Canadian Pacific Railway, 2006 QCCA 931       (27) 20 (L)   \n",
       "5  Morgan c. Atwater Badminton and Squash Club In...          17 (s/o)   \n",
       "6  Melanson c. Groupe Cantrex Nationwide, 2014 QC...            12 (L)   \n",
       "\n",
       "                                           Poste  Age    Salaire  \\\n",
       "0                             Vice-présidente/DG   53  171 760 $   \n",
       "1                                   Gestionnaire   51  188 000 $   \n",
       "2                                             VP   48  113 230 $   \n",
       "3                                            PDG   49  438 137 $   \n",
       "4                               Cadre supérieur    51  120 000 $   \n",
       "5                                  Professionnel   47   60,000 $   \n",
       "6  Vice-président, service de détail aux membres   57  137 225 $   \n",
       "\n",
       "  Délai de congé[1]                Dommages totaux  \n",
       "0           20 mois                   338 028,67 $  \n",
       "1           24 mois  501 659,05 $ (« - » 11 275 $)  \n",
       "2           15 mois                   167,761.40 $  \n",
       "3           20 mois                   525 660,23 $  \n",
       "4           24 mois                   216 114,25 $  \n",
       "5           24 mois                    110 581,41$  \n",
       "6           15 mois     220 578,27 $ + 18 446,56 $  "
      ]
     },
     "execution_count": 4,
     "metadata": {},
     "output_type": "execute_result"
    }
   ],
   "source": [
    "csv"
   ]
  },
  {
   "cell_type": "code",
   "execution_count": 5,
   "metadata": {
    "collapsed": false
   },
   "outputs": [
    {
     "data": {
      "text/plain": [
       "<bound method NDFrame.keys of                                              Affaire Années de service  \\\n",
       "0       Drolet c. Re/Max Québec inc., 2006 QCCS 1990           15 (CD)   \n",
       "1  Benoît c. Groupe DMR Inc., 2004 CanLII 610; Gr...           15 (CI)   \n",
       "2         Arcand c. Denharco inc. (C.S., 1996-06-07)           18 (CI)   \n",
       "3       Kugler c. IBM Canada Limited, 2016 QCCS 6576            20 (L)   \n",
       "4  Aksich c. Canadian Pacific Railway, 2006 QCCA 931       (27) 20 (L)   \n",
       "5  Morgan c. Atwater Badminton and Squash Club In...          17 (s/o)   \n",
       "6  Melanson c. Groupe Cantrex Nationwide, 2014 QC...            12 (L)   \n",
       "\n",
       "                                           Poste  Age    Salaire  \\\n",
       "0                             Vice-présidente/DG   53  171 760 $   \n",
       "1                                   Gestionnaire   51  188 000 $   \n",
       "2                                             VP   48  113 230 $   \n",
       "3                                            PDG   49  438 137 $   \n",
       "4                               Cadre supérieur    51  120 000 $   \n",
       "5                                  Professionnel   47   60,000 $   \n",
       "6  Vice-président, service de détail aux membres   57  137 225 $   \n",
       "\n",
       "  Délai de congé[1]                Dommages totaux  \n",
       "0           20 mois                   338 028,67 $  \n",
       "1           24 mois  501 659,05 $ (« - » 11 275 $)  \n",
       "2           15 mois                   167,761.40 $  \n",
       "3           20 mois                   525 660,23 $  \n",
       "4           24 mois                   216 114,25 $  \n",
       "5           24 mois                    110 581,41$  \n",
       "6           15 mois     220 578,27 $ + 18 446,56 $  >"
      ]
     },
     "execution_count": 5,
     "metadata": {},
     "output_type": "execute_result"
    }
   ],
   "source": [
    "csv.keys"
   ]
  },
  {
   "cell_type": "code",
   "execution_count": 6,
   "metadata": {
    "collapsed": false
   },
   "outputs": [
    {
     "name": "stdout",
     "output_type": "stream",
     "text": [
      "(7, 7)\n"
     ]
    }
   ],
   "source": [
    "print(csv.shape)"
   ]
  },
  {
   "cell_type": "code",
   "execution_count": 7,
   "metadata": {
    "collapsed": false
   },
   "outputs": [
    {
     "name": "stdout",
     "output_type": "stream",
     "text": [
      "Index(['Affaire', 'Années de service', 'Poste', 'Age', 'Salaire',\n",
      "       'Délai de congé[1]', 'Dommages totaux'],\n",
      "      dtype='object')\n"
     ]
    }
   ],
   "source": [
    "print(csv.columns)"
   ]
  },
  {
   "cell_type": "code",
   "execution_count": 9,
   "metadata": {
    "collapsed": false
   },
   "outputs": [
    {
     "name": "stdout",
     "output_type": "stream",
     "text": [
      "<class 'pandas.core.frame.DataFrame'>\n",
      "RangeIndex: 7 entries, 0 to 6\n",
      "Data columns (total 7 columns):\n",
      "Affaire              7 non-null object\n",
      "Années de service    7 non-null object\n",
      "Poste                7 non-null object\n",
      "Age                  7 non-null int64\n",
      "Salaire              7 non-null object\n",
      "Délai de congé[1]    7 non-null object\n",
      "Dommages totaux      7 non-null object\n",
      "dtypes: int64(1), object(6)\n",
      "memory usage: 472.0+ bytes\n",
      "None\n"
     ]
    }
   ],
   "source": [
    "print(csv.info())"
   ]
  },
  {
   "cell_type": "code",
   "execution_count": 11,
   "metadata": {
    "collapsed": false
   },
   "outputs": [
    {
     "data": {
      "text/plain": [
       "Index(['Affaire', 'Années de service', 'Poste', 'Age', 'Salaire',\n",
       "       'Délai de congé[1]', 'Dommages totaux'],\n",
       "      dtype='object')"
      ]
     },
     "execution_count": 11,
     "metadata": {},
     "output_type": "execute_result"
    }
   ],
   "source": [
    "csv.keys()"
   ]
  },
  {
   "cell_type": "code",
   "execution_count": 13,
   "metadata": {
    "collapsed": false
   },
   "outputs": [
    {
     "data": {
      "text/plain": [
       "Index(['Description', 'Years', 'Post', 'Age', 'Salary', 'Delay',\n",
       "       'Compensation'],\n",
       "      dtype='object')"
      ]
     },
     "execution_count": 13,
     "metadata": {},
     "output_type": "execute_result"
    }
   ],
   "source": [
    "csv.columns=[\"Description\", \"Years\", \"Post\", \"Age\", \"Salary\", \"Delay\", \"Compensation\"]\n",
    "csv.keys()"
   ]
  },
  {
   "cell_type": "code",
   "execution_count": 22,
   "metadata": {
    "collapsed": false
   },
   "outputs": [
    {
     "name": "stdout",
     "output_type": "stream",
     "text": [
      "Object `astype` not found.\n"
     ]
    }
   ],
   "source": [
    "csv['Years'].astype?"
   ]
  },
  {
   "cell_type": "code",
   "execution_count": 23,
   "metadata": {
    "collapsed": false
   },
   "outputs": [
    {
     "data": {
      "text/plain": [
       "0        15 (CD)\n",
       "1        15 (CI)\n",
       "2        18 (CI)\n",
       "3         20 (L)\n",
       "4    (27) 20 (L)\n",
       "5       17 (s/o)\n",
       "6         12 (L)\n",
       "Name: Years, dtype: object"
      ]
     },
     "execution_count": 23,
     "metadata": {},
     "output_type": "execute_result"
    }
   ],
   "source": [
    "csv[\"Years\"].astype('int64', raise_on_error=False)"
   ]
  },
  {
   "cell_type": "markdown",
   "metadata": {},
   "source": [
    "Change the table to strip all unnecessary things. Later on we will do it better"
   ]
  },
  {
   "cell_type": "code",
   "execution_count": 30,
   "metadata": {
    "collapsed": false
   },
   "outputs": [],
   "source": [
    "csv[\"Years\"] = [15, 15, 18, 20, 27, 17, 12]"
   ]
  },
  {
   "cell_type": "code",
   "execution_count": 31,
   "metadata": {
    "collapsed": false
   },
   "outputs": [
    {
     "name": "stdout",
     "output_type": "stream",
     "text": [
      "<class 'pandas.core.frame.DataFrame'>\n",
      "RangeIndex: 7 entries, 0 to 6\n",
      "Data columns (total 7 columns):\n",
      "Description     7 non-null object\n",
      "Years           7 non-null int64\n",
      "Post            7 non-null object\n",
      "Age             7 non-null int64\n",
      "Salary          7 non-null object\n",
      "Delay           7 non-null object\n",
      "Compensation    7 non-null object\n",
      "dtypes: int64(2), object(5)\n",
      "memory usage: 472.0+ bytes\n",
      "None\n"
     ]
    }
   ],
   "source": [
    "print(csv.info())"
   ]
  },
  {
   "cell_type": "code",
   "execution_count": 32,
   "metadata": {
    "collapsed": false
   },
   "outputs": [
    {
     "data": {
      "text/plain": [
       "0    171 760 $\n",
       "1    188 000 $\n",
       "2    113 230 $\n",
       "3    438 137 $\n",
       "4    120 000 $\n",
       "5     60,000 $\n",
       "6    137 225 $\n",
       "Name: Salary, dtype: object"
      ]
     },
     "execution_count": 32,
     "metadata": {},
     "output_type": "execute_result"
    }
   ],
   "source": [
    "csv[\"Salary\"]"
   ]
  },
  {
   "cell_type": "code",
   "execution_count": 39,
   "metadata": {
    "collapsed": false
   },
   "outputs": [],
   "source": [
    "csv[\"Salary\"] = [171760, 188000, 113230, 438137, 120000,60000,137225]"
   ]
  },
  {
   "cell_type": "code",
   "execution_count": 40,
   "metadata": {
    "collapsed": false
   },
   "outputs": [
    {
     "data": {
      "text/plain": [
       "0    171760\n",
       "1    188000\n",
       "2    113230\n",
       "3    438137\n",
       "4    120000\n",
       "5     60000\n",
       "6    137225\n",
       "Name: Salary, dtype: int64"
      ]
     },
     "execution_count": 40,
     "metadata": {},
     "output_type": "execute_result"
    }
   ],
   "source": [
    "csv[\"Salary\"]"
   ]
  },
  {
   "cell_type": "code",
   "execution_count": 41,
   "metadata": {
    "collapsed": false
   },
   "outputs": [
    {
     "data": {
      "text/html": [
       "<div>\n",
       "<table border=\"1\" class=\"dataframe\">\n",
       "  <thead>\n",
       "    <tr style=\"text-align: right;\">\n",
       "      <th></th>\n",
       "      <th>Description</th>\n",
       "      <th>Years</th>\n",
       "      <th>Post</th>\n",
       "      <th>Age</th>\n",
       "      <th>Salary</th>\n",
       "      <th>Delay</th>\n",
       "      <th>Compensation</th>\n",
       "    </tr>\n",
       "  </thead>\n",
       "  <tbody>\n",
       "    <tr>\n",
       "      <th>0</th>\n",
       "      <td>Drolet c. Re/Max Québec inc., 2006 QCCS 1990</td>\n",
       "      <td>15</td>\n",
       "      <td>Vice-présidente/DG</td>\n",
       "      <td>53</td>\n",
       "      <td>171760</td>\n",
       "      <td>20 mois</td>\n",
       "      <td>338 028,67 $</td>\n",
       "    </tr>\n",
       "    <tr>\n",
       "      <th>1</th>\n",
       "      <td>Benoît c. Groupe DMR Inc., 2004 CanLII 610; Gr...</td>\n",
       "      <td>15</td>\n",
       "      <td>Gestionnaire</td>\n",
       "      <td>51</td>\n",
       "      <td>188000</td>\n",
       "      <td>24 mois</td>\n",
       "      <td>501 659,05 $ (« - » 11 275 $)</td>\n",
       "    </tr>\n",
       "    <tr>\n",
       "      <th>2</th>\n",
       "      <td>Arcand c. Denharco inc. (C.S., 1996-06-07)</td>\n",
       "      <td>18</td>\n",
       "      <td>VP</td>\n",
       "      <td>48</td>\n",
       "      <td>113230</td>\n",
       "      <td>15 mois</td>\n",
       "      <td>167,761.40 $</td>\n",
       "    </tr>\n",
       "    <tr>\n",
       "      <th>3</th>\n",
       "      <td>Kugler c. IBM Canada Limited, 2016 QCCS 6576</td>\n",
       "      <td>20</td>\n",
       "      <td>PDG</td>\n",
       "      <td>49</td>\n",
       "      <td>438137</td>\n",
       "      <td>20 mois</td>\n",
       "      <td>525 660,23 $</td>\n",
       "    </tr>\n",
       "    <tr>\n",
       "      <th>4</th>\n",
       "      <td>Aksich c. Canadian Pacific Railway, 2006 QCCA 931</td>\n",
       "      <td>27</td>\n",
       "      <td>Cadre supérieur</td>\n",
       "      <td>51</td>\n",
       "      <td>120000</td>\n",
       "      <td>24 mois</td>\n",
       "      <td>216 114,25 $</td>\n",
       "    </tr>\n",
       "    <tr>\n",
       "      <th>5</th>\n",
       "      <td>Morgan c. Atwater Badminton and Squash Club In...</td>\n",
       "      <td>17</td>\n",
       "      <td>Professionnel</td>\n",
       "      <td>47</td>\n",
       "      <td>60000</td>\n",
       "      <td>24 mois</td>\n",
       "      <td>110 581,41$</td>\n",
       "    </tr>\n",
       "    <tr>\n",
       "      <th>6</th>\n",
       "      <td>Melanson c. Groupe Cantrex Nationwide, 2014 QC...</td>\n",
       "      <td>12</td>\n",
       "      <td>Vice-président, service de détail aux membres</td>\n",
       "      <td>57</td>\n",
       "      <td>137225</td>\n",
       "      <td>15 mois</td>\n",
       "      <td>220 578,27 $ + 18 446,56 $</td>\n",
       "    </tr>\n",
       "  </tbody>\n",
       "</table>\n",
       "</div>"
      ],
      "text/plain": [
       "                                         Description  Years  \\\n",
       "0       Drolet c. Re/Max Québec inc., 2006 QCCS 1990     15   \n",
       "1  Benoît c. Groupe DMR Inc., 2004 CanLII 610; Gr...     15   \n",
       "2         Arcand c. Denharco inc. (C.S., 1996-06-07)     18   \n",
       "3       Kugler c. IBM Canada Limited, 2016 QCCS 6576     20   \n",
       "4  Aksich c. Canadian Pacific Railway, 2006 QCCA 931     27   \n",
       "5  Morgan c. Atwater Badminton and Squash Club In...     17   \n",
       "6  Melanson c. Groupe Cantrex Nationwide, 2014 QC...     12   \n",
       "\n",
       "                                            Post  Age  Salary    Delay  \\\n",
       "0                             Vice-présidente/DG   53  171760  20 mois   \n",
       "1                                   Gestionnaire   51  188000  24 mois   \n",
       "2                                             VP   48  113230  15 mois   \n",
       "3                                            PDG   49  438137  20 mois   \n",
       "4                               Cadre supérieur    51  120000  24 mois   \n",
       "5                                  Professionnel   47   60000  24 mois   \n",
       "6  Vice-président, service de détail aux membres   57  137225  15 mois   \n",
       "\n",
       "                    Compensation  \n",
       "0                   338 028,67 $  \n",
       "1  501 659,05 $ (« - » 11 275 $)  \n",
       "2                   167,761.40 $  \n",
       "3                   525 660,23 $  \n",
       "4                   216 114,25 $  \n",
       "5                    110 581,41$  \n",
       "6     220 578,27 $ + 18 446,56 $  "
      ]
     },
     "execution_count": 41,
     "metadata": {},
     "output_type": "execute_result"
    }
   ],
   "source": [
    "csv"
   ]
  },
  {
   "cell_type": "code",
   "execution_count": 43,
   "metadata": {
    "collapsed": true
   },
   "outputs": [],
   "source": [
    "csv[\"Delay\"] = [20, 24, 15, 20, 24, 24, 15]\n",
    "csv[\"Compensation\"]=[338028.67, 501659.05, 167761.40, 525660.23, 216114.25, 110581.41, 220578.27 + 18446.56]"
   ]
  },
  {
   "cell_type": "code",
   "execution_count": 44,
   "metadata": {
    "collapsed": false
   },
   "outputs": [
    {
     "data": {
      "text/html": [
       "<div>\n",
       "<table border=\"1\" class=\"dataframe\">\n",
       "  <thead>\n",
       "    <tr style=\"text-align: right;\">\n",
       "      <th></th>\n",
       "      <th>Description</th>\n",
       "      <th>Years</th>\n",
       "      <th>Post</th>\n",
       "      <th>Age</th>\n",
       "      <th>Salary</th>\n",
       "      <th>Delay</th>\n",
       "      <th>Compensation</th>\n",
       "    </tr>\n",
       "  </thead>\n",
       "  <tbody>\n",
       "    <tr>\n",
       "      <th>0</th>\n",
       "      <td>Drolet c. Re/Max Québec inc., 2006 QCCS 1990</td>\n",
       "      <td>15</td>\n",
       "      <td>Vice-présidente/DG</td>\n",
       "      <td>53</td>\n",
       "      <td>171760</td>\n",
       "      <td>20</td>\n",
       "      <td>338028.67</td>\n",
       "    </tr>\n",
       "    <tr>\n",
       "      <th>1</th>\n",
       "      <td>Benoît c. Groupe DMR Inc., 2004 CanLII 610; Gr...</td>\n",
       "      <td>15</td>\n",
       "      <td>Gestionnaire</td>\n",
       "      <td>51</td>\n",
       "      <td>188000</td>\n",
       "      <td>24</td>\n",
       "      <td>501659.05</td>\n",
       "    </tr>\n",
       "    <tr>\n",
       "      <th>2</th>\n",
       "      <td>Arcand c. Denharco inc. (C.S., 1996-06-07)</td>\n",
       "      <td>18</td>\n",
       "      <td>VP</td>\n",
       "      <td>48</td>\n",
       "      <td>113230</td>\n",
       "      <td>15</td>\n",
       "      <td>167761.40</td>\n",
       "    </tr>\n",
       "    <tr>\n",
       "      <th>3</th>\n",
       "      <td>Kugler c. IBM Canada Limited, 2016 QCCS 6576</td>\n",
       "      <td>20</td>\n",
       "      <td>PDG</td>\n",
       "      <td>49</td>\n",
       "      <td>438137</td>\n",
       "      <td>20</td>\n",
       "      <td>525660.23</td>\n",
       "    </tr>\n",
       "    <tr>\n",
       "      <th>4</th>\n",
       "      <td>Aksich c. Canadian Pacific Railway, 2006 QCCA 931</td>\n",
       "      <td>27</td>\n",
       "      <td>Cadre supérieur</td>\n",
       "      <td>51</td>\n",
       "      <td>120000</td>\n",
       "      <td>24</td>\n",
       "      <td>216114.25</td>\n",
       "    </tr>\n",
       "    <tr>\n",
       "      <th>5</th>\n",
       "      <td>Morgan c. Atwater Badminton and Squash Club In...</td>\n",
       "      <td>17</td>\n",
       "      <td>Professionnel</td>\n",
       "      <td>47</td>\n",
       "      <td>60000</td>\n",
       "      <td>24</td>\n",
       "      <td>110581.41</td>\n",
       "    </tr>\n",
       "    <tr>\n",
       "      <th>6</th>\n",
       "      <td>Melanson c. Groupe Cantrex Nationwide, 2014 QC...</td>\n",
       "      <td>12</td>\n",
       "      <td>Vice-président, service de détail aux membres</td>\n",
       "      <td>57</td>\n",
       "      <td>137225</td>\n",
       "      <td>15</td>\n",
       "      <td>239024.83</td>\n",
       "    </tr>\n",
       "  </tbody>\n",
       "</table>\n",
       "</div>"
      ],
      "text/plain": [
       "                                         Description  Years  \\\n",
       "0       Drolet c. Re/Max Québec inc., 2006 QCCS 1990     15   \n",
       "1  Benoît c. Groupe DMR Inc., 2004 CanLII 610; Gr...     15   \n",
       "2         Arcand c. Denharco inc. (C.S., 1996-06-07)     18   \n",
       "3       Kugler c. IBM Canada Limited, 2016 QCCS 6576     20   \n",
       "4  Aksich c. Canadian Pacific Railway, 2006 QCCA 931     27   \n",
       "5  Morgan c. Atwater Badminton and Squash Club In...     17   \n",
       "6  Melanson c. Groupe Cantrex Nationwide, 2014 QC...     12   \n",
       "\n",
       "                                            Post  Age  Salary  Delay  \\\n",
       "0                             Vice-présidente/DG   53  171760     20   \n",
       "1                                   Gestionnaire   51  188000     24   \n",
       "2                                             VP   48  113230     15   \n",
       "3                                            PDG   49  438137     20   \n",
       "4                               Cadre supérieur    51  120000     24   \n",
       "5                                  Professionnel   47   60000     24   \n",
       "6  Vice-président, service de détail aux membres   57  137225     15   \n",
       "\n",
       "   Compensation  \n",
       "0     338028.67  \n",
       "1     501659.05  \n",
       "2     167761.40  \n",
       "3     525660.23  \n",
       "4     216114.25  \n",
       "5     110581.41  \n",
       "6     239024.83  "
      ]
     },
     "execution_count": 44,
     "metadata": {},
     "output_type": "execute_result"
    }
   ],
   "source": [
    "csv"
   ]
  },
  {
   "cell_type": "code",
   "execution_count": 45,
   "metadata": {
    "collapsed": false
   },
   "outputs": [
    {
     "data": {
      "text/html": [
       "<div>\n",
       "<table border=\"1\" class=\"dataframe\">\n",
       "  <thead>\n",
       "    <tr style=\"text-align: right;\">\n",
       "      <th></th>\n",
       "      <th>Description</th>\n",
       "      <th>Years</th>\n",
       "      <th>Post</th>\n",
       "      <th>Age</th>\n",
       "      <th>Salary</th>\n",
       "      <th>Delay</th>\n",
       "      <th>Compensation</th>\n",
       "    </tr>\n",
       "  </thead>\n",
       "  <tbody>\n",
       "    <tr>\n",
       "      <th>6</th>\n",
       "      <td>Melanson c. Groupe Cantrex Nationwide, 2014 QC...</td>\n",
       "      <td>12</td>\n",
       "      <td>Vice-président, service de détail aux membres</td>\n",
       "      <td>57</td>\n",
       "      <td>137225</td>\n",
       "      <td>15</td>\n",
       "      <td>239024.83</td>\n",
       "    </tr>\n",
       "    <tr>\n",
       "      <th>0</th>\n",
       "      <td>Drolet c. Re/Max Québec inc., 2006 QCCS 1990</td>\n",
       "      <td>15</td>\n",
       "      <td>Vice-présidente/DG</td>\n",
       "      <td>53</td>\n",
       "      <td>171760</td>\n",
       "      <td>20</td>\n",
       "      <td>338028.67</td>\n",
       "    </tr>\n",
       "    <tr>\n",
       "      <th>1</th>\n",
       "      <td>Benoît c. Groupe DMR Inc., 2004 CanLII 610; Gr...</td>\n",
       "      <td>15</td>\n",
       "      <td>Gestionnaire</td>\n",
       "      <td>51</td>\n",
       "      <td>188000</td>\n",
       "      <td>24</td>\n",
       "      <td>501659.05</td>\n",
       "    </tr>\n",
       "    <tr>\n",
       "      <th>5</th>\n",
       "      <td>Morgan c. Atwater Badminton and Squash Club In...</td>\n",
       "      <td>17</td>\n",
       "      <td>Professionnel</td>\n",
       "      <td>47</td>\n",
       "      <td>60000</td>\n",
       "      <td>24</td>\n",
       "      <td>110581.41</td>\n",
       "    </tr>\n",
       "    <tr>\n",
       "      <th>2</th>\n",
       "      <td>Arcand c. Denharco inc. (C.S., 1996-06-07)</td>\n",
       "      <td>18</td>\n",
       "      <td>VP</td>\n",
       "      <td>48</td>\n",
       "      <td>113230</td>\n",
       "      <td>15</td>\n",
       "      <td>167761.40</td>\n",
       "    </tr>\n",
       "    <tr>\n",
       "      <th>3</th>\n",
       "      <td>Kugler c. IBM Canada Limited, 2016 QCCS 6576</td>\n",
       "      <td>20</td>\n",
       "      <td>PDG</td>\n",
       "      <td>49</td>\n",
       "      <td>438137</td>\n",
       "      <td>20</td>\n",
       "      <td>525660.23</td>\n",
       "    </tr>\n",
       "    <tr>\n",
       "      <th>4</th>\n",
       "      <td>Aksich c. Canadian Pacific Railway, 2006 QCCA 931</td>\n",
       "      <td>27</td>\n",
       "      <td>Cadre supérieur</td>\n",
       "      <td>51</td>\n",
       "      <td>120000</td>\n",
       "      <td>24</td>\n",
       "      <td>216114.25</td>\n",
       "    </tr>\n",
       "  </tbody>\n",
       "</table>\n",
       "</div>"
      ],
      "text/plain": [
       "                                         Description  Years  \\\n",
       "6  Melanson c. Groupe Cantrex Nationwide, 2014 QC...     12   \n",
       "0       Drolet c. Re/Max Québec inc., 2006 QCCS 1990     15   \n",
       "1  Benoît c. Groupe DMR Inc., 2004 CanLII 610; Gr...     15   \n",
       "5  Morgan c. Atwater Badminton and Squash Club In...     17   \n",
       "2         Arcand c. Denharco inc. (C.S., 1996-06-07)     18   \n",
       "3       Kugler c. IBM Canada Limited, 2016 QCCS 6576     20   \n",
       "4  Aksich c. Canadian Pacific Railway, 2006 QCCA 931     27   \n",
       "\n",
       "                                            Post  Age  Salary  Delay  \\\n",
       "6  Vice-président, service de détail aux membres   57  137225     15   \n",
       "0                             Vice-présidente/DG   53  171760     20   \n",
       "1                                   Gestionnaire   51  188000     24   \n",
       "5                                  Professionnel   47   60000     24   \n",
       "2                                             VP   48  113230     15   \n",
       "3                                            PDG   49  438137     20   \n",
       "4                               Cadre supérieur    51  120000     24   \n",
       "\n",
       "   Compensation  \n",
       "6     239024.83  \n",
       "0     338028.67  \n",
       "1     501659.05  \n",
       "5     110581.41  \n",
       "2     167761.40  \n",
       "3     525660.23  \n",
       "4     216114.25  "
      ]
     },
     "execution_count": 45,
     "metadata": {},
     "output_type": "execute_result"
    }
   ],
   "source": [
    "csv.sort_values(by=\"Years\")"
   ]
  },
  {
   "cell_type": "code",
   "execution_count": 49,
   "metadata": {
    "collapsed": false
   },
   "outputs": [
    {
     "data": {
      "text/html": [
       "<div>\n",
       "<table border=\"1\" class=\"dataframe\">\n",
       "  <thead>\n",
       "    <tr style=\"text-align: right;\">\n",
       "      <th></th>\n",
       "      <th>Years</th>\n",
       "      <th>Age</th>\n",
       "      <th>Salary</th>\n",
       "      <th>Delay</th>\n",
       "      <th>Compensation</th>\n",
       "    </tr>\n",
       "  </thead>\n",
       "  <tbody>\n",
       "    <tr>\n",
       "      <th>count</th>\n",
       "      <td>7.000000</td>\n",
       "      <td>7.000000</td>\n",
       "      <td>7.000000</td>\n",
       "      <td>7.000000</td>\n",
       "      <td>7.000000</td>\n",
       "    </tr>\n",
       "    <tr>\n",
       "      <th>mean</th>\n",
       "      <td>17.714286</td>\n",
       "      <td>50.857143</td>\n",
       "      <td>175478.857143</td>\n",
       "      <td>20.285714</td>\n",
       "      <td>299832.834286</td>\n",
       "    </tr>\n",
       "    <tr>\n",
       "      <th>std</th>\n",
       "      <td>4.820591</td>\n",
       "      <td>3.387653</td>\n",
       "      <td>123093.092661</td>\n",
       "      <td>4.029652</td>\n",
       "      <td>161841.556241</td>\n",
       "    </tr>\n",
       "    <tr>\n",
       "      <th>min</th>\n",
       "      <td>12.000000</td>\n",
       "      <td>47.000000</td>\n",
       "      <td>60000.000000</td>\n",
       "      <td>15.000000</td>\n",
       "      <td>110581.410000</td>\n",
       "    </tr>\n",
       "    <tr>\n",
       "      <th>25%</th>\n",
       "      <td>15.000000</td>\n",
       "      <td>48.500000</td>\n",
       "      <td>116615.000000</td>\n",
       "      <td>17.500000</td>\n",
       "      <td>191937.825000</td>\n",
       "    </tr>\n",
       "    <tr>\n",
       "      <th>50%</th>\n",
       "      <td>17.000000</td>\n",
       "      <td>51.000000</td>\n",
       "      <td>137225.000000</td>\n",
       "      <td>20.000000</td>\n",
       "      <td>239024.830000</td>\n",
       "    </tr>\n",
       "    <tr>\n",
       "      <th>75%</th>\n",
       "      <td>19.000000</td>\n",
       "      <td>52.000000</td>\n",
       "      <td>179880.000000</td>\n",
       "      <td>24.000000</td>\n",
       "      <td>419843.860000</td>\n",
       "    </tr>\n",
       "    <tr>\n",
       "      <th>max</th>\n",
       "      <td>27.000000</td>\n",
       "      <td>57.000000</td>\n",
       "      <td>438137.000000</td>\n",
       "      <td>24.000000</td>\n",
       "      <td>525660.230000</td>\n",
       "    </tr>\n",
       "  </tbody>\n",
       "</table>\n",
       "</div>"
      ],
      "text/plain": [
       "           Years        Age         Salary      Delay   Compensation\n",
       "count   7.000000   7.000000       7.000000   7.000000       7.000000\n",
       "mean   17.714286  50.857143  175478.857143  20.285714  299832.834286\n",
       "std     4.820591   3.387653  123093.092661   4.029652  161841.556241\n",
       "min    12.000000  47.000000   60000.000000  15.000000  110581.410000\n",
       "25%    15.000000  48.500000  116615.000000  17.500000  191937.825000\n",
       "50%    17.000000  51.000000  137225.000000  20.000000  239024.830000\n",
       "75%    19.000000  52.000000  179880.000000  24.000000  419843.860000\n",
       "max    27.000000  57.000000  438137.000000  24.000000  525660.230000"
      ]
     },
     "execution_count": 49,
     "metadata": {},
     "output_type": "execute_result"
    }
   ],
   "source": [
    "csv.describe()"
   ]
  },
  {
   "cell_type": "code",
   "execution_count": 50,
   "metadata": {
    "collapsed": true
   },
   "outputs": [],
   "source": [
    "import seaborn"
   ]
  },
  {
   "cell_type": "code",
   "execution_count": 53,
   "metadata": {
    "collapsed": false
   },
   "outputs": [],
   "source": [
    "%matplotlib inline"
   ]
  },
  {
   "cell_type": "code",
   "execution_count": 60,
   "metadata": {
    "collapsed": false
   },
   "outputs": [
    {
     "data": {
      "text/plain": [
       "<seaborn.axisgrid.PairGrid at 0x11f645320>"
      ]
     },
     "execution_count": 60,
     "metadata": {},
     "output_type": "execute_result"
    },
    {
     "data": {
      "image/png": "[encoded data removed]",
      "text/plain": [
       "<matplotlib.figure.Figure at 0x11f983c88>"
      ]
     },
     "metadata": {},
     "output_type": "display_data"
    }
   ],
   "source": [
    "cols=[\"Salary\", \"Compensation\",\"Years\",\"Delay\"]\n",
    "seaborn.pairplot(csv[cols])"
   ]
  },
  {
   "cell_type": "code",
   "execution_count": 58,
   "metadata": {
    "collapsed": false
   },
   "outputs": [
    {
     "name": "stderr",
     "output_type": "stream",
     "text": [
      "/anaconda/lib/python3.6/site-packages/statsmodels/nonparametric/kdetools.py:20: VisibleDeprecationWarning: using a non-integer number instead of an integer will result in an error in the future\n",
      "  y = X[:m/2+1] + np.r_[0,X[m/2+1:],0]*1j\n"
     ]
    },
    {
     "data": {
      "text/plain": [
       "<matplotlib.axes._subplots.AxesSubplot at 0x11bb8fb00>"
      ]
     },
     "execution_count": 58,
     "metadata": {},
     "output_type": "execute_result"
    },
    {
     "data": {
      "image/png": "[encoded data removed]",
      "text/plain": [
       "<matplotlib.figure.Figure at 0x11e556898>"
      ]
     },
     "metadata": {},
     "output_type": "display_data"
    }
   ],
   "source": [
    "seaborn.distplot(csv[\"Salary\"])"
   ]
  },
  {
   "cell_type": "code",
   "execution_count": 66,
   "metadata": {
    "collapsed": false
   },
   "outputs": [
    {
     "data": {
      "text/plain": [
       "0    16901.433500\n",
       "1    20902.460417\n",
       "2    11184.093333\n",
       "3    26283.011500\n",
       "4     9004.760417\n",
       "5     4607.558750\n",
       "6    15934.988667\n",
       "dtype: float64"
      ]
     },
     "execution_count": 66,
     "metadata": {},
     "output_type": "execute_result"
    }
   ],
   "source": [
    "csv[\"Compensation\"]/csv[\"Delay\"]"
   ]
  },
  {
   "cell_type": "code",
   "execution_count": 65,
   "metadata": {
    "collapsed": false
   },
   "outputs": [
    {
     "data": {
      "text/plain": [
       "<seaborn.axisgrid.JointGrid at 0x120c96d30>"
      ]
     },
     "execution_count": 65,
     "metadata": {},
     "output_type": "execute_result"
    },
    {
     "data": {
      "image/png": "[encoded data removed]",
      "text/plain": [
       "<matplotlib.figure.Figure at 0x120c96e80>"
      ]
     },
     "metadata": {},
     "output_type": "display_data"
    }
   ],
   "source": [
    "seaborn.jointplot(csv[\"Salary\"],csv[\"Compensation\"]/csv[\"Delay\"])"
   ]
  },
  {
   "cell_type": "code",
   "execution_count": 69,
   "metadata": {
    "collapsed": false
   },
   "outputs": [
    {
     "data": {
      "text/plain": [
       "<matplotlib.axes._subplots.AxesSubplot at 0x1212797f0>"
      ]
     },
     "execution_count": 69,
     "metadata": {},
     "output_type": "execute_result"
    },
    {
     "data": {
      "image/png": "[encoded data removed]",
      "text/plain": [
       "<matplotlib.figure.Figure at 0x121239c50>"
      ]
     },
     "metadata": {},
     "output_type": "display_data"
    }
   ],
   "source": [
    "seaborn.heatmap(csv.corr())"
   ]
  },
  {
   "cell_type": "code",
   "execution_count": 70,
   "metadata": {
    "collapsed": false
   },
   "outputs": [
    {
     "data": {
      "text/html": [
       "<div>\n",
       "<table border=\"1\" class=\"dataframe\">\n",
       "  <thead>\n",
       "    <tr style=\"text-align: right;\">\n",
       "      <th></th>\n",
       "      <th>Years</th>\n",
       "      <th>Age</th>\n",
       "      <th>Salary</th>\n",
       "      <th>Delay</th>\n",
       "      <th>Compensation</th>\n",
       "    </tr>\n",
       "  </thead>\n",
       "  <tbody>\n",
       "    <tr>\n",
       "      <th>Years</th>\n",
       "      <td>1.000000</td>\n",
       "      <td>-0.431562</td>\n",
       "      <td>0.096790</td>\n",
       "      <td>0.433897</td>\n",
       "      <td>-0.099931</td>\n",
       "    </tr>\n",
       "    <tr>\n",
       "      <th>Age</th>\n",
       "      <td>-0.431562</td>\n",
       "      <td>1.000000</td>\n",
       "      <td>-0.045410</td>\n",
       "      <td>-0.374993</td>\n",
       "      <td>0.125581</td>\n",
       "    </tr>\n",
       "    <tr>\n",
       "      <th>Salary</th>\n",
       "      <td>0.096790</td>\n",
       "      <td>-0.045410</td>\n",
       "      <td>1.000000</td>\n",
       "      <td>-0.044095</td>\n",
       "      <td>0.826131</td>\n",
       "    </tr>\n",
       "    <tr>\n",
       "      <th>Delay</th>\n",
       "      <td>0.433897</td>\n",
       "      <td>-0.374993</td>\n",
       "      <td>-0.044095</td>\n",
       "      <td>1.000000</td>\n",
       "      <td>0.173735</td>\n",
       "    </tr>\n",
       "    <tr>\n",
       "      <th>Compensation</th>\n",
       "      <td>-0.099931</td>\n",
       "      <td>0.125581</td>\n",
       "      <td>0.826131</td>\n",
       "      <td>0.173735</td>\n",
       "      <td>1.000000</td>\n",
       "    </tr>\n",
       "  </tbody>\n",
       "</table>\n",
       "</div>"
      ],
      "text/plain": [
       "                 Years       Age    Salary     Delay  Compensation\n",
       "Years         1.000000 -0.431562  0.096790  0.433897     -0.099931\n",
       "Age          -0.431562  1.000000 -0.045410 -0.374993      0.125581\n",
       "Salary        0.096790 -0.045410  1.000000 -0.044095      0.826131\n",
       "Delay         0.433897 -0.374993 -0.044095  1.000000      0.173735\n",
       "Compensation -0.099931  0.125581  0.826131  0.173735      1.000000"
      ]
     },
     "execution_count": 70,
     "metadata": {},
     "output_type": "execute_result"
    }
   ],
   "source": [
    "csv.corr()"
   ]
  },
  {
   "cell_type": "markdown",
   "metadata": {},
   "source": [
    "Let's add another column which salary divided by delay"
   ]
  },
  {
   "cell_type": "code",
   "execution_count": 85,
   "metadata": {
    "collapsed": false
   },
   "outputs": [],
   "source": [
    "csv[\"DelayCompensation\"] = csv[\"Compensation\"] / csv[\"Delay\"]\n",
    "csv[\"DelaySalary\"] = csv[\"Salary\"] / csv[\"Delay\"]"
   ]
  },
  {
   "cell_type": "code",
   "execution_count": 86,
   "metadata": {
    "collapsed": false
   },
   "outputs": [
    {
     "name": "stdout",
     "output_type": "stream",
     "text": [
      "<class 'pandas.core.frame.DataFrame'>\n",
      "RangeIndex: 7 entries, 0 to 6\n",
      "Data columns (total 9 columns):\n",
      "Description          7 non-null object\n",
      "Years                7 non-null int64\n",
      "Post                 7 non-null object\n",
      "Age                  7 non-null int64\n",
      "Salary               7 non-null int64\n",
      "Delay                7 non-null int64\n",
      "Compensation         7 non-null float64\n",
      "DelayCompensation    7 non-null float64\n",
      "DelaySalary          7 non-null float64\n",
      "dtypes: float64(3), int64(4), object(2)\n",
      "memory usage: 584.0+ bytes\n"
     ]
    }
   ],
   "source": [
    "csv.info()"
   ]
  },
  {
   "cell_type": "code",
   "execution_count": 155,
   "metadata": {
    "collapsed": false
   },
   "outputs": [
    {
     "data": {
      "text/plain": [
       "array([  8588.        ,   7833.33333333,   7548.66666667,  21906.85      ,\n",
       "         5000.        ,   2500.        ,   9148.33333333])"
      ]
     },
     "execution_count": 155,
     "metadata": {},
     "output_type": "execute_result"
    }
   ],
   "source": [
    "csv[\"DelaySalary\"].values"
   ]
  },
  {
   "cell_type": "code",
   "execution_count": 156,
   "metadata": {
    "collapsed": false
   },
   "outputs": [
    {
     "data": {
      "text/plain": [
       "array([ 338028.67,  501659.05,  167761.4 ,  525660.23,  216114.25,\n",
       "        110581.41,  239024.83])"
      ]
     },
     "execution_count": 156,
     "metadata": {},
     "output_type": "execute_result"
    }
   ],
   "source": [
    "csv[\"Compensation\"].values"
   ]
  },
  {
   "cell_type": "code",
   "execution_count": 163,
   "metadata": {
    "collapsed": false
   },
   "outputs": [
    {
     "data": {
      "text/plain": [
       "[<matplotlib.lines.Line2D at 0x12365ca90>]"
      ]
     },
     "execution_count": 163,
     "metadata": {},
     "output_type": "execute_result"
    },
    {
     "data": {
      "image/png": "[encoded data removed]",
      "text/plain": [
       "<matplotlib.figure.Figure at 0x1230433c8>"
      ]
     },
     "metadata": {},
     "output_type": "display_data"
    }
   ],
   "source": [
    "pylab.plot(csv[\"DelaySalary\"].values, csv[\"Compensation\"].values, \"bd\")"
   ]
  },
  {
   "cell_type": "code",
   "execution_count": 75,
   "metadata": {
    "collapsed": true
   },
   "outputs": [],
   "source": [
    "from sklearn import linear_model"
   ]
  },
  {
   "cell_type": "code",
   "execution_count": 178,
   "metadata": {
    "collapsed": false
   },
   "outputs": [
    {
     "data": {
      "text/plain": [
       "Ridge(alpha=0.5, copy_X=True, fit_intercept=True, max_iter=None,\n",
       "   normalize=True, random_state=None, solver='auto', tol=0.001)"
      ]
     },
     "execution_count": 178,
     "metadata": {},
     "output_type": "execute_result"
    }
   ],
   "source": [
    "ridge = linear_model.Ridge(normalize = True, alpha = 0.5)\n",
    "ridge2 = linear_model.Ridge(normalize = True, alpha = 0.5)\n",
    "ridge.fit(csv[[\"Salary\",\"Delay\",\"Years\"]].values, csv[\"Compensation\"].values)\n",
    "ridge2.fit(csv[[\"Salary\", \"Delay\"]].values, csv[\"Compensation\"].values)"
   ]
  },
  {
   "cell_type": "code",
   "execution_count": 179,
   "metadata": {
    "collapsed": false
   },
   "outputs": [
    {
     "data": {
      "text/plain": [
       "array([  7.44068294e-01,   7.11333443e+03,  -5.18266739e+03])"
      ]
     },
     "execution_count": 179,
     "metadata": {},
     "output_type": "execute_result"
    }
   ],
   "source": [
    "ridge.coef_"
   ]
  },
  {
   "cell_type": "code",
   "execution_count": 180,
   "metadata": {
    "collapsed": false
   },
   "outputs": [
    {
     "data": {
      "text/plain": [
       "array([  7.29232913e-01,   5.30659692e+03])"
      ]
     },
     "execution_count": 180,
     "metadata": {},
     "output_type": "execute_result"
    }
   ],
   "source": [
    "ridge2.coef_"
   ]
  },
  {
   "cell_type": "code",
   "execution_count": 181,
   "metadata": {
    "collapsed": false
   },
   "outputs": [
    {
     "data": {
      "text/plain": [
       "[<matplotlib.lines.Line2D at 0x123fc2630>]"
      ]
     },
     "execution_count": 181,
     "metadata": {},
     "output_type": "execute_result"
    },
    {
     "data": {
      "image/png": "[encoded data removed]",
      "text/plain": [
       "<matplotlib.figure.Figure at 0x123f36550>"
      ]
     },
     "metadata": {},
     "output_type": "display_data"
    }
   ],
   "source": [
    "pylab.plot(ridge.predict(csv[[\"Salary\",\"Delay\",\"Years\"]].values))"
   ]
  },
  {
   "cell_type": "code",
   "execution_count": 182,
   "metadata": {
    "collapsed": false
   },
   "outputs": [
    {
     "data": {
      "text/plain": [
       "[<matplotlib.lines.Line2D at 0x123a7ba90>,\n",
       " <matplotlib.lines.Line2D at 0x124130908>]"
      ]
     },
     "execution_count": 182,
     "metadata": {},
     "output_type": "execute_result"
    },
    {
     "data": {
      "image/png": "[encoded data removed]",
      "text/plain": [
       "<matplotlib.figure.Figure at 0x1240d8c18>"
      ]
     },
     "metadata": {},
     "output_type": "display_data"
    }
   ],
   "source": [
    "pylab.plot(range(0, 7), csv[\"Compensation\"], range(0, 7), ridge.predict(csv[[\"Salary\",\"Delay\",\"Years\"]].values), \"bd\")"
   ]
  },
  {
   "cell_type": "code",
   "execution_count": 183,
   "metadata": {
    "collapsed": false
   },
   "outputs": [
    {
     "data": {
      "text/plain": [
       "[<matplotlib.lines.Line2D at 0x123d86c88>,\n",
       " <matplotlib.lines.Line2D at 0x12425ef60>]"
      ]
     },
     "execution_count": 183,
     "metadata": {},
     "output_type": "execute_result"
    },
    {
     "data": {
      "image/png": "[encoded data removed]",
      "text/plain": [
       "<matplotlib.figure.Figure at 0x124146cf8>"
      ]
     },
     "metadata": {},
     "output_type": "display_data"
    }
   ],
   "source": [
    "pylab.plot(range(0, 7), csv[\"Compensation\"], range(0, 7), ridge2.predict(csv[[\"Salary\",\"Delay\"]].values), \"bd\")"
   ]
  },
  {
   "cell_type": "code",
   "execution_count": 184,
   "metadata": {
    "collapsed": false
   },
   "outputs": [
    {
     "data": {
      "text/html": [
       "<div>\n",
       "<table border=\"1\" class=\"dataframe\">\n",
       "  <thead>\n",
       "    <tr style=\"text-align: right;\">\n",
       "      <th></th>\n",
       "      <th>Description</th>\n",
       "      <th>Years</th>\n",
       "      <th>Post</th>\n",
       "      <th>Age</th>\n",
       "      <th>Salary</th>\n",
       "      <th>Delay</th>\n",
       "      <th>Compensation</th>\n",
       "      <th>DelayCompensation</th>\n",
       "      <th>DelaySalary</th>\n",
       "    </tr>\n",
       "  </thead>\n",
       "  <tbody>\n",
       "    <tr>\n",
       "      <th>0</th>\n",
       "      <td>Drolet c. Re/Max Québec inc., 2006 QCCS 1990</td>\n",
       "      <td>15</td>\n",
       "      <td>Vice-présidente/DG</td>\n",
       "      <td>53</td>\n",
       "      <td>171760</td>\n",
       "      <td>20</td>\n",
       "      <td>338028.67</td>\n",
       "      <td>16901.433500</td>\n",
       "      <td>8588.000000</td>\n",
       "    </tr>\n",
       "    <tr>\n",
       "      <th>1</th>\n",
       "      <td>Benoît c. Groupe DMR Inc., 2004 CanLII 610; Gr...</td>\n",
       "      <td>15</td>\n",
       "      <td>Gestionnaire</td>\n",
       "      <td>51</td>\n",
       "      <td>188000</td>\n",
       "      <td>24</td>\n",
       "      <td>501659.05</td>\n",
       "      <td>20902.460417</td>\n",
       "      <td>7833.333333</td>\n",
       "    </tr>\n",
       "    <tr>\n",
       "      <th>2</th>\n",
       "      <td>Arcand c. Denharco inc. (C.S., 1996-06-07)</td>\n",
       "      <td>18</td>\n",
       "      <td>VP</td>\n",
       "      <td>48</td>\n",
       "      <td>113230</td>\n",
       "      <td>15</td>\n",
       "      <td>167761.40</td>\n",
       "      <td>11184.093333</td>\n",
       "      <td>7548.666667</td>\n",
       "    </tr>\n",
       "    <tr>\n",
       "      <th>3</th>\n",
       "      <td>Kugler c. IBM Canada Limited, 2016 QCCS 6576</td>\n",
       "      <td>20</td>\n",
       "      <td>PDG</td>\n",
       "      <td>49</td>\n",
       "      <td>438137</td>\n",
       "      <td>20</td>\n",
       "      <td>525660.23</td>\n",
       "      <td>26283.011500</td>\n",
       "      <td>21906.850000</td>\n",
       "    </tr>\n",
       "    <tr>\n",
       "      <th>4</th>\n",
       "      <td>Aksich c. Canadian Pacific Railway, 2006 QCCA 931</td>\n",
       "      <td>27</td>\n",
       "      <td>Cadre supérieur</td>\n",
       "      <td>51</td>\n",
       "      <td>120000</td>\n",
       "      <td>24</td>\n",
       "      <td>216114.25</td>\n",
       "      <td>9004.760417</td>\n",
       "      <td>5000.000000</td>\n",
       "    </tr>\n",
       "    <tr>\n",
       "      <th>5</th>\n",
       "      <td>Morgan c. Atwater Badminton and Squash Club In...</td>\n",
       "      <td>17</td>\n",
       "      <td>Professionnel</td>\n",
       "      <td>47</td>\n",
       "      <td>60000</td>\n",
       "      <td>24</td>\n",
       "      <td>110581.41</td>\n",
       "      <td>4607.558750</td>\n",
       "      <td>2500.000000</td>\n",
       "    </tr>\n",
       "    <tr>\n",
       "      <th>6</th>\n",
       "      <td>Melanson c. Groupe Cantrex Nationwide, 2014 QC...</td>\n",
       "      <td>12</td>\n",
       "      <td>Vice-président, service de détail aux membres</td>\n",
       "      <td>57</td>\n",
       "      <td>137225</td>\n",
       "      <td>15</td>\n",
       "      <td>239024.83</td>\n",
       "      <td>15934.988667</td>\n",
       "      <td>9148.333333</td>\n",
       "    </tr>\n",
       "  </tbody>\n",
       "</table>\n",
       "</div>"
      ],
      "text/plain": [
       "                                         Description  Years  \\\n",
       "0       Drolet c. Re/Max Québec inc., 2006 QCCS 1990     15   \n",
       "1  Benoît c. Groupe DMR Inc., 2004 CanLII 610; Gr...     15   \n",
       "2         Arcand c. Denharco inc. (C.S., 1996-06-07)     18   \n",
       "3       Kugler c. IBM Canada Limited, 2016 QCCS 6576     20   \n",
       "4  Aksich c. Canadian Pacific Railway, 2006 QCCA 931     27   \n",
       "5  Morgan c. Atwater Badminton and Squash Club In...     17   \n",
       "6  Melanson c. Groupe Cantrex Nationwide, 2014 QC...     12   \n",
       "\n",
       "                                            Post  Age  Salary  Delay  \\\n",
       "0                             Vice-présidente/DG   53  171760     20   \n",
       "1                                   Gestionnaire   51  188000     24   \n",
       "2                                             VP   48  113230     15   \n",
       "3                                            PDG   49  438137     20   \n",
       "4                               Cadre supérieur    51  120000     24   \n",
       "5                                  Professionnel   47   60000     24   \n",
       "6  Vice-président, service de détail aux membres   57  137225     15   \n",
       "\n",
       "   Compensation  DelayCompensation   DelaySalary  \n",
       "0     338028.67       16901.433500   8588.000000  \n",
       "1     501659.05       20902.460417   7833.333333  \n",
       "2     167761.40       11184.093333   7548.666667  \n",
       "3     525660.23       26283.011500  21906.850000  \n",
       "4     216114.25        9004.760417   5000.000000  \n",
       "5     110581.41        4607.558750   2500.000000  \n",
       "6     239024.83       15934.988667   9148.333333  "
      ]
     },
     "execution_count": 184,
     "metadata": {},
     "output_type": "execute_result"
    }
   ],
   "source": [
    "csv"
   ]
  },
  {
   "cell_type": "code",
   "execution_count": 187,
   "metadata": {
    "collapsed": true
   },
   "outputs": [],
   "source": [
    "csv2 = csv.copy()"
   ]
  },
  {
   "cell_type": "code",
   "execution_count": 194,
   "metadata": {
    "collapsed": false
   },
   "outputs": [],
   "source": [
    "csv2 = csv2.drop(3)"
   ]
  },
  {
   "cell_type": "code",
   "execution_count": 199,
   "metadata": {
    "collapsed": false
   },
   "outputs": [
    {
     "data": {
      "text/plain": [
       "Ridge(alpha=0.5, copy_X=True, fit_intercept=True, max_iter=None,\n",
       "   normalize=True, random_state=None, solver='auto', tol=0.001)"
      ]
     },
     "execution_count": 199,
     "metadata": {},
     "output_type": "execute_result"
    }
   ],
   "source": [
    "ridge3 = linear_model.Ridge(normalize = True, alpha = 0.5)\n",
    "ridge3.fit(csv2[[\"Salary\",\"Delay\",\"Years\"]].values, csv2[\"Compensation\"].values)"
   ]
  },
  {
   "cell_type": "code",
   "execution_count": 200,
   "metadata": {
    "collapsed": false
   },
   "outputs": [
    {
     "data": {
      "text/plain": [
       "[<matplotlib.lines.Line2D at 0x12476cd68>,\n",
       " <matplotlib.lines.Line2D at 0x12476cf60>]"
      ]
     },
     "execution_count": 200,
     "metadata": {},
     "output_type": "execute_result"
    },
    {
     "data": {
      "image/png": "[encoded data removed]",
      "text/plain": [
       "<matplotlib.figure.Figure at 0x1243787f0>"
      ]
     },
     "metadata": {},
     "output_type": "display_data"
    }
   ],
   "source": [
    "pylab.plot(csv2[\"Compensation\"], \"b-\", ridge3.predict(csv2[[\"Salary\",\"Delay\",\"Years\"]].values), \"bd\")"
   ]
  },
  {
   "cell_type": "markdown",
   "metadata": {},
   "source": [
    "# Polynomial regression"
   ]
  },
  {
   "cell_type": "code",
   "execution_count": 202,
   "metadata": {
    "collapsed": true
   },
   "outputs": [],
   "source": [
    "from sklearn.pipeline import Pipeline\n",
    "from sklearn.preprocessing import PolynomialFeatures"
   ]
  },
  {
   "cell_type": "code",
   "execution_count": 214,
   "metadata": {
    "collapsed": true
   },
   "outputs": [],
   "source": [
    "model = Pipeline([('poly', PolynomialFeatures(degree = 2)), ('linear', linear_model.Ridge(normalize = True, alpha = 1.0))])"
   ]
  },
  {
   "cell_type": "code",
   "execution_count": 215,
   "metadata": {
    "collapsed": false
   },
   "outputs": [
    {
     "data": {
      "text/plain": [
       "Pipeline(steps=[('poly', PolynomialFeatures(degree=2, include_bias=True, interaction_only=False)), ('linear', Ridge(alpha=1.0, copy_X=True, fit_intercept=True, max_iter=None,\n",
       "   normalize=True, random_state=None, solver='auto', tol=0.001))])"
      ]
     },
     "execution_count": 215,
     "metadata": {},
     "output_type": "execute_result"
    }
   ],
   "source": [
    "model.fit(csv2[[\"Salary\",\"Delay\",\"Years\"]].values, csv2[\"Compensation\"].values)"
   ]
  },
  {
   "cell_type": "code",
   "execution_count": 216,
   "metadata": {
    "collapsed": false
   },
   "outputs": [
    {
     "data": {
      "text/plain": [
       "array([ 350376.35334686,  425385.20650396,  183414.34466216,\n",
       "        232692.71063278,  140086.34996339,  241214.64489087])"
      ]
     },
     "execution_count": 216,
     "metadata": {},
     "output_type": "execute_result"
    }
   ],
   "source": [
    "model.predict(csv2[[\"Salary\",\"Delay\",\"Years\"]].values)"
   ]
  },
  {
   "cell_type": "code",
   "execution_count": 217,
   "metadata": {
    "collapsed": false
   },
   "outputs": [
    {
     "data": {
      "text/plain": [
       "[<matplotlib.lines.Line2D at 0x124b205f8>,\n",
       " <matplotlib.lines.Line2D at 0x124b20828>]"
      ]
     },
     "execution_count": 217,
     "metadata": {},
     "output_type": "execute_result"
    },
    {
     "data": {
      "image/png": "[encoded data removed]",
      "text/plain": [
       "<matplotlib.figure.Figure at 0x124b92da0>"
      ]
     },
     "metadata": {},
     "output_type": "display_data"
    }
   ],
   "source": [
    "pylab.plot(csv2[\"Compensation\"].values, \"b-\", model.predict(csv2[[\"Salary\",\"Delay\",\"Years\"]].values), \"bd\")"
   ]
  },
  {
   "cell_type": "code",
   "execution_count": 212,
   "metadata": {
    "collapsed": false
   },
   "outputs": [
    {
     "data": {
      "text/html": [
       "<div>\n",
       "<table border=\"1\" class=\"dataframe\">\n",
       "  <thead>\n",
       "    <tr style=\"text-align: right;\">\n",
       "      <th></th>\n",
       "      <th>Description</th>\n",
       "      <th>Years</th>\n",
       "      <th>Post</th>\n",
       "      <th>Age</th>\n",
       "      <th>Salary</th>\n",
       "      <th>Delay</th>\n",
       "      <th>Compensation</th>\n",
       "      <th>DelayCompensation</th>\n",
       "      <th>DelaySalary</th>\n",
       "    </tr>\n",
       "  </thead>\n",
       "  <tbody>\n",
       "    <tr>\n",
       "      <th>0</th>\n",
       "      <td>Drolet c. Re/Max Québec inc., 2006 QCCS 1990</td>\n",
       "      <td>15</td>\n",
       "      <td>Vice-présidente/DG</td>\n",
       "      <td>53</td>\n",
       "      <td>171760</td>\n",
       "      <td>20</td>\n",
       "      <td>338028.67</td>\n",
       "      <td>16901.433500</td>\n",
       "      <td>8588.000000</td>\n",
       "    </tr>\n",
       "    <tr>\n",
       "      <th>1</th>\n",
       "      <td>Benoît c. Groupe DMR Inc., 2004 CanLII 610; Gr...</td>\n",
       "      <td>15</td>\n",
       "      <td>Gestionnaire</td>\n",
       "      <td>51</td>\n",
       "      <td>188000</td>\n",
       "      <td>24</td>\n",
       "      <td>501659.05</td>\n",
       "      <td>20902.460417</td>\n",
       "      <td>7833.333333</td>\n",
       "    </tr>\n",
       "    <tr>\n",
       "      <th>2</th>\n",
       "      <td>Arcand c. Denharco inc. (C.S., 1996-06-07)</td>\n",
       "      <td>18</td>\n",
       "      <td>VP</td>\n",
       "      <td>48</td>\n",
       "      <td>113230</td>\n",
       "      <td>15</td>\n",
       "      <td>167761.40</td>\n",
       "      <td>11184.093333</td>\n",
       "      <td>7548.666667</td>\n",
       "    </tr>\n",
       "    <tr>\n",
       "      <th>4</th>\n",
       "      <td>Aksich c. Canadian Pacific Railway, 2006 QCCA 931</td>\n",
       "      <td>27</td>\n",
       "      <td>Cadre supérieur</td>\n",
       "      <td>51</td>\n",
       "      <td>120000</td>\n",
       "      <td>24</td>\n",
       "      <td>216114.25</td>\n",
       "      <td>9004.760417</td>\n",
       "      <td>5000.000000</td>\n",
       "    </tr>\n",
       "    <tr>\n",
       "      <th>5</th>\n",
       "      <td>Morgan c. Atwater Badminton and Squash Club In...</td>\n",
       "      <td>17</td>\n",
       "      <td>Professionnel</td>\n",
       "      <td>47</td>\n",
       "      <td>60000</td>\n",
       "      <td>24</td>\n",
       "      <td>110581.41</td>\n",
       "      <td>4607.558750</td>\n",
       "      <td>2500.000000</td>\n",
       "    </tr>\n",
       "    <tr>\n",
       "      <th>6</th>\n",
       "      <td>Melanson c. Groupe Cantrex Nationwide, 2014 QC...</td>\n",
       "      <td>12</td>\n",
       "      <td>Vice-président, service de détail aux membres</td>\n",
       "      <td>57</td>\n",
       "      <td>137225</td>\n",
       "      <td>15</td>\n",
       "      <td>239024.83</td>\n",
       "      <td>15934.988667</td>\n",
       "      <td>9148.333333</td>\n",
       "    </tr>\n",
       "  </tbody>\n",
       "</table>\n",
       "</div>"
      ],
      "text/plain": [
       "                                         Description  Years  \\\n",
       "0       Drolet c. Re/Max Québec inc., 2006 QCCS 1990     15   \n",
       "1  Benoît c. Groupe DMR Inc., 2004 CanLII 610; Gr...     15   \n",
       "2         Arcand c. Denharco inc. (C.S., 1996-06-07)     18   \n",
       "4  Aksich c. Canadian Pacific Railway, 2006 QCCA 931     27   \n",
       "5  Morgan c. Atwater Badminton and Squash Club In...     17   \n",
       "6  Melanson c. Groupe Cantrex Nationwide, 2014 QC...     12   \n",
       "\n",
       "                                            Post  Age  Salary  Delay  \\\n",
       "0                             Vice-présidente/DG   53  171760     20   \n",
       "1                                   Gestionnaire   51  188000     24   \n",
       "2                                             VP   48  113230     15   \n",
       "4                               Cadre supérieur    51  120000     24   \n",
       "5                                  Professionnel   47   60000     24   \n",
       "6  Vice-président, service de détail aux membres   57  137225     15   \n",
       "\n",
       "   Compensation  DelayCompensation  DelaySalary  \n",
       "0     338028.67       16901.433500  8588.000000  \n",
       "1     501659.05       20902.460417  7833.333333  \n",
       "2     167761.40       11184.093333  7548.666667  \n",
       "4     216114.25        9004.760417  5000.000000  \n",
       "5     110581.41        4607.558750  2500.000000  \n",
       "6     239024.83       15934.988667  9148.333333  "
      ]
     },
     "execution_count": 212,
     "metadata": {},
     "output_type": "execute_result"
    }
   ],
   "source": [
    "csv2"
   ]
  },
  {
   "cell_type": "markdown",
   "metadata": {
    "collapsed": true
   },
   "source": [
    "# Polynomial regression for delay"
   ]
  },
  {
   "cell_type": "code",
   "execution_count": 233,
   "metadata": {
    "collapsed": true
   },
   "outputs": [],
   "source": [
    "csv3 = csv2.copy()"
   ]
  },
  {
   "cell_type": "code",
   "execution_count": 238,
   "metadata": {
    "collapsed": false
   },
   "outputs": [],
   "source": [
    "csv3[\"Level\"] = [3, 2, 3, 1, 1, 3]"
   ]
  },
  {
   "cell_type": "code",
   "execution_count": 222,
   "metadata": {
    "collapsed": true
   },
   "outputs": [],
   "source": [
    "model2 = Pipeline([('poly', PolynomialFeatures(degree = 1)), ('linear', linear_model.Ridge(normalize = True, alpha = 1.0))])"
   ]
  },
  {
   "cell_type": "code",
   "execution_count": 236,
   "metadata": {
    "collapsed": false
   },
   "outputs": [
    {
     "data": {
      "text/plain": [
       "Pipeline(steps=[('poly', PolynomialFeatures(degree=1, include_bias=True, interaction_only=False)), ('linear', Ridge(alpha=1.0, copy_X=True, fit_intercept=True, max_iter=None,\n",
       "   normalize=True, random_state=None, solver='auto', tol=0.001))])"
      ]
     },
     "execution_count": 236,
     "metadata": {},
     "output_type": "execute_result"
    }
   ],
   "source": [
    "model2.fit(csv3[[\"Salary\",\"Years\", \"Level\"]].values, csv2[\"Delay\"].values)"
   ]
  },
  {
   "cell_type": "code",
   "execution_count": 239,
   "metadata": {
    "collapsed": false
   },
   "outputs": [
    {
     "data": {
      "text/plain": [
       "array([ 18.95084082,  20.94879017,  18.68375565,  23.26679503,\n",
       "        21.7939893 ,  18.35582903])"
      ]
     },
     "execution_count": 239,
     "metadata": {},
     "output_type": "execute_result"
    }
   ],
   "source": [
    "model2.predict(csv3[[\"Salary\",\"Years\", \"Level\"]].values)"
   ]
  },
  {
   "cell_type": "code",
   "execution_count": 241,
   "metadata": {
    "collapsed": false
   },
   "outputs": [
    {
     "data": {
      "text/plain": [
       "(0.0, 24.449999999999999)"
      ]
     },
     "execution_count": 241,
     "metadata": {},
     "output_type": "execute_result"
    },
    {
     "data": {
      "image/png": "[encoded data removed]",
      "text/plain": [
       "<matplotlib.figure.Figure at 0x124cecc88>"
      ]
     },
     "metadata": {},
     "output_type": "display_data"
    }
   ],
   "source": [
    "pylab.plot(csv3[\"Delay\"].values,\"b-\",model2.predict(csv3[[\"Salary\",\"Years\",\"Level\"]].values),\"bd\")\n",
    "pylab.ylim(ymin = 0.0)"
   ]
  }
 ],
 "metadata": {
  "kernelspec": {
   "display_name": "Python 3",
   "language": "python",
   "name": "python3"
  },
  "language_info": {
   "codemirror_mode": {
    "name": "ipython",
    "version": 3
   },
   "file_extension": ".py",
   "mimetype": "text/x-python",
   "name": "python",
   "nbconvert_exporter": "python",
   "pygments_lexer": "ipython3",
   "version": "3.6.0"
  }
 },
 "nbformat": 4,
 "nbformat_minor": 2
}
