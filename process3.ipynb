{
 "cells": [
  {
   "cell_type": "markdown",
   "metadata": {},
   "source": [
    "# This is to find any necessary correlations for case processing"
   ]
  },
  {
   "cell_type": "code",
   "execution_count": 1,
   "metadata": {},
   "outputs": [
    {
     "name": "stdout",
     "output_type": "stream",
     "text": [
      "Populating the interactive namespace from numpy and matplotlib\n"
     ]
    }
   ],
   "source": [
    "import pandas\n",
    "%pylab inline\n",
    "import numpy"
   ]
  },
  {
   "cell_type": "markdown",
   "metadata": {},
   "source": [
    "### Load the file"
   ]
  },
  {
   "cell_type": "code",
   "execution_count": 2,
   "metadata": {},
   "outputs": [],
   "source": [
    "csv = pandas.read_excel(\"table_clean.xlsx\")"
   ]
  },
  {
   "cell_type": "code",
   "execution_count": 3,
   "metadata": {},
   "outputs": [
    {
     "data": {
      "text/html": [
       "<div>\n",
       "<style>\n",
       "    .dataframe thead tr:only-child th {\n",
       "        text-align: right;\n",
       "    }\n",
       "\n",
       "    .dataframe thead th {\n",
       "        text-align: left;\n",
       "    }\n",
       "\n",
       "    .dataframe tbody tr th {\n",
       "        vertical-align: top;\n",
       "    }\n",
       "</style>\n",
       "<table border=\"1\" class=\"dataframe\">\n",
       "  <thead>\n",
       "    <tr style=\"text-align: right;\">\n",
       "      <th></th>\n",
       "      <th>Case</th>\n",
       "      <th>Years</th>\n",
       "      <th>Position</th>\n",
       "      <th>Age</th>\n",
       "      <th>Salary</th>\n",
       "      <th>Delay</th>\n",
       "      <th>Damage</th>\n",
       "      <th>Difficulty</th>\n",
       "      <th>Job type</th>\n",
       "    </tr>\n",
       "  </thead>\n",
       "  <tbody>\n",
       "    <tr>\n",
       "      <th>0</th>\n",
       "      <td>Drolet c. Re/Max Québec inc., 2006\\nQCCS 1990</td>\n",
       "      <td>15.00</td>\n",
       "      <td>4</td>\n",
       "      <td>53</td>\n",
       "      <td>171760.00</td>\n",
       "      <td>20.0</td>\n",
       "      <td>338028.67</td>\n",
       "      <td>NaN</td>\n",
       "      <td>NaN</td>\n",
       "    </tr>\n",
       "    <tr>\n",
       "      <th>1</th>\n",
       "      <td>Benoît c. Groupe DMR Inc., 2004 CanLII 610; Gr...</td>\n",
       "      <td>15.00</td>\n",
       "      <td>2</td>\n",
       "      <td>51</td>\n",
       "      <td>188000.00</td>\n",
       "      <td>24.0</td>\n",
       "      <td>501659.05</td>\n",
       "      <td>NaN</td>\n",
       "      <td>NaN</td>\n",
       "    </tr>\n",
       "    <tr>\n",
       "      <th>2</th>\n",
       "      <td>Arcand c. Denharco inc. (C.S., 1996-06-07)</td>\n",
       "      <td>18.00</td>\n",
       "      <td>3</td>\n",
       "      <td>48</td>\n",
       "      <td>113230.00</td>\n",
       "      <td>15.0</td>\n",
       "      <td>167761.40</td>\n",
       "      <td>NaN</td>\n",
       "      <td>NaN</td>\n",
       "    </tr>\n",
       "    <tr>\n",
       "      <th>3</th>\n",
       "      <td>Kugler c. IBM Canada Limited, 2016 QCCS 6576</td>\n",
       "      <td>20.00</td>\n",
       "      <td>4</td>\n",
       "      <td>49</td>\n",
       "      <td>438137.00</td>\n",
       "      <td>20.0</td>\n",
       "      <td>525660.23</td>\n",
       "      <td>NaN</td>\n",
       "      <td>NaN</td>\n",
       "    </tr>\n",
       "    <tr>\n",
       "      <th>4</th>\n",
       "      <td>Aksich c. Canadian Pacific Railway, 2006 QCCA 931</td>\n",
       "      <td>20.00</td>\n",
       "      <td>2</td>\n",
       "      <td>51</td>\n",
       "      <td>120000.00</td>\n",
       "      <td>24.0</td>\n",
       "      <td>216114.25</td>\n",
       "      <td>NaN</td>\n",
       "      <td>NaN</td>\n",
       "    </tr>\n",
       "    <tr>\n",
       "      <th>5</th>\n",
       "      <td>Morgan c. Atwater Badminton and Squash Club In...</td>\n",
       "      <td>17.00</td>\n",
       "      <td>1</td>\n",
       "      <td>47</td>\n",
       "      <td>60000.00</td>\n",
       "      <td>24.0</td>\n",
       "      <td>110581.41</td>\n",
       "      <td>NaN</td>\n",
       "      <td>NaN</td>\n",
       "    </tr>\n",
       "    <tr>\n",
       "      <th>6</th>\n",
       "      <td>Melanson c. Groupe Cantrex Nationwide, 2014 QC...</td>\n",
       "      <td>12.00</td>\n",
       "      <td>3</td>\n",
       "      <td>57</td>\n",
       "      <td>137225.00</td>\n",
       "      <td>15.0</td>\n",
       "      <td>220578.27</td>\n",
       "      <td>NaN</td>\n",
       "      <td>NaN</td>\n",
       "    </tr>\n",
       "    <tr>\n",
       "      <th>7</th>\n",
       "      <td>Longueuil Nissan c. Charbonneau, 2008 QCCA 363</td>\n",
       "      <td>3.50</td>\n",
       "      <td>2</td>\n",
       "      <td>41</td>\n",
       "      <td>97468.88</td>\n",
       "      <td>5.0</td>\n",
       "      <td>40620.00</td>\n",
       "      <td>NaN</td>\n",
       "      <td>NaN</td>\n",
       "    </tr>\n",
       "    <tr>\n",
       "      <th>8</th>\n",
       "      <td>Léger. c. Garage Technology Ventures Canada, l...</td>\n",
       "      <td>5.00</td>\n",
       "      <td>4</td>\n",
       "      <td>59</td>\n",
       "      <td>150000.00</td>\n",
       "      <td>12.0</td>\n",
       "      <td>150000.00</td>\n",
       "      <td>High</td>\n",
       "      <td>NaN</td>\n",
       "    </tr>\n",
       "    <tr>\n",
       "      <th>9</th>\n",
       "      <td>N.D. c. Promutuel Prairie-Valmont, société mut...</td>\n",
       "      <td>3.50</td>\n",
       "      <td>3</td>\n",
       "      <td>58</td>\n",
       "      <td>65000.00</td>\n",
       "      <td>10.0</td>\n",
       "      <td>65630.00</td>\n",
       "      <td>High</td>\n",
       "      <td>NaN</td>\n",
       "    </tr>\n",
       "    <tr>\n",
       "      <th>10</th>\n",
       "      <td>Bérard c. Compagnie Beaulieu Canada, 2011 QCCS...</td>\n",
       "      <td>4.00</td>\n",
       "      <td>3</td>\n",
       "      <td>52</td>\n",
       "      <td>140734.98</td>\n",
       "      <td>12.0</td>\n",
       "      <td>128234.98</td>\n",
       "      <td>High</td>\n",
       "      <td>NaN</td>\n",
       "    </tr>\n",
       "    <tr>\n",
       "      <th>11</th>\n",
       "      <td>Cimatec Environmental Engineering Inc. c. Aude...</td>\n",
       "      <td>6.00</td>\n",
       "      <td>4</td>\n",
       "      <td>53</td>\n",
       "      <td>60000.00</td>\n",
       "      <td>12.0</td>\n",
       "      <td>75000.00</td>\n",
       "      <td>High</td>\n",
       "      <td>NaN</td>\n",
       "    </tr>\n",
       "    <tr>\n",
       "      <th>12</th>\n",
       "      <td>Schiller c. Samcon inc., 2011 QCCS 4620</td>\n",
       "      <td>4.00</td>\n",
       "      <td>3</td>\n",
       "      <td>59</td>\n",
       "      <td>208329.00</td>\n",
       "      <td>12.0</td>\n",
       "      <td>128329.00</td>\n",
       "      <td>Medium</td>\n",
       "      <td>NaN</td>\n",
       "    </tr>\n",
       "    <tr>\n",
       "      <th>13</th>\n",
       "      <td>Jerome c. Listuguj Mi'Gmaq First Nation Govern...</td>\n",
       "      <td>4.00</td>\n",
       "      <td>4</td>\n",
       "      <td>50</td>\n",
       "      <td>72744.00</td>\n",
       "      <td>10.0</td>\n",
       "      <td>70668.77</td>\n",
       "      <td>High</td>\n",
       "      <td>NaN</td>\n",
       "    </tr>\n",
       "    <tr>\n",
       "      <th>14</th>\n",
       "      <td>Credifinance Securities Ltd c. Câble Satisfact...</td>\n",
       "      <td>1.00</td>\n",
       "      <td>4</td>\n",
       "      <td>54</td>\n",
       "      <td>250000.00</td>\n",
       "      <td>12.0</td>\n",
       "      <td>260000.00</td>\n",
       "      <td>high</td>\n",
       "      <td>NaN</td>\n",
       "    </tr>\n",
       "    <tr>\n",
       "      <th>15</th>\n",
       "      <td>Barbeau c. 1312316 Ontario Inc., 2002 CanLII 2...</td>\n",
       "      <td>6.00</td>\n",
       "      <td>2</td>\n",
       "      <td>43</td>\n",
       "      <td>51600.00</td>\n",
       "      <td>8.0</td>\n",
       "      <td>46680.00</td>\n",
       "      <td>medium</td>\n",
       "      <td>NaN</td>\n",
       "    </tr>\n",
       "    <tr>\n",
       "      <th>16</th>\n",
       "      <td>Mulhearn v. Bombardier Inc., 2001 CanLII 24901</td>\n",
       "      <td>20.00</td>\n",
       "      <td>2</td>\n",
       "      <td>32</td>\n",
       "      <td>67300.00</td>\n",
       "      <td>5.3</td>\n",
       "      <td>19000.00</td>\n",
       "      <td>low</td>\n",
       "      <td>NaN</td>\n",
       "    </tr>\n",
       "    <tr>\n",
       "      <th>17</th>\n",
       "      <td>Bill Sayer Sales Agency Inc. v. Schmidt Printi...</td>\n",
       "      <td>35.00</td>\n",
       "      <td>1</td>\n",
       "      <td>65</td>\n",
       "      <td>141800.00</td>\n",
       "      <td>24.0</td>\n",
       "      <td>283600.00</td>\n",
       "      <td>high</td>\n",
       "      <td>NaN</td>\n",
       "    </tr>\n",
       "    <tr>\n",
       "      <th>18</th>\n",
       "      <td>Ben-Hamadi c. Musitechnic Services éducatifs I...</td>\n",
       "      <td>8.00</td>\n",
       "      <td>4</td>\n",
       "      <td>50</td>\n",
       "      <td>138725.00</td>\n",
       "      <td>18.0</td>\n",
       "      <td>258089.00</td>\n",
       "      <td>high</td>\n",
       "      <td>NaN</td>\n",
       "    </tr>\n",
       "    <tr>\n",
       "      <th>19</th>\n",
       "      <td>Trudeau c. Pépin, Létourneau, S. E. N. C., 200...</td>\n",
       "      <td>31.00</td>\n",
       "      <td>1</td>\n",
       "      <td>48</td>\n",
       "      <td>55000.00</td>\n",
       "      <td>24.0</td>\n",
       "      <td>80000.00</td>\n",
       "      <td>high</td>\n",
       "      <td>adjoint à l'associé directeur</td>\n",
       "    </tr>\n",
       "    <tr>\n",
       "      <th>20</th>\n",
       "      <td>Shire Biochem Inc. c. King, 2003 CanLII 10770 ...</td>\n",
       "      <td>0.80</td>\n",
       "      <td>2</td>\n",
       "      <td>46</td>\n",
       "      <td>125000.00</td>\n",
       "      <td>12.0</td>\n",
       "      <td>128421.07</td>\n",
       "      <td>high</td>\n",
       "      <td>cancer biology research</td>\n",
       "    </tr>\n",
       "    <tr>\n",
       "      <th>21</th>\n",
       "      <td>Bouchard c. Batteries Électriques Gagnon Inc.,...</td>\n",
       "      <td>0.25</td>\n",
       "      <td>3</td>\n",
       "      <td>43</td>\n",
       "      <td>88000.00</td>\n",
       "      <td>9.5</td>\n",
       "      <td>46273.00</td>\n",
       "      <td>medium</td>\n",
       "      <td>vente de pièces d'automobiles</td>\n",
       "    </tr>\n",
       "    <tr>\n",
       "      <th>22</th>\n",
       "      <td>Ciampanelli c. Syndicat du vêtement, du textil...</td>\n",
       "      <td>33.00</td>\n",
       "      <td>4</td>\n",
       "      <td>56</td>\n",
       "      <td>104570.00</td>\n",
       "      <td>18.0</td>\n",
       "      <td>156855.00</td>\n",
       "      <td>high</td>\n",
       "      <td>syndicat</td>\n",
       "    </tr>\n",
       "    <tr>\n",
       "      <th>23</th>\n",
       "      <td>McBrearty c. Cerescorp Company, 2009 QCCS 3134</td>\n",
       "      <td>39.00</td>\n",
       "      <td>4</td>\n",
       "      <td>69</td>\n",
       "      <td>301345.00</td>\n",
       "      <td>24.0</td>\n",
       "      <td>1260100.00</td>\n",
       "      <td>high</td>\n",
       "      <td>port terminal operations and stevedoring</td>\n",
       "    </tr>\n",
       "    <tr>\n",
       "      <th>24</th>\n",
       "      <td>Canadian Jewish Congress c. Polger, 2011 QCCA ...</td>\n",
       "      <td>36.00</td>\n",
       "      <td>2</td>\n",
       "      <td>61</td>\n",
       "      <td>50254.00</td>\n",
       "      <td>24.0</td>\n",
       "      <td>105202.00</td>\n",
       "      <td>high</td>\n",
       "      <td>Chief Book-keeper</td>\n",
       "    </tr>\n",
       "    <tr>\n",
       "      <th>25</th>\n",
       "      <td>Canadian Jewish Congress c. Polger, 2011 QCCA ...</td>\n",
       "      <td>25.00</td>\n",
       "      <td>3</td>\n",
       "      <td>54</td>\n",
       "      <td>152682.00</td>\n",
       "      <td>24.0</td>\n",
       "      <td>315168.00</td>\n",
       "      <td>high</td>\n",
       "      <td>directeur des finances</td>\n",
       "    </tr>\n",
       "    <tr>\n",
       "      <th>26</th>\n",
       "      <td>Murat c. Construction DJL inc., 2015 QCCS 3242</td>\n",
       "      <td>0.85</td>\n",
       "      <td>4</td>\n",
       "      <td>58</td>\n",
       "      <td>276923.04</td>\n",
       "      <td>12.0</td>\n",
       "      <td>207692.28</td>\n",
       "      <td>high</td>\n",
       "      <td>gérer les filiales et de voir à des acquisitions</td>\n",
       "    </tr>\n",
       "    <tr>\n",
       "      <th>27</th>\n",
       "      <td>Blais c. Aéroport de Québec inc., 2016 QCCS 1563</td>\n",
       "      <td>1.00</td>\n",
       "      <td>2</td>\n",
       "      <td>54</td>\n",
       "      <td>118450.00</td>\n",
       "      <td>12.0</td>\n",
       "      <td>153278.87</td>\n",
       "      <td>high</td>\n",
       "      <td>contrôleur finance et construction</td>\n",
       "    </tr>\n",
       "    <tr>\n",
       "      <th>28</th>\n",
       "      <td>Rippeur c. Société canadienne des postes, 2016...</td>\n",
       "      <td>33.00</td>\n",
       "      <td>2</td>\n",
       "      <td>50</td>\n",
       "      <td>86987.00</td>\n",
       "      <td>24.0</td>\n",
       "      <td>262700.00</td>\n",
       "      <td>high</td>\n",
       "      <td>gestionnaire des opérations, levée et livraiso...</td>\n",
       "    </tr>\n",
       "  </tbody>\n",
       "</table>\n",
       "</div>"
      ],
      "text/plain": [
       "                                                 Case  Years  Position  Age  \\\n",
       "0       Drolet c. Re/Max Québec inc., 2006\\nQCCS 1990  15.00         4   53   \n",
       "1   Benoît c. Groupe DMR Inc., 2004 CanLII 610; Gr...  15.00         2   51   \n",
       "2          Arcand c. Denharco inc. (C.S., 1996-06-07)  18.00         3   48   \n",
       "3        Kugler c. IBM Canada Limited, 2016 QCCS 6576  20.00         4   49   \n",
       "4   Aksich c. Canadian Pacific Railway, 2006 QCCA 931  20.00         2   51   \n",
       "5   Morgan c. Atwater Badminton and Squash Club In...  17.00         1   47   \n",
       "6   Melanson c. Groupe Cantrex Nationwide, 2014 QC...  12.00         3   57   \n",
       "7      Longueuil Nissan c. Charbonneau, 2008 QCCA 363   3.50         2   41   \n",
       "8   Léger. c. Garage Technology Ventures Canada, l...   5.00         4   59   \n",
       "9   N.D. c. Promutuel Prairie-Valmont, société mut...   3.50         3   58   \n",
       "10  Bérard c. Compagnie Beaulieu Canada, 2011 QCCS...   4.00         3   52   \n",
       "11  Cimatec Environmental Engineering Inc. c. Aude...   6.00         4   53   \n",
       "12            Schiller c. Samcon inc., 2011 QCCS 4620   4.00         3   59   \n",
       "13  Jerome c. Listuguj Mi'Gmaq First Nation Govern...   4.00         4   50   \n",
       "14  Credifinance Securities Ltd c. Câble Satisfact...   1.00         4   54   \n",
       "15  Barbeau c. 1312316 Ontario Inc., 2002 CanLII 2...   6.00         2   43   \n",
       "16     Mulhearn v. Bombardier Inc., 2001 CanLII 24901  20.00         2   32   \n",
       "17  Bill Sayer Sales Agency Inc. v. Schmidt Printi...  35.00         1   65   \n",
       "18  Ben-Hamadi c. Musitechnic Services éducatifs I...   8.00         4   50   \n",
       "19  Trudeau c. Pépin, Létourneau, S. E. N. C., 200...  31.00         1   48   \n",
       "20  Shire Biochem Inc. c. King, 2003 CanLII 10770 ...   0.80         2   46   \n",
       "21  Bouchard c. Batteries Électriques Gagnon Inc.,...   0.25         3   43   \n",
       "22  Ciampanelli c. Syndicat du vêtement, du textil...  33.00         4   56   \n",
       "23     McBrearty c. Cerescorp Company, 2009 QCCS 3134  39.00         4   69   \n",
       "24  Canadian Jewish Congress c. Polger, 2011 QCCA ...  36.00         2   61   \n",
       "25  Canadian Jewish Congress c. Polger, 2011 QCCA ...  25.00         3   54   \n",
       "26    Murat c. Construction DJL inc., 2015 QCCS 3242    0.85         4   58   \n",
       "27   Blais c. Aéroport de Québec inc., 2016 QCCS 1563   1.00         2   54   \n",
       "28  Rippeur c. Société canadienne des postes, 2016...  33.00         2   50   \n",
       "\n",
       "       Salary  Delay      Damage Difficulty  \\\n",
       "0   171760.00   20.0   338028.67        NaN   \n",
       "1   188000.00   24.0   501659.05        NaN   \n",
       "2   113230.00   15.0   167761.40        NaN   \n",
       "3   438137.00   20.0   525660.23        NaN   \n",
       "4   120000.00   24.0   216114.25        NaN   \n",
       "5    60000.00   24.0   110581.41        NaN   \n",
       "6   137225.00   15.0   220578.27        NaN   \n",
       "7    97468.88    5.0    40620.00        NaN   \n",
       "8   150000.00   12.0   150000.00       High   \n",
       "9    65000.00   10.0    65630.00       High   \n",
       "10  140734.98   12.0   128234.98       High   \n",
       "11   60000.00   12.0    75000.00       High   \n",
       "12  208329.00   12.0   128329.00     Medium   \n",
       "13   72744.00   10.0    70668.77       High   \n",
       "14  250000.00   12.0   260000.00       high   \n",
       "15   51600.00    8.0    46680.00     medium   \n",
       "16   67300.00    5.3    19000.00        low   \n",
       "17  141800.00   24.0   283600.00       high   \n",
       "18  138725.00   18.0   258089.00       high   \n",
       "19   55000.00   24.0    80000.00       high   \n",
       "20  125000.00   12.0   128421.07       high   \n",
       "21   88000.00    9.5    46273.00     medium   \n",
       "22  104570.00   18.0   156855.00       high   \n",
       "23  301345.00   24.0  1260100.00       high   \n",
       "24   50254.00   24.0   105202.00       high   \n",
       "25  152682.00   24.0   315168.00       high   \n",
       "26  276923.04   12.0   207692.28       high   \n",
       "27  118450.00   12.0   153278.87       high   \n",
       "28   86987.00   24.0   262700.00       high   \n",
       "\n",
       "                                             Job type  \n",
       "0                                                 NaN  \n",
       "1                                                 NaN  \n",
       "2                                                 NaN  \n",
       "3                                                 NaN  \n",
       "4                                                 NaN  \n",
       "5                                                 NaN  \n",
       "6                                                 NaN  \n",
       "7                                                 NaN  \n",
       "8                                                 NaN  \n",
       "9                                                 NaN  \n",
       "10                                                NaN  \n",
       "11                                                NaN  \n",
       "12                                                NaN  \n",
       "13                                                NaN  \n",
       "14                                                NaN  \n",
       "15                                                NaN  \n",
       "16                                                NaN  \n",
       "17                                                NaN  \n",
       "18                                                NaN  \n",
       "19                      adjoint à l'associé directeur  \n",
       "20                            cancer biology research  \n",
       "21                      vente de pièces d'automobiles  \n",
       "22                                           syndicat  \n",
       "23           port terminal operations and stevedoring  \n",
       "24                                  Chief Book-keeper  \n",
       "25                             directeur des finances  \n",
       "26   gérer les filiales et de voir à des acquisitions  \n",
       "27                 contrôleur finance et construction  \n",
       "28  gestionnaire des opérations, levée et livraiso...  "
      ]
     },
     "execution_count": 3,
     "metadata": {},
     "output_type": "execute_result"
    }
   ],
   "source": [
    "csv"
   ]
  },
  {
   "cell_type": "code",
   "execution_count": 4,
   "metadata": {},
   "outputs": [
    {
     "name": "stdout",
     "output_type": "stream",
     "text": [
      "(29, 9)\n"
     ]
    }
   ],
   "source": [
    "print(csv.shape)"
   ]
  },
  {
   "cell_type": "code",
   "execution_count": 5,
   "metadata": {},
   "outputs": [
    {
     "name": "stdout",
     "output_type": "stream",
     "text": [
      "Index(['Case', 'Years', 'Position', 'Age', 'Salary', 'Delay', 'Damage',\n",
      "       'Difficulty', 'Job type'],\n",
      "      dtype='object')\n"
     ]
    }
   ],
   "source": [
    "print(csv.columns)"
   ]
  },
  {
   "cell_type": "code",
   "execution_count": 7,
   "metadata": {},
   "outputs": [
    {
     "name": "stdout",
     "output_type": "stream",
     "text": [
      "<class 'pandas.core.frame.DataFrame'>\n",
      "RangeIndex: 29 entries, 0 to 28\n",
      "Data columns (total 9 columns):\n",
      "Case          29 non-null object\n",
      "Years         29 non-null float64\n",
      "Position      29 non-null int64\n",
      "Age           29 non-null int64\n",
      "Salary        29 non-null float64\n",
      "Delay         29 non-null float64\n",
      "Damage        29 non-null float64\n",
      "Difficulty    21 non-null object\n",
      "Job type      10 non-null object\n",
      "dtypes: float64(4), int64(2), object(3)\n",
      "memory usage: 2.1+ KB\n",
      "None\n"
     ]
    }
   ],
   "source": [
    "print(csv.info())"
   ]
  },
  {
   "cell_type": "code",
   "execution_count": 6,
   "metadata": {},
   "outputs": [
    {
     "data": {
      "text/plain": [
       "0     171760.00\n",
       "1     188000.00\n",
       "2     113230.00\n",
       "3     438137.00\n",
       "4     120000.00\n",
       "5      60000.00\n",
       "6     137225.00\n",
       "7      97468.88\n",
       "8     150000.00\n",
       "9      65000.00\n",
       "10    140734.98\n",
       "11     60000.00\n",
       "12    208329.00\n",
       "13     72744.00\n",
       "14    250000.00\n",
       "15     51600.00\n",
       "16     67300.00\n",
       "17    141800.00\n",
       "18    138725.00\n",
       "19     55000.00\n",
       "20    125000.00\n",
       "21     88000.00\n",
       "22    104570.00\n",
       "23    301345.00\n",
       "24     50254.00\n",
       "25    152682.00\n",
       "26    276923.04\n",
       "27    118450.00\n",
       "28     86987.00\n",
       "Name: Salary, dtype: float64"
      ]
     },
     "execution_count": 6,
     "metadata": {},
     "output_type": "execute_result"
    }
   ],
   "source": [
    "csv[\"Salary\"]"
   ]
  },
  {
   "cell_type": "code",
   "execution_count": 7,
   "metadata": {},
   "outputs": [
    {
     "data": {
      "text/html": [
       "<div>\n",
       "<style>\n",
       "    .dataframe thead tr:only-child th {\n",
       "        text-align: right;\n",
       "    }\n",
       "\n",
       "    .dataframe thead th {\n",
       "        text-align: left;\n",
       "    }\n",
       "\n",
       "    .dataframe tbody tr th {\n",
       "        vertical-align: top;\n",
       "    }\n",
       "</style>\n",
       "<table border=\"1\" class=\"dataframe\">\n",
       "  <thead>\n",
       "    <tr style=\"text-align: right;\">\n",
       "      <th></th>\n",
       "      <th>Years</th>\n",
       "      <th>Position</th>\n",
       "      <th>Age</th>\n",
       "      <th>Salary</th>\n",
       "      <th>Delay</th>\n",
       "      <th>Damage</th>\n",
       "    </tr>\n",
       "  </thead>\n",
       "  <tbody>\n",
       "    <tr>\n",
       "      <th>count</th>\n",
       "      <td>29.000000</td>\n",
       "      <td>29.000000</td>\n",
       "      <td>29.000000</td>\n",
       "      <td>29.000000</td>\n",
       "      <td>29.000000</td>\n",
       "      <td>2.900000e+01</td>\n",
       "    </tr>\n",
       "    <tr>\n",
       "      <th>mean</th>\n",
       "      <td>14.375862</td>\n",
       "      <td>2.827586</td>\n",
       "      <td>52.103448</td>\n",
       "      <td>139009.134483</td>\n",
       "      <td>16.062069</td>\n",
       "      <td>2.179974e+05</td>\n",
       "    </tr>\n",
       "    <tr>\n",
       "      <th>std</th>\n",
       "      <td>12.616073</td>\n",
       "      <td>1.037475</td>\n",
       "      <td>7.470632</td>\n",
       "      <td>87771.003623</td>\n",
       "      <td>6.435472</td>\n",
       "      <td>2.369832e+05</td>\n",
       "    </tr>\n",
       "    <tr>\n",
       "      <th>min</th>\n",
       "      <td>0.250000</td>\n",
       "      <td>1.000000</td>\n",
       "      <td>32.000000</td>\n",
       "      <td>50254.000000</td>\n",
       "      <td>5.000000</td>\n",
       "      <td>1.900000e+04</td>\n",
       "    </tr>\n",
       "    <tr>\n",
       "      <th>25%</th>\n",
       "      <td>4.000000</td>\n",
       "      <td>2.000000</td>\n",
       "      <td>48.000000</td>\n",
       "      <td>72744.000000</td>\n",
       "      <td>12.000000</td>\n",
       "      <td>8.000000e+04</td>\n",
       "    </tr>\n",
       "    <tr>\n",
       "      <th>50%</th>\n",
       "      <td>12.000000</td>\n",
       "      <td>3.000000</td>\n",
       "      <td>52.000000</td>\n",
       "      <td>120000.000000</td>\n",
       "      <td>15.000000</td>\n",
       "      <td>1.532789e+05</td>\n",
       "    </tr>\n",
       "    <tr>\n",
       "      <th>75%</th>\n",
       "      <td>20.000000</td>\n",
       "      <td>4.000000</td>\n",
       "      <td>57.000000</td>\n",
       "      <td>152682.000000</td>\n",
       "      <td>24.000000</td>\n",
       "      <td>2.600000e+05</td>\n",
       "    </tr>\n",
       "    <tr>\n",
       "      <th>max</th>\n",
       "      <td>39.000000</td>\n",
       "      <td>4.000000</td>\n",
       "      <td>69.000000</td>\n",
       "      <td>438137.000000</td>\n",
       "      <td>24.000000</td>\n",
       "      <td>1.260100e+06</td>\n",
       "    </tr>\n",
       "  </tbody>\n",
       "</table>\n",
       "</div>"
      ],
      "text/plain": [
       "           Years   Position        Age         Salary      Delay        Damage\n",
       "count  29.000000  29.000000  29.000000      29.000000  29.000000  2.900000e+01\n",
       "mean   14.375862   2.827586  52.103448  139009.134483  16.062069  2.179974e+05\n",
       "std    12.616073   1.037475   7.470632   87771.003623   6.435472  2.369832e+05\n",
       "min     0.250000   1.000000  32.000000   50254.000000   5.000000  1.900000e+04\n",
       "25%     4.000000   2.000000  48.000000   72744.000000  12.000000  8.000000e+04\n",
       "50%    12.000000   3.000000  52.000000  120000.000000  15.000000  1.532789e+05\n",
       "75%    20.000000   4.000000  57.000000  152682.000000  24.000000  2.600000e+05\n",
       "max    39.000000   4.000000  69.000000  438137.000000  24.000000  1.260100e+06"
      ]
     },
     "execution_count": 7,
     "metadata": {},
     "output_type": "execute_result"
    }
   ],
   "source": [
    "csv.describe()"
   ]
  },
  {
   "cell_type": "code",
   "execution_count": 8,
   "metadata": {
    "collapsed": true
   },
   "outputs": [],
   "source": [
    "import seaborn"
   ]
  },
  {
   "cell_type": "code",
   "execution_count": 9,
   "metadata": {},
   "outputs": [
    {
     "data": {
      "text/plain": [
       "<seaborn.axisgrid.PairGrid at 0xc13e3c8>"
      ]
     },
     "execution_count": 9,
     "metadata": {},
     "output_type": "execute_result"
    },
    {
     "data": {
      "image/png": "[encoded data removed]",
      "text/plain": [
       "<matplotlib.figure.Figure at 0xc13e550>"
      ]
     },
     "metadata": {},
     "output_type": "display_data"
    }
   ],
   "source": [
    "cols=[\"Salary\",\"Damage\",\"Years\",\"Delay\"]\n",
    "seaborn.pairplot(csv[cols])"
   ]
  },
  {
   "cell_type": "code",
   "execution_count": 10,
   "metadata": {},
   "outputs": [
    {
     "data": {
      "text/plain": [
       "<matplotlib.axes._subplots.AxesSubplot at 0xc13e2e8>"
      ]
     },
     "execution_count": 10,
     "metadata": {},
     "output_type": "execute_result"
    },
    {
     "data": {
      "image/png": "[encoded data removed]",
      "text/plain": [
       "<matplotlib.figure.Figure at 0xcc37fd0>"
      ]
     },
     "metadata": {},
     "output_type": "display_data"
    }
   ],
   "source": [
    "seaborn.distplot(csv[\"Salary\"])"
   ]
  },
  {
   "cell_type": "code",
   "execution_count": 11,
   "metadata": {},
   "outputs": [
    {
     "data": {
      "text/plain": [
       "<seaborn.axisgrid.JointGrid at 0xcc67080>"
      ]
     },
     "execution_count": 11,
     "metadata": {},
     "output_type": "execute_result"
    },
    {
     "data": {
      "image/png": "[encoded data removed]",
      "text/plain": [
       "<matplotlib.figure.Figure at 0xcc676a0>"
      ]
     },
     "metadata": {},
     "output_type": "display_data"
    }
   ],
   "source": [
    "seaborn.jointplot(csv[\"Salary\"],csv[\"Delay\"])"
   ]
  },
  {
   "cell_type": "code",
   "execution_count": 12,
   "metadata": {},
   "outputs": [
    {
     "data": {
      "text/plain": [
       "<matplotlib.axes._subplots.AxesSubplot at 0xa37be48>"
      ]
     },
     "execution_count": 12,
     "metadata": {},
     "output_type": "execute_result"
    },
    {
     "data": {
      "image/png": "[encoded data removed]",
      "text/plain": [
       "<matplotlib.figure.Figure at 0xa36d908>"
      ]
     },
     "metadata": {},
     "output_type": "display_data"
    }
   ],
   "source": [
    "seaborn.heatmap(csv.corr())"
   ]
  },
  {
   "cell_type": "code",
   "execution_count": 13,
   "metadata": {},
   "outputs": [
    {
     "data": {
      "text/html": [
       "<div>\n",
       "<style>\n",
       "    .dataframe thead tr:only-child th {\n",
       "        text-align: right;\n",
       "    }\n",
       "\n",
       "    .dataframe thead th {\n",
       "        text-align: left;\n",
       "    }\n",
       "\n",
       "    .dataframe tbody tr th {\n",
       "        vertical-align: top;\n",
       "    }\n",
       "</style>\n",
       "<table border=\"1\" class=\"dataframe\">\n",
       "  <thead>\n",
       "    <tr style=\"text-align: right;\">\n",
       "      <th></th>\n",
       "      <th>Years</th>\n",
       "      <th>Position</th>\n",
       "      <th>Age</th>\n",
       "      <th>Salary</th>\n",
       "      <th>Delay</th>\n",
       "      <th>Damage</th>\n",
       "    </tr>\n",
       "  </thead>\n",
       "  <tbody>\n",
       "    <tr>\n",
       "      <th>Years</th>\n",
       "      <td>1.000000</td>\n",
       "      <td>-0.266232</td>\n",
       "      <td>0.299137</td>\n",
       "      <td>0.017294</td>\n",
       "      <td>0.763813</td>\n",
       "      <td>0.447541</td>\n",
       "    </tr>\n",
       "    <tr>\n",
       "      <th>Position</th>\n",
       "      <td>-0.266232</td>\n",
       "      <td>1.000000</td>\n",
       "      <td>0.288076</td>\n",
       "      <td>0.486566</td>\n",
       "      <td>-0.235307</td>\n",
       "      <td>0.286169</td>\n",
       "    </tr>\n",
       "    <tr>\n",
       "      <th>Age</th>\n",
       "      <td>0.299137</td>\n",
       "      <td>0.288076</td>\n",
       "      <td>1.000000</td>\n",
       "      <td>0.344395</td>\n",
       "      <td>0.434061</td>\n",
       "      <td>0.507029</td>\n",
       "    </tr>\n",
       "    <tr>\n",
       "      <th>Salary</th>\n",
       "      <td>0.017294</td>\n",
       "      <td>0.486566</td>\n",
       "      <td>0.344395</td>\n",
       "      <td>1.000000</td>\n",
       "      <td>0.174053</td>\n",
       "      <td>0.666449</td>\n",
       "    </tr>\n",
       "    <tr>\n",
       "      <th>Delay</th>\n",
       "      <td>0.763813</td>\n",
       "      <td>-0.235307</td>\n",
       "      <td>0.434061</td>\n",
       "      <td>0.174053</td>\n",
       "      <td>1.000000</td>\n",
       "      <td>0.503924</td>\n",
       "    </tr>\n",
       "    <tr>\n",
       "      <th>Damage</th>\n",
       "      <td>0.447541</td>\n",
       "      <td>0.286169</td>\n",
       "      <td>0.507029</td>\n",
       "      <td>0.666449</td>\n",
       "      <td>0.503924</td>\n",
       "      <td>1.000000</td>\n",
       "    </tr>\n",
       "  </tbody>\n",
       "</table>\n",
       "</div>"
      ],
      "text/plain": [
       "             Years  Position       Age    Salary     Delay    Damage\n",
       "Years     1.000000 -0.266232  0.299137  0.017294  0.763813  0.447541\n",
       "Position -0.266232  1.000000  0.288076  0.486566 -0.235307  0.286169\n",
       "Age       0.299137  0.288076  1.000000  0.344395  0.434061  0.507029\n",
       "Salary    0.017294  0.486566  0.344395  1.000000  0.174053  0.666449\n",
       "Delay     0.763813 -0.235307  0.434061  0.174053  1.000000  0.503924\n",
       "Damage    0.447541  0.286169  0.507029  0.666449  0.503924  1.000000"
      ]
     },
     "execution_count": 13,
     "metadata": {},
     "output_type": "execute_result"
    }
   ],
   "source": [
    "csv.corr()"
   ]
  },
  {
   "cell_type": "code",
   "execution_count": 19,
   "metadata": {},
   "outputs": [
    {
     "data": {
      "text/html": [
       "<div>\n",
       "<style>\n",
       "    .dataframe thead tr:only-child th {\n",
       "        text-align: right;\n",
       "    }\n",
       "\n",
       "    .dataframe thead th {\n",
       "        text-align: left;\n",
       "    }\n",
       "\n",
       "    .dataframe tbody tr th {\n",
       "        vertical-align: top;\n",
       "    }\n",
       "</style>\n",
       "<table border=\"1\" class=\"dataframe\">\n",
       "  <thead>\n",
       "    <tr style=\"text-align: right;\">\n",
       "      <th></th>\n",
       "      <th></th>\n",
       "      <th>Case</th>\n",
       "      <th>Age</th>\n",
       "      <th>Salary</th>\n",
       "      <th>Delay</th>\n",
       "      <th>Damage</th>\n",
       "      <th>Difficulty</th>\n",
       "      <th>Job type</th>\n",
       "    </tr>\n",
       "    <tr>\n",
       "      <th>Position</th>\n",
       "      <th>Years</th>\n",
       "      <th></th>\n",
       "      <th></th>\n",
       "      <th></th>\n",
       "      <th></th>\n",
       "      <th></th>\n",
       "      <th></th>\n",
       "      <th></th>\n",
       "    </tr>\n",
       "  </thead>\n",
       "  <tbody>\n",
       "    <tr>\n",
       "      <th rowspan=\"3\" valign=\"top\">1</th>\n",
       "      <th>17.00</th>\n",
       "      <td>1</td>\n",
       "      <td>1</td>\n",
       "      <td>1</td>\n",
       "      <td>1</td>\n",
       "      <td>1</td>\n",
       "      <td>0</td>\n",
       "      <td>0</td>\n",
       "    </tr>\n",
       "    <tr>\n",
       "      <th>31.00</th>\n",
       "      <td>1</td>\n",
       "      <td>1</td>\n",
       "      <td>1</td>\n",
       "      <td>1</td>\n",
       "      <td>1</td>\n",
       "      <td>1</td>\n",
       "      <td>1</td>\n",
       "    </tr>\n",
       "    <tr>\n",
       "      <th>35.00</th>\n",
       "      <td>1</td>\n",
       "      <td>1</td>\n",
       "      <td>1</td>\n",
       "      <td>1</td>\n",
       "      <td>1</td>\n",
       "      <td>1</td>\n",
       "      <td>0</td>\n",
       "    </tr>\n",
       "    <tr>\n",
       "      <th rowspan=\"8\" valign=\"top\">2</th>\n",
       "      <th>0.80</th>\n",
       "      <td>1</td>\n",
       "      <td>1</td>\n",
       "      <td>1</td>\n",
       "      <td>1</td>\n",
       "      <td>1</td>\n",
       "      <td>1</td>\n",
       "      <td>1</td>\n",
       "    </tr>\n",
       "    <tr>\n",
       "      <th>1.00</th>\n",
       "      <td>1</td>\n",
       "      <td>1</td>\n",
       "      <td>1</td>\n",
       "      <td>1</td>\n",
       "      <td>1</td>\n",
       "      <td>1</td>\n",
       "      <td>1</td>\n",
       "    </tr>\n",
       "    <tr>\n",
       "      <th>3.50</th>\n",
       "      <td>1</td>\n",
       "      <td>1</td>\n",
       "      <td>1</td>\n",
       "      <td>1</td>\n",
       "      <td>1</td>\n",
       "      <td>0</td>\n",
       "      <td>0</td>\n",
       "    </tr>\n",
       "    <tr>\n",
       "      <th>6.00</th>\n",
       "      <td>1</td>\n",
       "      <td>1</td>\n",
       "      <td>1</td>\n",
       "      <td>1</td>\n",
       "      <td>1</td>\n",
       "      <td>1</td>\n",
       "      <td>0</td>\n",
       "    </tr>\n",
       "    <tr>\n",
       "      <th>15.00</th>\n",
       "      <td>1</td>\n",
       "      <td>1</td>\n",
       "      <td>1</td>\n",
       "      <td>1</td>\n",
       "      <td>1</td>\n",
       "      <td>0</td>\n",
       "      <td>0</td>\n",
       "    </tr>\n",
       "    <tr>\n",
       "      <th>20.00</th>\n",
       "      <td>2</td>\n",
       "      <td>2</td>\n",
       "      <td>2</td>\n",
       "      <td>2</td>\n",
       "      <td>2</td>\n",
       "      <td>1</td>\n",
       "      <td>0</td>\n",
       "    </tr>\n",
       "    <tr>\n",
       "      <th>33.00</th>\n",
       "      <td>1</td>\n",
       "      <td>1</td>\n",
       "      <td>1</td>\n",
       "      <td>1</td>\n",
       "      <td>1</td>\n",
       "      <td>1</td>\n",
       "      <td>1</td>\n",
       "    </tr>\n",
       "    <tr>\n",
       "      <th>36.00</th>\n",
       "      <td>1</td>\n",
       "      <td>1</td>\n",
       "      <td>1</td>\n",
       "      <td>1</td>\n",
       "      <td>1</td>\n",
       "      <td>1</td>\n",
       "      <td>1</td>\n",
       "    </tr>\n",
       "    <tr>\n",
       "      <th rowspan=\"6\" valign=\"top\">3</th>\n",
       "      <th>0.25</th>\n",
       "      <td>1</td>\n",
       "      <td>1</td>\n",
       "      <td>1</td>\n",
       "      <td>1</td>\n",
       "      <td>1</td>\n",
       "      <td>1</td>\n",
       "      <td>1</td>\n",
       "    </tr>\n",
       "    <tr>\n",
       "      <th>3.50</th>\n",
       "      <td>1</td>\n",
       "      <td>1</td>\n",
       "      <td>1</td>\n",
       "      <td>1</td>\n",
       "      <td>1</td>\n",
       "      <td>1</td>\n",
       "      <td>0</td>\n",
       "    </tr>\n",
       "    <tr>\n",
       "      <th>4.00</th>\n",
       "      <td>2</td>\n",
       "      <td>2</td>\n",
       "      <td>2</td>\n",
       "      <td>2</td>\n",
       "      <td>2</td>\n",
       "      <td>2</td>\n",
       "      <td>0</td>\n",
       "    </tr>\n",
       "    <tr>\n",
       "      <th>12.00</th>\n",
       "      <td>1</td>\n",
       "      <td>1</td>\n",
       "      <td>1</td>\n",
       "      <td>1</td>\n",
       "      <td>1</td>\n",
       "      <td>0</td>\n",
       "      <td>0</td>\n",
       "    </tr>\n",
       "    <tr>\n",
       "      <th>18.00</th>\n",
       "      <td>1</td>\n",
       "      <td>1</td>\n",
       "      <td>1</td>\n",
       "      <td>1</td>\n",
       "      <td>1</td>\n",
       "      <td>0</td>\n",
       "      <td>0</td>\n",
       "    </tr>\n",
       "    <tr>\n",
       "      <th>25.00</th>\n",
       "      <td>1</td>\n",
       "      <td>1</td>\n",
       "      <td>1</td>\n",
       "      <td>1</td>\n",
       "      <td>1</td>\n",
       "      <td>1</td>\n",
       "      <td>1</td>\n",
       "    </tr>\n",
       "    <tr>\n",
       "      <th rowspan=\"10\" valign=\"top\">4</th>\n",
       "      <th>0.85</th>\n",
       "      <td>1</td>\n",
       "      <td>1</td>\n",
       "      <td>1</td>\n",
       "      <td>1</td>\n",
       "      <td>1</td>\n",
       "      <td>1</td>\n",
       "      <td>1</td>\n",
       "    </tr>\n",
       "    <tr>\n",
       "      <th>1.00</th>\n",
       "      <td>1</td>\n",
       "      <td>1</td>\n",
       "      <td>1</td>\n",
       "      <td>1</td>\n",
       "      <td>1</td>\n",
       "      <td>1</td>\n",
       "      <td>0</td>\n",
       "    </tr>\n",
       "    <tr>\n",
       "      <th>4.00</th>\n",
       "      <td>1</td>\n",
       "      <td>1</td>\n",
       "      <td>1</td>\n",
       "      <td>1</td>\n",
       "      <td>1</td>\n",
       "      <td>1</td>\n",
       "      <td>0</td>\n",
       "    </tr>\n",
       "    <tr>\n",
       "      <th>5.00</th>\n",
       "      <td>1</td>\n",
       "      <td>1</td>\n",
       "      <td>1</td>\n",
       "      <td>1</td>\n",
       "      <td>1</td>\n",
       "      <td>1</td>\n",
       "      <td>0</td>\n",
       "    </tr>\n",
       "    <tr>\n",
       "      <th>6.00</th>\n",
       "      <td>1</td>\n",
       "      <td>1</td>\n",
       "      <td>1</td>\n",
       "      <td>1</td>\n",
       "      <td>1</td>\n",
       "      <td>1</td>\n",
       "      <td>0</td>\n",
       "    </tr>\n",
       "    <tr>\n",
       "      <th>8.00</th>\n",
       "      <td>1</td>\n",
       "      <td>1</td>\n",
       "      <td>1</td>\n",
       "      <td>1</td>\n",
       "      <td>1</td>\n",
       "      <td>1</td>\n",
       "      <td>0</td>\n",
       "    </tr>\n",
       "    <tr>\n",
       "      <th>15.00</th>\n",
       "      <td>1</td>\n",
       "      <td>1</td>\n",
       "      <td>1</td>\n",
       "      <td>1</td>\n",
       "      <td>1</td>\n",
       "      <td>0</td>\n",
       "      <td>0</td>\n",
       "    </tr>\n",
       "    <tr>\n",
       "      <th>20.00</th>\n",
       "      <td>1</td>\n",
       "      <td>1</td>\n",
       "      <td>1</td>\n",
       "      <td>1</td>\n",
       "      <td>1</td>\n",
       "      <td>0</td>\n",
       "      <td>0</td>\n",
       "    </tr>\n",
       "    <tr>\n",
       "      <th>33.00</th>\n",
       "      <td>1</td>\n",
       "      <td>1</td>\n",
       "      <td>1</td>\n",
       "      <td>1</td>\n",
       "      <td>1</td>\n",
       "      <td>1</td>\n",
       "      <td>1</td>\n",
       "    </tr>\n",
       "    <tr>\n",
       "      <th>39.00</th>\n",
       "      <td>1</td>\n",
       "      <td>1</td>\n",
       "      <td>1</td>\n",
       "      <td>1</td>\n",
       "      <td>1</td>\n",
       "      <td>1</td>\n",
       "      <td>1</td>\n",
       "    </tr>\n",
       "  </tbody>\n",
       "</table>\n",
       "</div>"
      ],
      "text/plain": [
       "                Case  Age  Salary  Delay  Damage  Difficulty  Job type\n",
       "Position Years                                                        \n",
       "1        17.00     1    1       1      1       1           0         0\n",
       "         31.00     1    1       1      1       1           1         1\n",
       "         35.00     1    1       1      1       1           1         0\n",
       "2        0.80      1    1       1      1       1           1         1\n",
       "         1.00      1    1       1      1       1           1         1\n",
       "         3.50      1    1       1      1       1           0         0\n",
       "         6.00      1    1       1      1       1           1         0\n",
       "         15.00     1    1       1      1       1           0         0\n",
       "         20.00     2    2       2      2       2           1         0\n",
       "         33.00     1    1       1      1       1           1         1\n",
       "         36.00     1    1       1      1       1           1         1\n",
       "3        0.25      1    1       1      1       1           1         1\n",
       "         3.50      1    1       1      1       1           1         0\n",
       "         4.00      2    2       2      2       2           2         0\n",
       "         12.00     1    1       1      1       1           0         0\n",
       "         18.00     1    1       1      1       1           0         0\n",
       "         25.00     1    1       1      1       1           1         1\n",
       "4        0.85      1    1       1      1       1           1         1\n",
       "         1.00      1    1       1      1       1           1         0\n",
       "         4.00      1    1       1      1       1           1         0\n",
       "         5.00      1    1       1      1       1           1         0\n",
       "         6.00      1    1       1      1       1           1         0\n",
       "         8.00      1    1       1      1       1           1         0\n",
       "         15.00     1    1       1      1       1           0         0\n",
       "         20.00     1    1       1      1       1           0         0\n",
       "         33.00     1    1       1      1       1           1         1\n",
       "         39.00     1    1       1      1       1           1         1"
      ]
     },
     "execution_count": 19,
     "metadata": {},
     "output_type": "execute_result"
    }
   ],
   "source": [
    "csv.groupby([\"Position\",\"Years\"]).count()"
   ]
  },
  {
   "cell_type": "markdown",
   "metadata": {},
   "source": [
    "# Perform the fitting"
   ]
  },
  {
   "cell_type": "code",
   "execution_count": 20,
   "metadata": {
    "collapsed": true
   },
   "outputs": [],
   "source": [
    "from sklearn import linear_model"
   ]
  },
  {
   "cell_type": "code",
   "execution_count": 21,
   "metadata": {
    "collapsed": true
   },
   "outputs": [],
   "source": [
    "def score(y_real, y_model):\n",
    "    return sqrt(numpy.sum(((y_real-y_model)/y_real)**2) / len(y_real))"
   ]
  },
  {
   "cell_type": "code",
   "execution_count": 107,
   "metadata": {},
   "outputs": [],
   "source": [
    "data = csv[[\"Years\",\"Salary\",\"Age\"]].values\n",
    "values = csv[\"Delay\"].values"
   ]
  },
  {
   "cell_type": "code",
   "execution_count": 108,
   "metadata": {},
   "outputs": [
    {
     "data": {
      "text/plain": [
       "array([ 20. ,  24. ,  15. ,  20. ,  24. ,  24. ,  15. ,   5. ,  12. ,\n",
       "        10. ,  12. ,  12. ,  12. ,  10. ,  12. ,   8. ,   5.3,  24. ,\n",
       "        18. ,  24. ,  12. ,   9.5,  18. ,  24. ,  24. ,  24. ,  12. ,\n",
       "        12. ,  24. ])"
      ]
     },
     "execution_count": 108,
     "metadata": {},
     "output_type": "execute_result"
    }
   ],
   "source": [
    "values"
   ]
  },
  {
   "cell_type": "markdown",
   "metadata": {},
   "source": [
    "Delete one point which is out of range"
   ]
  },
  {
   "cell_type": "code",
   "execution_count": 109,
   "metadata": {},
   "outputs": [],
   "source": [
    "good = list(range(0, len(values)))\n",
    "good.remove(23)"
   ]
  },
  {
   "cell_type": "code",
   "execution_count": 110,
   "metadata": {},
   "outputs": [
    {
     "data": {
      "text/plain": [
       "array([ 20. ,  24. ,  15. ,  20. ,  24. ,  24. ,  15. ,   5. ,  12. ,\n",
       "        10. ,  12. ,  12. ,  12. ,  10. ,  12. ,   8. ,   5.3,  24. ,\n",
       "        18. ,  24. ,  12. ,   9.5,  18. ,  24. ,  24. ,  12. ,  12. ,  24. ])"
      ]
     },
     "execution_count": 110,
     "metadata": {},
     "output_type": "execute_result"
    }
   ],
   "source": [
    "data2 = data[good]\n",
    "values2 = values[good]\n",
    "values2"
   ]
  },
  {
   "cell_type": "markdown",
   "metadata": {},
   "source": [
    "## Linear regression"
   ]
  },
  {
   "cell_type": "code",
   "execution_count": 111,
   "metadata": {},
   "outputs": [
    {
     "data": {
      "text/plain": [
       "Ridge(alpha=0.5, copy_X=True, fit_intercept=True, max_iter=None,\n",
       "   normalize=True, random_state=None, solver='auto', tol=0.001)"
      ]
     },
     "execution_count": 111,
     "metadata": {},
     "output_type": "execute_result"
    }
   ],
   "source": [
    "ridge = linear_model.Ridge(normalize = True, alpha = 0.5)\n",
    "ridge2 = linear_model.Ridge(normalize = True, alpha = 0.5)\n",
    "ridge.fit(data, values)\n",
    "ridge2.fit(data2, values2)"
   ]
  },
  {
   "cell_type": "code",
   "execution_count": 112,
   "metadata": {},
   "outputs": [
    {
     "data": {
      "text/plain": [
       "array([  2.41113432e-01,   5.09213782e-06,   1.54338981e-01])"
      ]
     },
     "execution_count": 112,
     "metadata": {},
     "output_type": "execute_result"
    }
   ],
   "source": [
    "ridge.coef_"
   ]
  },
  {
   "cell_type": "code",
   "execution_count": 113,
   "metadata": {},
   "outputs": [
    {
     "data": {
      "text/plain": [
       "array([  2.60129751e-01,   6.19190055e-06,   1.73945052e-01])"
      ]
     },
     "execution_count": 113,
     "metadata": {},
     "output_type": "execute_result"
    }
   ],
   "source": [
    "ridge2.coef_"
   ]
  },
  {
   "cell_type": "code",
   "execution_count": 114,
   "metadata": {
    "scrolled": true
   },
   "outputs": [
    {
     "data": {
      "text/plain": [
       "[<matplotlib.lines.Line2D at 0x10c58e48>,\n",
       " <matplotlib.lines.Line2D at 0x10c58dd8>]"
      ]
     },
     "execution_count": 114,
     "metadata": {},
     "output_type": "execute_result"
    },
    {
     "data": {
      "image/png": "[encoded data removed]",
      "text/plain": [
       "<matplotlib.figure.Figure at 0x10b7e400>"
      ]
     },
     "metadata": {},
     "output_type": "display_data"
    }
   ],
   "source": [
    "pylab.plot(data[:,0], values,\"bs\", data[:,0], ridge.predict(data), \"gd\")"
   ]
  },
  {
   "cell_type": "code",
   "execution_count": 115,
   "metadata": {},
   "outputs": [
    {
     "data": {
      "text/plain": [
       "[<matplotlib.lines.Line2D at 0x10dbba58>]"
      ]
     },
     "execution_count": 115,
     "metadata": {},
     "output_type": "execute_result"
    },
    {
     "data": {
      "image/png": "[encoded data removed]",
      "text/plain": [
       "<matplotlib.figure.Figure at 0x10d83cc0>"
      ]
     },
     "metadata": {},
     "output_type": "display_data"
    }
   ],
   "source": [
    "pylab.plot(data[:,0],values-ridge.predict(data),\"kd\")"
   ]
  },
  {
   "cell_type": "code",
   "execution_count": 116,
   "metadata": {},
   "outputs": [
    {
     "data": {
      "text/plain": [
       "[<matplotlib.lines.Line2D at 0x10e1fef0>,\n",
       " <matplotlib.lines.Line2D at 0x10e29080>]"
      ]
     },
     "execution_count": 116,
     "metadata": {},
     "output_type": "execute_result"
    },
    {
     "data": {
      "image/png": "[encoded data removed]",
      "text/plain": [
       "<matplotlib.figure.Figure at 0x10d89710>"
      ]
     },
     "metadata": {},
     "output_type": "display_data"
    }
   ],
   "source": [
    "pylab.plot(values2, \"b-\", ridge2.predict(data2), \"gd\")"
   ]
  },
  {
   "cell_type": "markdown",
   "metadata": {},
   "source": [
    "Print out the score of the model"
   ]
  },
  {
   "cell_type": "code",
   "execution_count": 117,
   "metadata": {},
   "outputs": [
    {
     "name": "stdout",
     "output_type": "stream",
     "text": [
      "Score1 =  0.44283871698 Score2 =  0.43226035541\n"
     ]
    }
   ],
   "source": [
    "print(\"Score1 = \", score(values, ridge.predict(data)), \"Score2 = \", score(values2, ridge2.predict(data2)))"
   ]
  },
  {
   "cell_type": "markdown",
   "metadata": {},
   "source": [
    "## Lasso regression"
   ]
  },
  {
   "cell_type": "code",
   "execution_count": 118,
   "metadata": {},
   "outputs": [
    {
     "data": {
      "text/plain": [
       "Lasso(alpha=0.5, copy_X=True, fit_intercept=True, max_iter=1000,\n",
       "   normalize=True, positive=False, precompute=False, random_state=None,\n",
       "   selection='cyclic', tol=0.0001, warm_start=False)"
      ]
     },
     "execution_count": 118,
     "metadata": {},
     "output_type": "execute_result"
    }
   ],
   "source": [
    "lasso = linear_model.Lasso(normalize = True, alpha = 0.5)\n",
    "lasso2 = linear_model.Lasso(normalize = True, alpha = 0.5)\n",
    "lasso.fit(data, values)\n",
    "lasso2.fit(data2, values2)"
   ]
  },
  {
   "cell_type": "code",
   "execution_count": 119,
   "metadata": {},
   "outputs": [
    {
     "data": {
      "text/plain": [
       "[<matplotlib.lines.Line2D at 0x10e8b438>,\n",
       " <matplotlib.lines.Line2D at 0x10e8b588>]"
      ]
     },
     "execution_count": 119,
     "metadata": {},
     "output_type": "execute_result"
    },
    {
     "data": {
      "image/png": "[encoded data removed]",
      "text/plain": [
       "<matplotlib.figure.Figure at 0x10d98f60>"
      ]
     },
     "metadata": {},
     "output_type": "display_data"
    }
   ],
   "source": [
    "pylab.plot(values, \"b-\", lasso.predict(data), \"bd\")"
   ]
  },
  {
   "cell_type": "code",
   "execution_count": 120,
   "metadata": {},
   "outputs": [
    {
     "data": {
      "text/plain": [
       "[<matplotlib.lines.Line2D at 0x10c4b278>,\n",
       " <matplotlib.lines.Line2D at 0x10c4bc18>]"
      ]
     },
     "execution_count": 120,
     "metadata": {},
     "output_type": "execute_result"
    },
    {
     "data": {
      "image/png": "[encoded data removed]",
      "text/plain": [
       "<matplotlib.figure.Figure at 0x10e6f4a8>"
      ]
     },
     "metadata": {},
     "output_type": "display_data"
    }
   ],
   "source": [
    "pylab.plot(values2, \"b-\", lasso2.predict(data2), \"bd\")"
   ]
  },
  {
   "cell_type": "code",
   "execution_count": 121,
   "metadata": {},
   "outputs": [
    {
     "name": "stdout",
     "output_type": "stream",
     "text": [
      "Score1 =  0.598341081135 Score2 =  0.599645237819\n"
     ]
    }
   ],
   "source": [
    "print(\"Score1 = \", score(values, lasso.predict(data)), \"Score2 = \", score(values2, lasso2.predict(data2)))"
   ]
  },
  {
   "cell_type": "markdown",
   "metadata": {},
   "source": [
    "## Polynomial regression"
   ]
  },
  {
   "cell_type": "code",
   "execution_count": 122,
   "metadata": {},
   "outputs": [],
   "source": [
    "from sklearn.pipeline import Pipeline\n",
    "from sklearn.preprocessing import PolynomialFeatures"
   ]
  },
  {
   "cell_type": "code",
   "execution_count": 132,
   "metadata": {},
   "outputs": [],
   "source": [
    "model = Pipeline([('poly', PolynomialFeatures(degree = 3)), ('linear', linear_model.Ridge(normalize = True, alpha = 1.0))])\n",
    "model2 = Pipeline([('poly', PolynomialFeatures(degree = 3)), ('linear', linear_model.Ridge(normalize = True, alpha = 1.0))])\n",
    "poly = model.fit(data, values)\n",
    "poly2 = model2.fit(data2, values2)"
   ]
  },
  {
   "cell_type": "code",
   "execution_count": 133,
   "metadata": {},
   "outputs": [
    {
     "data": {
      "text/plain": [
       "[<matplotlib.lines.Line2D at 0x110eff98>,\n",
       " <matplotlib.lines.Line2D at 0x110fb4a8>]"
      ]
     },
     "execution_count": 133,
     "metadata": {},
     "output_type": "execute_result"
    },
    {
     "data": {
      "image/png": "[encoded data removed]",
      "text/plain": [
       "<matplotlib.figure.Figure at 0x110a60b8>"
      ]
     },
     "metadata": {},
     "output_type": "display_data"
    }
   ],
   "source": [
    "pylab.plot(values, \"b-\", poly.predict(data), \"kd\")"
   ]
  },
  {
   "cell_type": "code",
   "execution_count": 134,
   "metadata": {},
   "outputs": [
    {
     "data": {
      "text/plain": [
       "[<matplotlib.lines.Line2D at 0x1114ecf8>,\n",
       " <matplotlib.lines.Line2D at 0x11157208>]"
      ]
     },
     "execution_count": 134,
     "metadata": {},
     "output_type": "execute_result"
    },
    {
     "data": {
      "image/png": "[encoded data removed]",
      "text/plain": [
       "<matplotlib.figure.Figure at 0x1110cb00>"
      ]
     },
     "metadata": {},
     "output_type": "display_data"
    }
   ],
   "source": [
    "pylab.plot(values2, \"b-\", poly2.predict(data2), \"bd\")"
   ]
  },
  {
   "cell_type": "code",
   "execution_count": 135,
   "metadata": {},
   "outputs": [
    {
     "name": "stdout",
     "output_type": "stream",
     "text": [
      "Score1 =  0.457246833433 Score2 =  0.424058999035\n"
     ]
    }
   ],
   "source": [
    "print(\"Score1 = \", score(values, poly.predict(data)), \"Score2 = \", score(values2, poly2.predict(data2)))"
   ]
  },
  {
   "cell_type": "markdown",
   "metadata": {},
   "source": [
    "## Decision tree regression"
   ]
  },
  {
   "cell_type": "code",
   "execution_count": 136,
   "metadata": {
    "collapsed": true
   },
   "outputs": [],
   "source": [
    "from sklearn.tree import DecisionTreeRegressor"
   ]
  },
  {
   "cell_type": "code",
   "execution_count": 137,
   "metadata": {},
   "outputs": [
    {
     "data": {
      "text/plain": [
       "DecisionTreeRegressor(criterion='mse', max_depth=3, max_features=None,\n",
       "           max_leaf_nodes=None, min_impurity_decrease=0.0,\n",
       "           min_impurity_split=None, min_samples_leaf=1,\n",
       "           min_samples_split=2, min_weight_fraction_leaf=0.0,\n",
       "           presort=False, random_state=None, splitter='best')"
      ]
     },
     "execution_count": 137,
     "metadata": {},
     "output_type": "execute_result"
    }
   ],
   "source": [
    "tree = DecisionTreeRegressor(max_depth = 3)\n",
    "tree2 = DecisionTreeRegressor(max_depth = 3)\n",
    "tree.fit(data, values)\n",
    "tree2.fit(data2, values2)"
   ]
  },
  {
   "cell_type": "code",
   "execution_count": 138,
   "metadata": {},
   "outputs": [
    {
     "data": {
      "text/plain": [
       "[<matplotlib.lines.Line2D at 0x111ada58>,\n",
       " <matplotlib.lines.Line2D at 0x111adf28>]"
      ]
     },
     "execution_count": 138,
     "metadata": {},
     "output_type": "execute_result"
    },
    {
     "data": {
      "image/png": "[encoded data removed]",
      "text/plain": [
       "<matplotlib.figure.Figure at 0x1116add8>"
      ]
     },
     "metadata": {},
     "output_type": "display_data"
    }
   ],
   "source": [
    "pylab.plot(values, \"b-\", tree.predict(data), \"bd\")"
   ]
  },
  {
   "cell_type": "code",
   "execution_count": 139,
   "metadata": {},
   "outputs": [
    {
     "data": {
      "text/plain": [
       "[<matplotlib.lines.Line2D at 0x11215748>,\n",
       " <matplotlib.lines.Line2D at 0x11215c18>]"
      ]
     },
     "execution_count": 139,
     "metadata": {},
     "output_type": "execute_result"
    },
    {
     "data": {
      "image/png": "[encoded data removed]",
      "text/plain": [
       "<matplotlib.figure.Figure at 0x1110cf60>"
      ]
     },
     "metadata": {},
     "output_type": "display_data"
    }
   ],
   "source": [
    "pylab.plot(values2, \"b-\", tree2.predict(data2), \"bd\")"
   ]
  },
  {
   "cell_type": "code",
   "execution_count": 140,
   "metadata": {},
   "outputs": [
    {
     "name": "stdout",
     "output_type": "stream",
     "text": [
      "<class 'pandas.core.frame.DataFrame'>\n",
      "RangeIndex: 29 entries, 0 to 28\n",
      "Data columns (total 9 columns):\n",
      "Case          29 non-null object\n",
      "Years         29 non-null float64\n",
      "Position      29 non-null int64\n",
      "Age           29 non-null int64\n",
      "Salary        29 non-null float64\n",
      "Delay         29 non-null float64\n",
      "Damage        29 non-null float64\n",
      "Difficulty    21 non-null object\n",
      "Job type      10 non-null object\n",
      "dtypes: float64(4), int64(2), object(3)\n",
      "memory usage: 2.1+ KB\n"
     ]
    }
   ],
   "source": [
    "csv.info()"
   ]
  },
  {
   "cell_type": "code",
   "execution_count": 158,
   "metadata": {},
   "outputs": [
    {
     "data": {
      "text/plain": [
       "array([ 5.3])"
      ]
     },
     "execution_count": 158,
     "metadata": {},
     "output_type": "execute_result"
    }
   ],
   "source": [
    "tree.predict([[17.0,40000.0,34]])"
   ]
  },
  {
   "cell_type": "code",
   "execution_count": 64,
   "metadata": {},
   "outputs": [],
   "source": [
    "import graphviz"
   ]
  },
  {
   "cell_type": "code",
   "execution_count": 142,
   "metadata": {},
   "outputs": [
    {
     "data": {
      "text/plain": [
       "array([ 0.71532267,  0.00357932,  0.28109801])"
      ]
     },
     "execution_count": 142,
     "metadata": {},
     "output_type": "execute_result"
    }
   ],
   "source": [
    "tree.feature_importances_"
   ]
  },
  {
   "cell_type": "code",
   "execution_count": 143,
   "metadata": {},
   "outputs": [
    {
     "data": {
      "text/plain": [
       "array([ 0.70401581,  0.00380502,  0.29217917])"
      ]
     },
     "execution_count": 143,
     "metadata": {},
     "output_type": "execute_result"
    }
   ],
   "source": [
    "tree2.feature_importances_"
   ]
  },
  {
   "cell_type": "code",
   "execution_count": 144,
   "metadata": {},
   "outputs": [
    {
     "name": "stdout",
     "output_type": "stream",
     "text": [
      "Score1 =  0.119569625961 Score2 =  0.119579638303\n"
     ]
    }
   ],
   "source": [
    "print(\"Score1 = \", score(values, tree.predict(data)), \"Score2 = \", score(values2, tree2.predict(data2)))"
   ]
  },
  {
   "cell_type": "code",
   "execution_count": 145,
   "metadata": {
    "collapsed": true
   },
   "outputs": [],
   "source": [
    "def get_code(tree, feature_names, target_names,\n",
    "             spacer_base=\"    \"):\n",
    "    \"\"\"Produce psuedo-code for decision tree.\n",
    "\n",
    "    Args\n",
    "    ----\n",
    "    tree -- scikit-leant DescisionTree.\n",
    "    feature_names -- list of feature names.\n",
    "    target_names -- list of target (class) names.\n",
    "    spacer_base -- used for spacing code (default: \"    \").\n",
    "\n",
    "    Notes\n",
    "    -----\n",
    "    based on http://stackoverflow.com/a/30104792.\n",
    "    \"\"\"\n",
    "    left      = tree.tree_.children_left\n",
    "    right     = tree.tree_.children_right\n",
    "    threshold = tree.tree_.threshold\n",
    "    features  = [feature_names[i] for i in tree.tree_.feature]\n",
    "    value = tree.tree_.value\n",
    "\n",
    "    def recurse(left, right, threshold, features, node, depth):\n",
    "        spacer = spacer_base * depth\n",
    "        if (threshold[node] != -2):\n",
    "            print(spacer + \"if ( \" + features[node] + \" <= \" + \\\n",
    "                  str(threshold[node]) + \" ) {\")\n",
    "            if left[node] != -1:\n",
    "                    recurse(left, right, threshold, features,\n",
    "                            left[node], depth+1)\n",
    "            print(spacer + \"}\\n\" + spacer +\"else {\")\n",
    "            if right[node] != -1:\n",
    "                    recurse(left, right, threshold, features,\n",
    "                            right[node], depth+1)\n",
    "            print(spacer + \"}\")\n",
    "        else:\n",
    "            target = value[node]\n",
    "            for i, v in zip(np.nonzero(target)[1],\n",
    "                            target[np.nonzero(target)]):\n",
    "                target_name = target_names[i]\n",
    "                target_count = int(v)\n",
    "                print(spacer + \"return \" + str(target_name) + \\\n",
    "                      \" = \" + str(target_count))\n",
    "\n",
    "    recurse(left, right, threshold, features, 0, 0)"
   ]
  },
  {
   "cell_type": "code",
   "execution_count": 146,
   "metadata": {},
   "outputs": [
    {
     "name": "stdout",
     "output_type": "stream",
     "text": [
      "if ( Years <= 7.0 ) {\n",
      "    if ( Age <= 44.5 ) {\n",
      "        if ( Age <= 42.0 ) {\n",
      "            return Delay = 5\n",
      "        }\n",
      "        else {\n",
      "            return Delay = 8\n",
      "        }\n",
      "    }\n",
      "    else {\n",
      "        if ( Salary <= 95597.0 ) {\n",
      "            return Delay = 10\n",
      "        }\n",
      "        else {\n",
      "            return Delay = 12\n",
      "        }\n",
      "    }\n",
      "}\n",
      "else {\n",
      "    if ( Age <= 39.5 ) {\n",
      "        return Delay = 5\n",
      "    }\n",
      "    else {\n",
      "        if ( Years <= 13.5 ) {\n",
      "            return Delay = 16\n",
      "        }\n",
      "        else {\n",
      "            return Delay = 22\n",
      "        }\n",
      "    }\n",
      "}\n"
     ]
    }
   ],
   "source": [
    "get_code(tree, [\"Years\",\"Salary\",\"Age\"], [\"Delay\"])"
   ]
  },
  {
   "cell_type": "markdown",
   "metadata": {},
   "source": [
    "# Splitting to test and train data"
   ]
  },
  {
   "cell_type": "code",
   "execution_count": 154,
   "metadata": {},
   "outputs": [
    {
     "name": "stderr",
     "output_type": "stream",
     "text": [
      "C:\\Users\\User\\Anaconda3\\lib\\site-packages\\sklearn\\model_selection\\_split.py:2026: FutureWarning: From version 0.21, test_size will always complement train_size unless both are specified.\n",
      "  FutureWarning)\n"
     ]
    }
   ],
   "source": [
    "from sklearn.model_selection import train_test_split\n",
    "X_train, X_test, y_train, y_test = train_test_split(data2, values2, train_size=0.75)"
   ]
  },
  {
   "cell_type": "code",
   "execution_count": 153,
   "metadata": {},
   "outputs": [
    {
     "data": {
      "text/plain": [
       "DecisionTreeRegressor(criterion='mse', max_depth=3, max_features=None,\n",
       "           max_leaf_nodes=None, min_impurity_decrease=0.0,\n",
       "           min_impurity_split=None, min_samples_leaf=1,\n",
       "           min_samples_split=2, min_weight_fraction_leaf=0.0,\n",
       "           presort=False, random_state=None, splitter='best')"
      ]
     },
     "execution_count": 153,
     "metadata": {},
     "output_type": "execute_result"
    }
   ],
   "source": [
    "poly_model = Pipeline([('poly', PolynomialFeatures(degree = 2)), ('linear', linear_model.Ridge(normalize = True, alpha = 1.0))])\n",
    "lasso_model = linear_model.Lasso(normalize = True, alpha = 0.5)\n",
    "tree_model = DecisionTreeRegressor(max_depth = 3)\n",
    "\n",
    "poly_model.fit(X_train, y_train)\n",
    "lasso_model.fit(X_train, y_train)\n",
    "tree_model.fit(X_train, y_train)"
   ]
  },
  {
   "cell_type": "code",
   "execution_count": 155,
   "metadata": {},
   "outputs": [
    {
     "name": "stdout",
     "output_type": "stream",
     "text": [
      "Score Poly =  0.757811549282 Score Lasso =  1.08330827092 Score Tree =  0.163835914226\n"
     ]
    }
   ],
   "source": [
    "print(\"Score Poly = \", score(y_test, poly_model.predict(X_test)), \n",
    "      \"Score Lasso = \", score(y_test, lasso_model.predict(X_test)),\n",
    "      \"Score Tree = \", score(y_test, tree_model.predict(X_test)))"
   ]
  },
  {
   "cell_type": "code",
   "execution_count": 156,
   "metadata": {},
   "outputs": [
    {
     "data": {
      "text/plain": [
       "<matplotlib.legend.Legend at 0x11266a90>"
      ]
     },
     "execution_count": 156,
     "metadata": {},
     "output_type": "execute_result"
    },
    {
     "data": {
      "image/png": "[encoded data removed]",
      "text/plain": [
       "<matplotlib.figure.Figure at 0x11266668>"
      ]
     },
     "metadata": {},
     "output_type": "display_data"
    }
   ],
   "source": [
    "pylab.plot(y_test, \"bd-\", poly_model.predict(X_test), \"g-\", lasso_model.predict(X_test), \"k-\", tree_model.predict(X_test), \"r-\")\n",
    "pylab.legend([\"Original\", \"Poly\", \"Lasso\", \"Tree\"])"
   ]
  },
  {
   "cell_type": "code",
   "execution_count": null,
   "metadata": {
    "collapsed": true
   },
   "outputs": [],
   "source": []
  }
 ],
 "metadata": {
  "kernelspec": {
   "display_name": "Python 3",
   "language": "python",
   "name": "python3"
  },
  "language_info": {
   "codemirror_mode": {
    "name": "ipython",
    "version": 3
   },
   "file_extension": ".py",
   "mimetype": "text/x-python",
   "name": "python",
   "nbconvert_exporter": "python",
   "pygments_lexer": "ipython3",
   "version": "3.6.3"
  }
 },
 "nbformat": 4,
 "nbformat_minor": 2
}
